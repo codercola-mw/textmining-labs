{
 "cells": [
  {
   "cell_type": "markdown",
   "metadata": {},
   "source": [
    "# L3: Text clustering and topic modelling"
   ]
  },
  {
   "cell_type": "markdown",
   "metadata": {},
   "source": [
    "Text clustering groups documents in such a way that documents within a group are more &lsquo;similar&rsquo; to other documents in the cluster than to documents not in the cluster. The exact definition of what &lsquo;similar&rsquo; means in this context varies across applications and clustering algorithms.\n",
    "\n",
    "In this lab you will experiment with both hard and soft clustering techniques. More specifically, in the first part you will be using the $k$-means algorithm, and in the second part you will be using a topic model based on the Latent Dirichlet Allocation (LDA)."
   ]
  },
  {
   "cell_type": "markdown",
   "metadata": {},
   "source": [
    "## Hard clustering data set"
   ]
  },
  {
   "cell_type": "markdown",
   "metadata": {},
   "source": [
    "The raw data for the hard clustering part of this lab is a collection of product reviews. We have preprocessed the data by tokenization and lowercasing."
   ]
  },
  {
   "cell_type": "code",
   "execution_count": 131,
   "metadata": {},
   "outputs": [],
   "source": [
    "import pandas as pd\n",
    "import bz2\n",
    "\n",
    "with bz2.open('reviews.json.bz2') as source:\n",
    "    df = pd.read_json(source)"
   ]
  },
  {
   "cell_type": "markdown",
   "metadata": {},
   "source": [
    "When you inspect the data frame, you can see that there are three labelled columns: `category` (the product category), `sentiment` (whether the product review was classified as &lsquo;positive&rsquo; or &lsquo;negative&rsquo; towards the product), and `text` (the space-separated text of the review)."
   ]
  },
  {
   "cell_type": "code",
   "execution_count": 143,
   "metadata": {},
   "outputs": [
    {
     "data": {
      "text/plain": [
       "array(['music', 'books', 'dvd', 'camera', 'health', 'software'],\n",
       "      dtype=object)"
      ]
     },
     "execution_count": 143,
     "metadata": {},
     "output_type": "execute_result"
    }
   ],
   "source": [
    "df['category'].unique()\n",
    "#df.shape\n"
   ]
  },
  {
   "cell_type": "markdown",
   "metadata": {},
   "source": [
    "## Problem 1: K-means clustering"
   ]
  },
  {
   "cell_type": "markdown",
   "metadata": {},
   "source": [
    "Your first task is to cluster the product review data using a tf–idf vectorizer and a $k$-means clusterer."
   ]
  },
  {
   "cell_type": "markdown",
   "metadata": {},
   "source": [
    "Start by doing the vectorization. In connection with vectorization, you should also filter out standard English stop words. While you could use [spaCy](https://spacy.io/) for this task, here it suffices to use the word list implemented in [TfidfVectorizer](https://scikit-learn.org/stable/modules/generated/sklearn.feature_extraction.text.TfidfVectorizer.html)."
   ]
  },
  {
   "cell_type": "code",
   "execution_count": 15,
   "metadata": {},
   "outputs": [],
   "source": [
    "# TODO: Enter code here to vectorize the data and store it in a variable `reviews`\n",
    "import spacy\n",
    "from sklearn.feature_extraction.text import TfidfVectorizer\n",
    "\n",
    "#nlp = spacy.load(\"en_core_web_sm\",disable=[\"tagger\", \"parser\"])\n",
    "#def preprocess(text):\n",
    "#    doc = nlp(text)\n",
    "#    return [token.lemma_ for token in doc if token.is_stop == False]\n",
    "\n",
    "\n",
    "tfidf_vectorizer=TfidfVectorizer(stop_words='english')\n",
    "reviews = tfidf_vectorizer.fit_transform(df['text'])"
   ]
  },
  {
   "cell_type": "markdown",
   "metadata": {},
   "source": [
    "Test your vectorization by running the following code cell:"
   ]
  },
  {
   "cell_type": "code",
   "execution_count": 16,
   "metadata": {},
   "outputs": [
    {
     "data": {
      "text/plain": [
       "(11914, 46619)"
      ]
     },
     "execution_count": 16,
     "metadata": {},
     "output_type": "execute_result"
    }
   ],
   "source": [
    "reviews.shape"
   ]
  },
  {
   "cell_type": "markdown",
   "metadata": {},
   "source": [
    "If you used the English stop word list from scikit-learn, then the resulting vocabulary should have 46,619 entries."
   ]
  },
  {
   "cell_type": "markdown",
   "metadata": {},
   "source": [
    "Next, cluster the vectorized data. Before doing so, you should read the documentation of the [KMeans](https://scikit-learn.org/stable/modules/generated/sklearn.cluster.KMeans.html) class, which is scikit-learn&rsquo;s implementation of the $k$-means algorithm. As you can see, this class has several parameters that you can tweak. For now, the only parameter that you will have to set is the number of clusters. We recommend that you choose $k=3$.\n",
    "\n",
    "**Tip:** Training $k$-means models will take some time. To speed things up, you can use the `n_init` parameter to control the number of times that the clustering is re-computed with different initial values. The default value for this parameter is 10; here and in the rest of this lab, you may want to set this to a lower value."
   ]
  },
  {
   "cell_type": "code",
   "execution_count": 149,
   "metadata": {},
   "outputs": [
    {
     "data": {
      "text/plain": [
       "KMeans(algorithm='auto', copy_x=True, init='k-means++', max_iter=300,\n",
       "       n_clusters=3, n_init=2, n_jobs=None, precompute_distances='auto',\n",
       "       random_state=None, tol=0.0001, verbose=0)"
      ]
     },
     "execution_count": 149,
     "metadata": {},
     "output_type": "execute_result"
    }
   ],
   "source": [
    "# TODO: Enter code here to cluster the vectorized data\n",
    "from sklearn.cluster import KMeans\n",
    "\n",
    "kmeans = KMeans(n_clusters=3, n_init=2).fit(reviews)"
   ]
  },
  {
   "cell_type": "markdown",
   "metadata": {},
   "source": [
    "To sanity-check your clustering, create a bar plot with the number of documents per cluster."
   ]
  },
  {
   "cell_type": "code",
   "execution_count": 42,
   "metadata": {
    "scrolled": true
   },
   "outputs": [
    {
     "data": {
      "text/plain": [
       "<matplotlib.axes._subplots.AxesSubplot at 0x7fc45467f1d0>"
      ]
     },
     "execution_count": 42,
     "metadata": {},
     "output_type": "execute_result"
    },
    {
     "data": {
      "image/png": "[encoded data removed]",
      "text/plain": [
       "<Figure size 432x288 with 1 Axes>"
      ]
     },
     "metadata": {
      "needs_background": "light"
     },
     "output_type": "display_data"
    }
   ],
   "source": [
    "# TODO: Enter code here to produce a bar plot of the cluster size\n",
    "import collections\n",
    "import matplotlib.pyplot as plt\n",
    "\n",
    "\n",
    "labels = collections.Counter(kmeans.labels_)\n",
    "\n",
    "cluster = pd.DataFrame({\"cluster\":labels})\n",
    "cluster.plot.bar()\n",
    "\n"
   ]
  },
  {
   "cell_type": "markdown",
   "metadata": {},
   "source": [
    "Note that sizes may vary considerable between clusters and among different random seeds."
   ]
  },
  {
   "cell_type": "markdown",
   "metadata": {},
   "source": [
    "## Problem 2: Summarize clusters"
   ]
  },
  {
   "cell_type": "markdown",
   "metadata": {},
   "source": [
    "Once you have a clustering, you can try to see whether it is meaningful. One useful technique in that context is to generate a **summary** for each cluster by extracting the $n$ highest-weighted terms from the centroid of each cluster. Your next task is to implement this approach.\n",
    "\n",
    "**Hint:** You will need to construct an &lsquo;inverted vocabulary&rsquo; that allows you to map from the index of a term back to the original term."
   ]
  },
  {
   "cell_type": "code",
   "execution_count": 128,
   "metadata": {},
   "outputs": [
    {
     "name": "stdout",
     "output_type": "stream",
     "text": [
      "0\n",
      "['good', 'work', 'just', 'used', 'program', 'great', 'does', 'software', 'use', 'product']\n",
      "1\n",
      "['great', 'quality', 'battery', 'flash', 'use', 'digital', 'canon', 'pictures', 'lens', 'camera']\n",
      "2\n",
      "['film', 'great', 'quot', 'music', 'just', 'cd', 'like', 'album', 'movie', 'book']\n"
     ]
    }
   ],
   "source": [
    "# TODO: Enter code here to compute the cluster summaries and print them\n",
    "\n",
    "vocab = tfidf_vectorizer.vocabulary_\n",
    "vocab2 = {val:key for key,val in vocab.items()}\n",
    "\n",
    "ind = np.argsort(kmeans.cluster_centers_, axis=1)[:,-10:]\n",
    "\n",
    "#map ind to vocab\n",
    "for cluster,index in enumerate(ind):\n",
    "    print(cluster)\n",
    "    print( [ vocab2[j] for j in index ])\n",
    "    \n"
   ]
  },
  {
   "cell_type": "markdown",
   "metadata": {},
   "source": [
    "Once you have computed the cluster summaries, discuss their quality. Is it clear what the reviews in a given cluster are about? Which clusters are clearest? Which are less clear? Do the cluster summaries contain any unexpected terms? What happens if you re-cluster with, say, $k=6$?"
   ]
  },
  {
   "cell_type": "markdown",
   "metadata": {},
   "source": [
    "*TODO: Insert your analysis of the clusters here*\n",
    "\n",
    "\"music, book , dvd\"\n",
    "The summaries of these cluster are not very clear, the quality of the clusters are very low. The cluster 1 and 3 are not clear, the words are mixed with various categories.\n",
    "The clearest cluster is cluster2, because we can guess from this cluster should belongs to the CAMERA category.\n",
    "\n",
    "So if we re-cluster with k=6, it would be better because the given data has 6 categories"
   ]
  },
  {
   "cell_type": "markdown",
   "metadata": {},
   "source": [
    "## Problem 3: Compare clusterings using the Rand index"
   ]
  },
  {
   "cell_type": "markdown",
   "metadata": {},
   "source": [
    "In some scenarios, you may have gold-standard class labels available for at least a subset of your documents. In these cases you can compute the **Rand index** of a clustering, and use this measure to compare the quality of different clusterings.\n",
    "\n",
    "To compute the Rand index, we view a clustering as a binary classifier on (unordered) pairs of documents. The classifier predicts &lsquo;positive&rsquo; if and only if the two documents belong to the same cluster. The (non-normalized) Rand index of the clustering is the accuracy of this classifier relative to a reference in which a document pair belongs to the &lsquo;positive&rsquo; class if and only if the two documents in the pair have the same gold-standard class label.\n",
    "\n",
    "Compare clusterings with $k \\in \\{1,3,5,7\\}$ clusters. As your evaluation data, use the first 500 documents from the original data set along with their gold-standard categories (from the `category` column). What do you observe? How do you interpret your observations?"
   ]
  },
  {
   "cell_type": "code",
   "execution_count": 232,
   "metadata": {},
   "outputs": [
    {
     "name": "stdout",
     "output_type": "stream",
     "text": [
      "k = 1\n",
      "rand_index = 0.16032064128256512\n",
      "k = 3\n",
      "rand_index = 0.6132264529058116\n",
      "k = 5\n",
      "rand_index = 0.7254509018036072\n",
      "k = 7\n",
      "rand_index = 0.8056112224448898\n"
     ]
    }
   ],
   "source": [
    "# TODO: Enter code here to compute the Rand indices for the two clusterings\n",
    "\n",
    "def rand_index(true, pred):\n",
    "    \n",
    "    tp,fn,fp,tn = 0,0,0,0\n",
    "    \n",
    "    for i in range(len(true)-1):\n",
    "        if true[i]==true[i+1] and pred[i]==pred[i+1]: \n",
    "            tp += 1\n",
    "                  \n",
    "        if true[i]==true[i+1] and pred[i]!=pred[i+1]:\n",
    "            fn += 1\n",
    "        \n",
    "        if true[i]!=true[i+1] and pred[i]==pred[i+1]:\n",
    "            fp += 1\n",
    "        \n",
    "        if true[i]!=true[i+1] and pred[i]!=pred[i+1]:\n",
    "            tn += 1\n",
    "    \n",
    "    rand_ind = (tp+tn)/(tp+fn+fp+tn)\n",
    "    \n",
    "    return(rand_ind)\n",
    "\n",
    "ks=np.array(([1,3,5,7])) \n",
    "\n",
    "train = reviews[0:500]\n",
    "trueLabel = np.array(df[0:500]['category'])\n",
    "\n",
    "\n",
    "for k in ks:\n",
    "    \n",
    "    kmeans = KMeans(n_clusters=k, n_init=2).fit(train)\n",
    "    \n",
    "    rand_ind = rand_index(true=trueLabel,pred=kmeans.labels_)\n",
    "    print(\"k =\",k)\n",
    "    print(\"rand_index =\" ,rand_ind)\n",
    "\n",
    "\n",
    "\n"
   ]
  },
  {
   "cell_type": "markdown",
   "metadata": {},
   "source": [
    "*TODO: Insert your discussion of your results here*"
   ]
  },
  {
   "cell_type": "markdown",
   "metadata": {},
   "source": [
    "## Topic modelling data set"
   ]
  },
  {
   "cell_type": "markdown",
   "metadata": {},
   "source": [
    "The data set for the topic modelling part of this lab is the collection of all [State of the Union](https://en.wikipedia.org/wiki/State_of_the_Union) addresses from the years 1975–2000. These speeches come as a single text file with one sentence per line. The following code cell prints the first 5 lines from the data file:"
   ]
  },
  {
   "cell_type": "code",
   "execution_count": 138,
   "metadata": {},
   "outputs": [
    {
     "name": "stdout",
     "output_type": "stream",
     "text": [
      "mr speaker mr vice president members of the 94th congress and distinguished guests\n",
      "twenty six years ago a freshman congressman a young fellow with lots of idealism who was out to change the world stood before sam rayburn in the well of the house and solemnly swore to the same oath that all of you took yesterday an unforgettable experience and i congratulate you all\n",
      "two days later that same freshman stood at the back of this great chamber over there someplace as president truman all charged up by his single handed election victory reported as the constitution requires on the state of the union\n",
      "when the bipartisan applause stopped president truman said i am happy to report to this 81st congress that the state of the union is good our nation is better able than ever before to meet the needs of the american people and to give them their fair chance in the pursuit of happiness it is foremost among the nations of the world in the search for peace\n",
      "today that freshman member from michigan stands where mr truman stood and i must say to you that the state of the union is not good\n",
      "millions of americans are out of work\n"
     ]
    }
   ],
   "source": [
    "with open('sotu_1975_2000.txt') as source:\n",
    "    for i, line in enumerate(source):\n",
    "        print(line.rstrip())\n",
    "        if i >= 5:\n",
    "            break"
   ]
  },
  {
   "cell_type": "markdown",
   "metadata": {},
   "source": [
    "Take a few minutes to think about what topics you would expect in this data set."
   ]
  },
  {
   "cell_type": "markdown",
   "metadata": {},
   "source": [
    "## Problem 4: Train a topic model"
   ]
  },
  {
   "cell_type": "markdown",
   "metadata": {},
   "source": [
    "Your first task on the topic modelling data is to train an LDA model. For this task you will be using [spaCy](https://spacy.io/) and the [gensim](https://radimrehurek.com/gensim/) topic modelling library.\n",
    "\n",
    "Start by preprocessing the data using spaCy. Given that the data set for this problem is rather small, you do not have to exclude any components from the standard pipeline. Filter out stop words, non-alphabetic tokens, and tokens less than 3 characters in length. Store the documents as a nested list where the first level of nesting corresponds to the sentences and the second level corresponds to the tokens in each sentence."
   ]
  },
  {
   "cell_type": "code",
   "execution_count": 11,
   "metadata": {},
   "outputs": [],
   "source": [
    "# TODO: Replace the following lines with your own code for preprocessing the documents\n",
    "\n",
    "import spacy\n",
    "\n",
    "nlp = spacy.load(\"en_core_web_sm\",disable=[\"tagger\", \"parser\"])\n",
    "\n",
    "def preprocess(text):\n",
    "    \n",
    "    doc = nlp(text)\n",
    "    return [token.lemma_ for token in doc if token.is_stop == False and token.is_alpha ==True and len(token)>=3]\n",
    "\n",
    "\n",
    "\n",
    "with open('sotu_1975_2000.txt') as source:\n",
    "    documents = [preprocess(line) for line in source]\n",
    "\n"
   ]
  },
  {
   "cell_type": "markdown",
   "metadata": {},
   "source": [
    "Test your preprocessing by running the following cell:"
   ]
  },
  {
   "cell_type": "code",
   "execution_count": 242,
   "metadata": {},
   "outputs": [
    {
     "data": {
      "text/plain": [
       "'reduce oil import million barrel day end year million barrel day end'"
      ]
     },
     "execution_count": 242,
     "metadata": {},
     "output_type": "execute_result"
    }
   ],
   "source": [
    "' '.join(documents[42])"
   ]
  },
  {
   "cell_type": "markdown",
   "metadata": {},
   "source": [
    "You should get the following output:"
   ]
  },
  {
   "cell_type": "raw",
   "metadata": {},
   "source": [
    "'reduce oil imports million barrels day end year million barrels day end'"
   ]
  },
  {
   "cell_type": "markdown",
   "metadata": {},
   "source": [
    "Once you have the list of documents, skim the section [Pre-process and vectorize the documents](https://radimrehurek.com/gensim/auto_examples/tutorials/run_lda.html#pre-process-and-vectorize-the-documents) of the gensim documentation to learn how to create the dictionary and the vectorized corpus representation required by gensim. (Note that you cannot use the standard scikit-learn pipeline in this case.) Then, write code to train an [LdaModel](https://radimrehurek.com/gensim/models/ldamodel.html) for $k=10$ topics, and using default values for all other parameters."
   ]
  },
  {
   "cell_type": "code",
   "execution_count": 13,
   "metadata": {},
   "outputs": [],
   "source": [
    "# TODO: Enter code here to train an LDA model and store it in a variable `model`\n",
    "\n",
    "\n",
    "from gensim.models import Phrases\n",
    "from gensim.corpora import Dictionary\n",
    "from gensim.models import LdaModel\n",
    "\n",
    "# Add bigrams and trigrams to docs (only ones that appear 20 times or more).\n",
    "bigram = Phrases(documents, min_count=20)\n",
    "for idx in range(len(documents)):\n",
    "    for token in bigram[documents[idx]]:\n",
    "        if '_' in token:\n",
    "            # Token is a bigram, add to document.\n",
    "            documents[idx].append(token)\n",
    "\n",
    "\n",
    "\n",
    "# Create a dictionary representation of the documents.\n",
    "dictionary = Dictionary(documents)\n",
    "\n",
    "dictionary.filter_extremes(no_below=20, no_above=0.5)\n",
    "\n",
    "#vectorizced corpus representation\n",
    "vectorized_corpus = [dictionary.doc2bow(text) for text in documents]\n",
    "\n",
    "\n",
    "# Train the model on the corpus.\n",
    "model = LdaModel(vectorized_corpus, num_topics=10)"
   ]
  },
  {
   "cell_type": "code",
   "execution_count": 14,
   "metadata": {},
   "outputs": [],
   "source": [
    "\n",
    "# to train LDA model.\n",
    "\n",
    "from gensim.models import LdaModel\n",
    "\n",
    "# Make a index to word dictionary.\n",
    "temp = dictionary[0]  # This is only to \"load\" the dictionary.\n",
    "id2word = dictionary.id2token\n",
    "\n",
    "\n",
    "\n",
    "model = LdaModel(\n",
    "    corpus=vectorized_corpus,\n",
    "    id2word=id2word,\n",
    "    num_topics=10\n",
    "    \n",
    ")"
   ]
  },
  {
   "cell_type": "markdown",
   "metadata": {},
   "source": [
    "Once you have a trained model, run the following cell to print the topics:"
   ]
  },
  {
   "cell_type": "code",
   "execution_count": 268,
   "metadata": {},
   "outputs": [
    {
     "data": {
      "text/plain": [
       "[(0,\n",
       "  '0.291*\"long_term\" + 0.122*\"tax_credit\" + 0.085*\"tax_cut\" + 0.078*\"interest_rate\" + 0.075*\"white_house\" + 0.074*\"economic_growth\" + 0.063*\"american_people\" + 0.061*\"social_security\" + 0.012*\"health_care\" + 0.012*\"federal_government_federal_government\"'),\n",
       " (1,\n",
       "  '0.186*\"fellow_americans\" + 0.186*\"health_care\" + 0.126*\"health_insurance\" + 0.071*\"welfare_reform\" + 0.061*\"economic_growth\" + 0.043*\"god_bless\" + 0.042*\"balance_budget\" + 0.035*\"balance_budget_balance_budget\" + 0.034*\"young_people\" + 0.030*\"economic_growth_economic_growth\"'),\n",
       " (2,\n",
       "  '0.202*\"vice_president\" + 0.160*\"low_income\" + 0.142*\"congress_pass\" + 0.105*\"private_sector\" + 0.058*\"past_year\" + 0.052*\"unite_state\" + 0.051*\"year_ago\" + 0.045*\"persian_gulf\" + 0.026*\"year_ago_year_ago\" + 0.023*\"tax_credit\"'),\n",
       " (3,\n",
       "  '0.493*\"american_people\" + 0.058*\"foreign_policy\" + 0.057*\"middle_east\" + 0.048*\"state_union\" + 0.027*\"balance_budget_balance_budget_balance_budget\" + 0.021*\"middle_east_middle_east\" + 0.018*\"million_americans\" + 0.017*\"soviet_union\" + 0.016*\"fellow_americans\" + 0.016*\"human_right\"'),\n",
       " (4,\n",
       "  '0.234*\"past_year\" + 0.206*\"tax_credit\" + 0.125*\"million_americans\" + 0.125*\"meet_challenge\" + 0.056*\"ask_congress\" + 0.046*\"state_union\" + 0.022*\"balance_budget_balance_budget\" + 0.018*\"welfare_reform\" + 0.016*\"health_care\" + 0.013*\"economic_growth\"'),\n",
       " (5,\n",
       "  '0.168*\"young_people\" + 0.088*\"state_union\" + 0.071*\"social_security_social_security\" + 0.062*\"health_care_health_care\" + 0.059*\"health_care\" + 0.055*\"state_union_state_union\" + 0.039*\"million_americans\" + 0.038*\"health_care_health_care_health_care_health_care_health_care_health_care_health_care_health_care\" + 0.023*\"white_house\" + 0.021*\"health_care_health_care_health_care_health_care_health_care_health_care_health_care_health_care_health_care_health_care_health_care_health_care_health_care_health_care_health_care_health_care\"'),\n",
       " (6,\n",
       "  '0.303*\"unite_state\" + 0.240*\"balance_budget\" + 0.044*\"tax_cut\" + 0.043*\"man_woman\" + 0.039*\"past_year\" + 0.030*\"american_people\" + 0.023*\"nuclear_weapon\" + 0.022*\"human_right\" + 0.017*\"unite_state_unite_state\" + 0.016*\"economic_growth\"'),\n",
       " (7,\n",
       "  '0.224*\"social_security\" + 0.125*\"member_congress\" + 0.114*\"social_security_social_security\" + 0.101*\"private_sector\" + 0.075*\"federal_government\" + 0.052*\"common_sense\" + 0.046*\"vice_president\" + 0.036*\"take_office\" + 0.031*\"fellow_americans\" + 0.027*\"social_security_social_security_social_security_social_security_social_security_social_security_social_security_social_security\"'),\n",
       " (8,\n",
       "  '0.392*\"year_ago\" + 0.123*\"million_americans\" + 0.069*\"fellow_citizen\" + 0.061*\"soviet_union\" + 0.046*\"state_local\" + 0.023*\"interest_rate\" + 0.023*\"unite_state\" + 0.023*\"tax_cut_tax_cut\" + 0.018*\"past_year\" + 0.017*\"state_union\"'),\n",
       " (9,\n",
       "  '0.304*\"ask_congress\" + 0.262*\"cold_war\" + 0.080*\"federal_government\" + 0.053*\"american_people\" + 0.043*\"federal_government_federal_government\" + 0.031*\"past_year\" + 0.031*\"nuclear_weapon\" + 0.031*\"take_office\" + 0.017*\"year_ago\" + 0.015*\"state_union\"')]"
      ]
     },
     "execution_count": 268,
     "metadata": {},
     "output_type": "execute_result"
    }
   ],
   "source": [
    "model.print_topics()"
   ]
  },
  {
   "cell_type": "markdown",
   "metadata": {},
   "source": [
    "Inspect the topics. Can you &lsquo;label&rsquo; each topic with a short description of what it is about? Do the topics match your expectations? Summarize your discussion in a short text."
   ]
  },
  {
   "cell_type": "markdown",
   "metadata": {},
   "source": [
    "*TODO: Insert your discussion of the topics here*\n",
    "\n",
    "The genearl topic is the speech to the new congress member, focus on the topics of economic, dipomatic, health care, social seurity and social welfare. From the classification above, we can guess the topics are: 1. economics, 2. health care budget 3.income and pension 4.diplomatic policy 5.welfare 6.health care 7.social security 8.social security 9.tax 10.cold war\n",
    "\n"
   ]
  },
  {
   "cell_type": "markdown",
   "metadata": {},
   "source": [
    "## Problem 5: Monitor a topic model for convergence"
   ]
  },
  {
   "cell_type": "markdown",
   "metadata": {},
   "source": [
    "When learning an LDA model, it is important to make sure that the training algorithm has converged to a stable posterior distribution. One way to do so is to plot, after each training epochs (or &lsquo;pass&rsquo;, in gensim parlance) the log likelihood of the training data under the posterior. Your last task in this lab is to create such a plot and, based on this, to suggest an appropriate number of epochs.\n",
    "\n",
    "To collect information about the posterior likelihood after each pass, we need to enable the logging facilities of gensim. Once this is done, gensim will add various diagnostics to a log file `gensim.log`."
   ]
  },
  {
   "cell_type": "code",
   "execution_count": 15,
   "metadata": {},
   "outputs": [],
   "source": [
    "import logging\n",
    "\n",
    "logging.basicConfig(filename='gensim.log', format='%(asctime)s:%(levelname)s:%(message)s', level=logging.INFO)"
   ]
  },
  {
   "cell_type": "markdown",
   "metadata": {},
   "source": [
    "The following function will parse the generated logfile and return the list of log likelihoods."
   ]
  },
  {
   "cell_type": "code",
   "execution_count": 16,
   "metadata": {},
   "outputs": [],
   "source": [
    "import re\n",
    "\n",
    "def parse_logfile():\n",
    "    matcher = re.compile('(-*\\d+\\.\\d+) per-word .* (\\d+\\.\\d+) perplexity')\n",
    "    likelihoods = []\n",
    "    with open('gensim.log') as source:\n",
    "        for line in source:\n",
    "            match = matcher.search(line)\n",
    "            if match:\n",
    "                likelihoods.append(float(match.group(1)))\n",
    "    return likelihoods"
   ]
  },
  {
   "cell_type": "markdown",
   "metadata": {},
   "source": [
    "Your task now is to re-train your LDA model for 50&nbsp;passes, retrieve the list of log likelihoods, and create a plot from this data."
   ]
  },
  {
   "cell_type": "code",
   "execution_count": 7,
   "metadata": {},
   "outputs": [
    {
     "data": {
      "text/plain": [
       "[]"
      ]
     },
     "execution_count": 7,
     "metadata": {},
     "output_type": "execute_result"
    }
   ],
   "source": [
    "parse_logfile()"
   ]
  },
  {
   "cell_type": "code",
   "execution_count": 18,
   "metadata": {},
   "outputs": [],
   "source": [
    "# TODO: Enter code here to generate the convergence plot\n",
    "from gensim.models import LdaModel\n",
    "passes = 50\n",
    "model = LdaModel(\n",
    "    corpus=vectorized_corpus,\n",
    "    id2word=id2word,\n",
    "    num_topics=10,\n",
    "    passes=passes\n",
    ")"
   ]
  },
  {
   "cell_type": "code",
   "execution_count": 26,
   "metadata": {},
   "outputs": [
    {
     "data": {
      "image/png": "[encoded data removed]",
      "text/plain": [
       "<Figure size 432x288 with 1 Axes>"
      ]
     },
     "metadata": {
      "needs_background": "light"
     },
     "output_type": "display_data"
    }
   ],
   "source": [
    "import matplotlib.pyplot as plt\n",
    "log_llh = parse_logfile()\n",
    "plt.plot(range(len(log_llh)), log_llh)\n",
    "plt.show()"
   ]
  },
  {
   "cell_type": "code",
   "execution_count": null,
   "metadata": {},
   "outputs": [],
   "source": []
  },
  {
   "cell_type": "markdown",
   "metadata": {},
   "source": [
    "How do you interpret your plot? Based on the plot, what would be a reasonable choice for the number of passes? Retrain your LDA model with that number and re-inspect the topics it finds. Do you consider the new topics to be &lsquo;better&rsquo; than the ones that you got from the 1-pass model in Problem&nbsp;5?"
   ]
  },
  {
   "cell_type": "markdown",
   "metadata": {},
   "source": [
    "*TODO: Insert your discussion of these questions here*"
   ]
  },
  {
   "cell_type": "markdown",
   "metadata": {},
   "source": [
    "<div class=\"alert alert-info\">\n",
    "    Please read the section ‘General information’ on the ‘Labs’ page of the course website before submitting this notebook!\n",
    "</div>"
   ]
  }
 ],
 "metadata": {
  "kernelspec": {
   "display_name": "Python 3",
   "language": "python",
   "name": "python3"
  },
  "language_info": {
   "codemirror_mode": {
    "name": "ipython",
    "version": 3
   },
   "file_extension": ".py",
   "mimetype": "text/x-python",
   "name": "python",
   "nbconvert_exporter": "python",
   "pygments_lexer": "ipython3",
   "version": "3.6.9"
  }
 },
 "nbformat": 4,
 "nbformat_minor": 2
}
