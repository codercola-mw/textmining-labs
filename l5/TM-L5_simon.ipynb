{
 "cells": [
  {
   "cell_type": "code",
   "execution_count": 116,
   "metadata": {},
   "outputs": [
    {
     "data": {
      "text/plain": [
       "array(['Russia_national_football_team'], dtype='<U29')"
      ]
     },
     "execution_count": 116,
     "metadata": {},
     "output_type": "execute_result"
    }
   ],
   "source": []
  },
  {
   "cell_type": "markdown",
   "metadata": {},
   "source": [
    "# L5: Information extraction"
   ]
  },
  {
   "cell_type": "markdown",
   "metadata": {},
   "source": [
    "Information extraction (IE) is the task of identifying named entities and semantic relations between these entities in text data. In this lab we will focus on two sub-tasks in IE, **named entity recognition** (identifying mentions of entities) and **entity linking** (matching these mentions to entities in a knowledge base)."
   ]
  },
  {
   "cell_type": "markdown",
   "metadata": {},
   "source": [
    "We start by loading spaCy:"
   ]
  },
  {
   "cell_type": "code",
   "execution_count": 148,
   "metadata": {},
   "outputs": [],
   "source": [
    "import spacy\n",
    "from spacy.gold import GoldParse\n",
    "\n",
    "nlp = spacy.load('en_core_web_sm')\n"
   ]
  },
  {
   "cell_type": "markdown",
   "metadata": {},
   "source": [
    "The data that we will be using has been tokenized following the conventions of the [Penn Treebank](ftp://ftp.cis.upenn.edu/pub/treebank/public_html/tokenization.html), and we need to prevent spaCy from using its own tokenizer on top of this. We therefore override spaCy&rsquo;s tokenizer with one that simply splits on space."
   ]
  },
  {
   "cell_type": "code",
   "execution_count": 149,
   "metadata": {},
   "outputs": [],
   "source": [
    "from spacy.tokens import Doc\n",
    "\n",
    "class WhitespaceTokenizer(object):\n",
    "    def __init__(self, vocab):\n",
    "        self.vocab = vocab\n",
    "\n",
    "    def __call__(self, text):\n",
    "        return Doc(self.vocab, words=text.split(' '))\n",
    "\n",
    "nlp.tokenizer = WhitespaceTokenizer(nlp.vocab)"
   ]
  },
  {
   "cell_type": "markdown",
   "metadata": {},
   "source": [
    "## Data set"
   ]
  },
  {
   "cell_type": "markdown",
   "metadata": {},
   "source": [
    "The main data set for this lab is a collection of news wire articles in which mentions of named entities have been annotated with page names from the [English Wikipedia](https://en.wikipedia.org/wiki/). The next code cell loads the training and the development parts of the data into Pandas data frames."
   ]
  },
  {
   "cell_type": "code",
   "execution_count": 150,
   "metadata": {},
   "outputs": [],
   "source": [
    "import bz2\n",
    "import csv\n",
    "import pandas as pd\n",
    "\n",
    "with bz2.open('ner-train.tsv.bz2', 'rt',encoding=\"utf-8\") as source:\n",
    "    df_train = pd.read_csv(source, sep='\\t', quoting=csv.QUOTE_NONE,encoding='utf-8')\n",
    "\n",
    "with bz2.open('ner-dev.tsv.bz2', 'rt',encoding=\"utf-8\") as source:\n",
    "    df_dev = pd.read_csv(source, sep='\\t', quoting=csv.QUOTE_NONE,encoding='utf-8')"
   ]
  },
  {
   "cell_type": "markdown",
   "metadata": {},
   "source": [
    "Each row in these two data frames corresponds to one mention of a named entity and has five columns:\n",
    "\n",
    "1. a unique identifier for the sentence containing the entity mention\n",
    "2. the pre-tokenized sentence, with tokens separated by spaces\n",
    "3. the start position of the token span containing the entity mention\n",
    "4. the end position of the token span (exclusive, as in Python list indexing)\n",
    "5. the entity label; either a Wikipedia page name or the generic label `--NME--`\n",
    "\n",
    "The following cell prints the first five samples from the training data:"
   ]
  },
  {
   "cell_type": "code",
   "execution_count": 151,
   "metadata": {},
   "outputs": [
    {
     "data": {
      "text/html": [
       "<div>\n",
       "<style scoped>\n",
       "    .dataframe tbody tr th:only-of-type {\n",
       "        vertical-align: middle;\n",
       "    }\n",
       "\n",
       "    .dataframe tbody tr th {\n",
       "        vertical-align: top;\n",
       "    }\n",
       "\n",
       "    .dataframe thead th {\n",
       "        text-align: right;\n",
       "    }\n",
       "</style>\n",
       "<table border=\"1\" class=\"dataframe\">\n",
       "  <thead>\n",
       "    <tr style=\"text-align: right;\">\n",
       "      <th></th>\n",
       "      <th>sentence_id</th>\n",
       "      <th>sentence</th>\n",
       "      <th>beg</th>\n",
       "      <th>end</th>\n",
       "      <th>label</th>\n",
       "    </tr>\n",
       "  </thead>\n",
       "  <tbody>\n",
       "    <tr>\n",
       "      <th>0</th>\n",
       "      <td>0000-000</td>\n",
       "      <td>EU rejects German call to boycott British lamb .</td>\n",
       "      <td>0</td>\n",
       "      <td>1</td>\n",
       "      <td>--NME--</td>\n",
       "    </tr>\n",
       "    <tr>\n",
       "      <th>1</th>\n",
       "      <td>0000-000</td>\n",
       "      <td>EU rejects German call to boycott British lamb .</td>\n",
       "      <td>2</td>\n",
       "      <td>3</td>\n",
       "      <td>Germany</td>\n",
       "    </tr>\n",
       "    <tr>\n",
       "      <th>2</th>\n",
       "      <td>0000-000</td>\n",
       "      <td>EU rejects German call to boycott British lamb .</td>\n",
       "      <td>6</td>\n",
       "      <td>7</td>\n",
       "      <td>United_Kingdom</td>\n",
       "    </tr>\n",
       "    <tr>\n",
       "      <th>3</th>\n",
       "      <td>0000-001</td>\n",
       "      <td>Peter Blackburn</td>\n",
       "      <td>0</td>\n",
       "      <td>2</td>\n",
       "      <td>--NME--</td>\n",
       "    </tr>\n",
       "    <tr>\n",
       "      <th>4</th>\n",
       "      <td>0000-002</td>\n",
       "      <td>BRUSSELS 1996-08-22</td>\n",
       "      <td>0</td>\n",
       "      <td>1</td>\n",
       "      <td>Brussels</td>\n",
       "    </tr>\n",
       "  </tbody>\n",
       "</table>\n",
       "</div>"
      ],
      "text/plain": [
       "  sentence_id                                          sentence  beg  end  \\\n",
       "0    0000-000  EU rejects German call to boycott British lamb .    0    1   \n",
       "1    0000-000  EU rejects German call to boycott British lamb .    2    3   \n",
       "2    0000-000  EU rejects German call to boycott British lamb .    6    7   \n",
       "3    0000-001                                   Peter Blackburn    0    2   \n",
       "4    0000-002                               BRUSSELS 1996-08-22    0    1   \n",
       "\n",
       "            label  \n",
       "0         --NME--  \n",
       "1         Germany  \n",
       "2  United_Kingdom  \n",
       "3         --NME--  \n",
       "4        Brussels  "
      ]
     },
     "execution_count": 151,
     "metadata": {},
     "output_type": "execute_result"
    }
   ],
   "source": [
    "df_train.head()"
   ]
  },
  {
   "cell_type": "markdown",
   "metadata": {},
   "source": [
    "In this sample, we see that the first sentence is annotated with three entity mentions:\n",
    "\n",
    "* the span 0–1 &lsquo;EU&rsquo; is annotated as a mention but only labelled with the generic `--NME--`\n",
    "* the span 2–3 &lsquo;German&rsquo; is annotated with the page [Germany](http://en.wikipedia.org/wiki/Germany)\n",
    "* the span 6–7 &lsquo;British&rsquo; is annotated with the page [United_Kingdom](http://en.wikipedia.org/wiki/United_Kingdom)"
   ]
  },
  {
   "cell_type": "markdown",
   "metadata": {},
   "source": [
    "## Problem 1: Evaluation measures"
   ]
  },
  {
   "cell_type": "markdown",
   "metadata": {},
   "source": [
    "To warm up, we ask you to write code to print the three measures that you will be using for evaluation:"
   ]
  },
  {
   "cell_type": "code",
   "execution_count": 152,
   "metadata": {},
   "outputs": [],
   "source": [
    "def evaluation_report(gold, pred):\n",
    "    \"\"\"Print precision, recall, and F1 score.\n",
    "\n",
    "    Args:\n",
    "        gold: The set with the gold-standard values.\n",
    "        pred: The set with the predicted values.\n",
    "    \n",
    "    Returns:\n",
    "        Nothing, but prints the precision, recall, and F1 values computed\n",
    "        based on the specified sets.\n",
    "    \"\"\"\n",
    "    # TODO: Replace the next line with your own code\n",
    "    precision=len(gold.intersection(pred))/len(pred)*100\n",
    "    recall=len(gold.intersection(pred))/len(gold)*100\n",
    "    F1=2*(recall*precision)/(precision+recall)\n",
    "    print(precision,recall,F1)"
   ]
  },
  {
   "cell_type": "markdown",
   "metadata": {},
   "source": [
    "To test your code, you can run the following cell:"
   ]
  },
  {
   "cell_type": "code",
   "execution_count": 153,
   "metadata": {},
   "outputs": [
    {
     "name": "stdout",
     "output_type": "stream",
     "text": [
      "60.0 100.0 75.0\n"
     ]
    }
   ],
   "source": [
    "evaluation_report(set(range(3)), set(range(5)))"
   ]
  },
  {
   "cell_type": "markdown",
   "metadata": {},
   "source": [
    "This should give you a precision of 60%, a recall of 100%, and an F1-value of 75%."
   ]
  },
  {
   "cell_type": "markdown",
   "metadata": {},
   "source": [
    "## Problem 2: Span recognition"
   ]
  },
  {
   "cell_type": "markdown",
   "metadata": {},
   "source": [
    "One of the first tasks that an information extraction system has to solve is to locate and classify (mentions of) named entities, such as persons and organizations. Here we will tackle the simpler task of recognizing **spans** of tokens that contain an entity mention, without the actual entity label.\n",
    "\n",
    "The English language model in spaCy features a full-fledged [named entity recognizer](https://spacy.io/usage/linguistic-features#named-entities) that identifies a variety of entities, and can be updated with new entity types by the user. Your task in this problem is to evaluate the performance of this component when predicting entity spans in the development data.\n",
    "\n",
    "Start by implementing a generator function that yields the gold-standard spans in a given data frame.\n",
    "\n",
    "**Hint:** The Pandas method [`itertuples()`](https://pandas.pydata.org/pandas-docs/version/0.17.0/generated/pandas.DataFrame.itertuples.html) is useful when iterating over the rows in a DataFrame."
   ]
  },
  {
   "cell_type": "code",
   "execution_count": 154,
   "metadata": {},
   "outputs": [],
   "source": [
    "def gold_spans(df):\n",
    "    \"\"\"Yield the gold-standard mention spans in a data frame.\n",
    "\n",
    "    Args:\n",
    "        df: A data frame.\n",
    "\n",
    "    Yields:\n",
    "        The gold-standard mention spans in the specified data frame as\n",
    "        triples consisting of the sentence id, start position, and end\n",
    "        position of each span.\n",
    "    \"\"\"\n",
    "    # TODO: Replace the next line with your own code\n",
    "    #yield\n",
    "    for x in df.itertuples():\n",
    "        yield x[1],x[3],x[4]"
   ]
  },
  {
   "cell_type": "markdown",
   "metadata": {},
   "source": [
    "To test your code, you can count the spans yielded by your function. When called on the development data, you should get a total of 5,917 unique triples. The first triple and the last triple should be\n",
    "\n",
    "    ('0946-000', 2, 3)\n",
    "    ('1161-010', 1, 3)  "
   ]
  },
  {
   "cell_type": "code",
   "execution_count": 155,
   "metadata": {},
   "outputs": [
    {
     "name": "stdout",
     "output_type": "stream",
     "text": [
      "5917\n"
     ]
    }
   ],
   "source": [
    "spans_dev_gold = set(gold_spans(df_dev))\n",
    "print(len(spans_dev_gold))"
   ]
  },
  {
   "cell_type": "markdown",
   "metadata": {},
   "source": [
    "Your next task is to write code that calls spaCy to predict the named entities in the development data, and to evaluate the accuracy of these predictions in terms of precision, recall, and F1. Print these scores using the function that you wrote for Problem&nbsp;1."
   ]
  },
  {
   "cell_type": "code",
   "execution_count": 156,
   "metadata": {
    "tags": [
     "outputPrepend"
    ]
   },
   "outputs": [
    {
     "name": "stdout",
     "output_type": "stream",
     "text": [
      " 18), ('1152-016', 22, 24), ('1152-016', 25, 26), ('1152-016', 26, 27), ('1152-016', 1, 2), ('1152-016', 2, 3), ('1152-016', 8, 9), ('1152-016', 11, 12), ('1152-016', 14, 15), ('1152-016', 16, 17), ('1152-016', 17, 18), ('1152-016', 22, 24), ('1152-016', 25, 26), ('1152-016', 26, 27), ('1152-016', 1, 2), ('1152-016', 2, 3), ('1152-016', 8, 9), ('1152-016', 11, 12), ('1152-016', 14, 15), ('1152-016', 16, 17), ('1152-016', 17, 18), ('1152-016', 22, 24), ('1152-016', 25, 26), ('1152-016', 26, 27), ('1152-016', 1, 2), ('1152-016', 2, 3), ('1152-016', 8, 9), ('1152-016', 11, 12), ('1152-016', 14, 15), ('1152-016', 16, 17), ('1152-016', 17, 18), ('1152-016', 22, 24), ('1152-016', 25, 26), ('1152-016', 26, 27), ('1152-016', 1, 2), ('1152-016', 2, 3), ('1152-016', 8, 9), ('1152-016', 11, 12), ('1152-016', 14, 15), ('1152-016', 16, 17), ('1152-016', 17, 18), ('1152-016', 22, 24), ('1152-016', 25, 26), ('1152-016', 26, 27), ('1152-017', 3, 4), ('1152-017', 6, 7), ('1152-017', 9, 14), ('1152-017', 3, 4), ('1152-017', 6, 7), ('1152-017', 9, 14), ('1152-018', 1, 3), ('1152-018', 9, 10), ('1152-018', 16, 17), ('1152-018', 18, 19), ('1152-018', 22, 23), ('1152-018', 27, 28), ('1152-018', 1, 3), ('1152-018', 9, 10), ('1152-018', 16, 17), ('1152-018', 18, 19), ('1152-018', 22, 23), ('1152-018', 27, 28), ('1152-018', 1, 3), ('1152-018', 9, 10), ('1152-018', 16, 17), ('1152-018', 18, 19), ('1152-018', 22, 23), ('1152-018', 27, 28), ('1153-000', 0, 1), ('1153-000', 2, 3), ('1153-001', 0, 1), ('1153-002', 0, 1), ('1153-002', 1, 2), ('1153-002', 6, 7), ('1153-002', 15, 16), ('1153-003', 4, 5), ('1153-003', 6, 7), ('1153-003', 4, 5), ('1153-003', 6, 7), ('1153-004', 9, 10), ('1153-006', 2, 3), ('1153-006', 5, 6), ('1153-006', 8, 10), ('1153-006', 11, 12), ('1153-006', 14, 16), ('1153-006', 17, 18), ('1153-006', 36, 37), ('1153-006', 38, 39), ('1153-006', 2, 3), ('1153-006', 5, 6), ('1153-006', 8, 10), ('1153-006', 11, 12), ('1153-006', 14, 16), ('1153-006', 17, 18), ('1153-006', 36, 37), ('1153-006', 38, 39), ('1153-006', 2, 3), ('1153-006', 5, 6), ('1153-006', 8, 10), ('1153-006', 11, 12), ('1153-006', 14, 16), ('1153-006', 17, 18), ('1153-006', 36, 37), ('1153-006', 38, 39), ('1153-007', 30, 31), ('1153-007', 32, 36), ('1153-007', 30, 31), ('1153-007', 32, 36), ('1154-000', 0, 1), ('1154-000', 4, 5), ('1154-001', 0, 1), ('1154-002', 8, 9), ('1154-002', 10, 11), ('1154-002', 12, 13), ('1154-002', 16, 17), ('1154-002', 20, 21), ('1154-002', 8, 9), ('1154-002', 10, 11), ('1154-002', 12, 13), ('1154-002', 16, 17), ('1154-002', 20, 21), ('1154-003', 0, 1), ('1154-003', 8, 9), ('1154-003', 13, 14), ('1154-003', 29, 30), ('1154-003', 0, 1), ('1154-003', 8, 9), ('1154-003', 13, 14), ('1154-003', 29, 30), ('1154-004', 1, 3), ('1154-004', 12, 13), ('1154-004', 16, 17), ('1154-005', 0, 1), ('1154-006', 0, 3), ('1154-006', 16, 18), ('1154-006', 19, 21), ('1154-006', 22, 24), ('1154-006', 26, 27), ('1154-006', 0, 3), ('1154-006', 16, 18), ('1154-006', 19, 21), ('1154-006', 22, 24), ('1154-006', 26, 27), ('1154-008', 0, 1), ('1154-008', 3, 8), ('1154-008', 9, 10), ('1154-008', 20, 21), ('1154-008', 22, 24), ('1154-008', 33, 34), ('1154-008', 36, 40), ('1154-008', 0, 1), ('1154-008', 3, 8), ('1154-008', 9, 10), ('1154-008', 20, 21), ('1154-008', 22, 24), ('1154-008', 33, 34), ('1154-008', 36, 40), ('1154-008', 0, 1), ('1154-008', 3, 8), ('1154-008', 9, 10), ('1154-008', 20, 21), ('1154-008', 22, 24), ('1154-008', 33, 34), ('1154-008', 36, 40), ('1154-008', 0, 1), ('1154-008', 3, 8), ('1154-008', 9, 10), ('1154-008', 20, 21), ('1154-008', 22, 24), ('1154-008', 33, 34), ('1154-008', 36, 40), ('1154-009', 0, 3), ('1154-009', 7, 8), ('1154-009', 11, 12), ('1154-009', 17, 19), ('1154-009', 29, 30), ('1154-009', 0, 3), ('1154-009', 7, 8), ('1154-009', 11, 12), ('1154-009', 17, 19), ('1154-009', 29, 30), ('1154-009', 0, 3), ('1154-009', 7, 8), ('1154-009', 11, 12), ('1154-009', 17, 19), ('1154-009', 29, 30), ('1155-000', 0, 1), ('1155-000', 3, 4), ('1155-000', 8, 9), ('1155-000', 0, 1), ('1155-000', 3, 4), ('1155-000', 8, 9), ('1155-000', 0, 1), ('1155-000', 3, 4), ('1155-000', 8, 9), ('1155-001', 0, 1), ('1155-002', 0, 1), ('1155-002', 9, 10), ('1155-002', 13, 14), ('1155-002', 14, 17), ('1155-002', 24, 25), ('1155-002', 30, 31), ('1155-002', 0, 1), ('1155-002', 9, 10), ('1155-002', 13, 14), ('1155-002', 14, 17), ('1155-002', 24, 25), ('1155-002', 30, 31), ('1155-002', 0, 1), ('1155-002', 9, 10), ('1155-002', 13, 14), ('1155-002', 14, 17), ('1155-002', 24, 25), ('1155-002', 30, 31), ('1155-002', 0, 1), ('1155-002', 9, 10), ('1155-002', 13, 14), ('1155-002', 14, 17), ('1155-002', 24, 25), ('1155-002', 30, 31), ('1155-003', 12, 13), ('1155-003', 14, 15), ('1155-003', 18, 19), ('1155-003', 25, 27), ('1155-003', 29, 30), ('1155-003', 30, 31), ('1155-003', 12, 13), ('1155-003', 14, 15), ('1155-003', 18, 19), ('1155-003', 25, 27), ('1155-003', 29, 30), ('1155-003', 30, 31), ('1155-003', 12, 13), ('1155-003', 14, 15), ('1155-003', 18, 19), ('1155-003', 25, 27), ('1155-003', 29, 30), ('1155-003', 30, 31), ('1155-003', 12, 13), ('1155-003', 14, 15), ('1155-003', 18, 19), ('1155-003', 25, 27), ('1155-003', 29, 30), ('1155-003', 30, 31), ('1155-004', 0, 1), ('1155-005', 5, 6), ('1155-005', 14, 15), ('1155-005', 5, 6), ('1155-005', 14, 15), ('1155-006', 1, 2), ('1155-006', 10, 11), ('1155-006', 1, 2), ('1155-006', 10, 11), ('1155-007', 0, 1), ('1155-009', 3, 4), ('1155-009', 15, 16), ('1155-009', 19, 20), ('1155-009', 21, 23), ('1155-009', 3, 4), ('1155-009', 15, 16), ('1155-009', 19, 20), ('1155-009', 21, 23), ('1155-009', 3, 4), ('1155-009', 15, 16), ('1155-009', 19, 20), ('1155-009', 21, 23), ('1155-010', 7, 8), ('1155-010', 17, 18), ('1155-010', 25, 26), ('1155-010', 27, 28), ('1155-010', 31, 32), ('1155-010', 34, 35), ('1155-010', 7, 8), ('1155-010', 17, 18), ('1155-010', 25, 26), ('1155-010', 27, 28), ('1155-010', 31, 32), ('1155-010', 34, 35), ('1155-010', 7, 8), ('1155-010', 17, 18), ('1155-010', 25, 26), ('1155-010', 27, 28), ('1155-010', 31, 32), ('1155-010', 34, 35), ('1155-010', 7, 8), ('1155-010', 17, 18), ('1155-010', 25, 26), ('1155-010', 27, 28), ('1155-010', 31, 32), ('1155-010', 34, 35), ('1155-010', 7, 8), ('1155-010', 17, 18), ('1155-010', 25, 26), ('1155-010', 27, 28), ('1155-010', 31, 32), ('1155-010', 34, 35), ('1155-011', 0, 1), ('1155-011', 3, 4), ('1155-011', 6, 7), ('1155-011', 15, 16), ('1155-011', 16, 18), ('1155-011', 0, 1), ('1155-011', 3, 4), ('1155-011', 6, 7), ('1155-011', 15, 16), ('1155-011', 16, 18), ('1155-011', 0, 1), ('1155-011', 3, 4), ('1155-011', 6, 7), ('1155-011', 15, 16), ('1155-011', 16, 18), ('1155-011', 0, 1), ('1155-011', 3, 4), ('1155-011', 6, 7), ('1155-011', 15, 16), ('1155-011', 16, 18), ('1155-012', 7, 8), ('1155-012', 12, 13), ('1155-012', 16, 17), ('1155-012', 7, 8), ('1155-012', 12, 13), ('1155-012', 16, 17), ('1155-012', 7, 8), ('1155-012', 12, 13), ('1155-012', 16, 17), ('1155-013', 1, 2), ('1155-014', 0, 1), ('1155-014', 5, 6), ('1155-014', 9, 11), ('1155-014', 17, 18), ('1155-014', 0, 1), ('1155-014', 5, 6), ('1155-014', 9, 11), ('1155-014', 17, 18), ('1155-014', 0, 1), ('1155-014', 5, 6), ('1155-014', 9, 11), ('1155-014', 17, 18), ('1155-014', 0, 1), ('1155-014', 5, 6), ('1155-014', 9, 11), ('1155-014', 17, 18), ('1155-015', 0, 1), ('1155-015', 8, 9), ('1155-015', 12, 13), ('1155-015', 0, 1), ('1155-015', 8, 9), ('1155-015', 12, 13), ('1155-015', 0, 1), ('1155-015', 8, 9), ('1155-015', 12, 13), ('1156-000', 0, 1), ('1156-000', 2, 3), ('1156-000', 4, 5), ('1156-000', 0, 1), ('1156-000', 2, 3), ('1156-000', 4, 5), ('1156-000', 0, 1), ('1156-000', 2, 3), ('1156-000', 4, 5), ('1156-000', 0, 1), ('1156-000', 2, 3), ('1156-000', 4, 5), ('1156-002', 0, 1), ('1156-002', 3, 5), ('1156-002', 6, 7), ('1156-002', 9, 10), ('1156-002', 11, 13), ('1156-002', 18, 19), ('1156-002', 0, 1), ('1156-002', 3, 5), ('1156-002', 6, 7), ('1156-002', 9, 10), ('1156-002', 11, 13), ('1156-002', 18, 19), ('1156-002', 0, 1), ('1156-002', 3, 5), ('1156-002', 6, 7), ('1156-002', 9, 10), ('1156-002', 11, 13), ('1156-002', 18, 19), ('1156-002', 0, 1), ('1156-002', 3, 5), ('1156-002', 6, 7), ('1156-002', 9, 10), ('1156-002', 11, 13), ('1156-002', 18, 19), ('1156-002', 0, 1), ('1156-002', 3, 5), ('1156-002', 6, 7), ('1156-002', 9, 10), ('1156-002', 11, 13), ('1156-002', 18, 19), ('1156-003', 3, 4), ('1156-003', 4, 6), ('1156-003', 15, 16), ('1156-003', 19, 20), ('1156-003', 21, 23), ('1156-003', 25, 30), ('1156-003', 32, 33), ('1156-003', 33, 35), ('1156-003', 40, 41), ('1156-003', 3, 4), ('1156-003', 4, 6), ('1156-003', 15, 16), ('1156-003', 19, 20), ('1156-003', 21, 23), ('1156-003', 25, 30), ('1156-003', 32, 33), ('1156-003', 33, 35), ('1156-003', 40, 41), ('1156-003', 3, 4), ('1156-003', 4, 6), ('1156-003', 15, 16), ('1156-003', 19, 20), ('1156-003', 21, 23), ('1156-003', 25, 30), ('1156-003', 32, 33), ('1156-003', 33, 35), ('1156-003', 40, 41), ('1156-003', 3, 4), ('1156-003', 4, 6), ('1156-003', 15, 16), ('1156-003', 19, 20), ('1156-003', 21, 23), ('1156-003', 25, 30), ('1156-003', 32, 33), ('1156-003', 33, 35), ('1156-003', 40, 41), ('1156-003', 3, 4), ('1156-003', 4, 6), ('1156-003', 15, 16), ('1156-003', 19, 20), ('1156-003', 21, 23), ('1156-003', 25, 30), ('1156-003', 32, 33), ('1156-003', 33, 35), ('1156-003', 40, 41), ('1156-003', 3, 4), ('1156-003', 4, 6), ('1156-003', 15, 16), ('1156-003', 19, 20), ('1156-003', 21, 23), ('1156-003', 25, 30), ('1156-003', 32, 33), ('1156-003', 33, 35), ('1156-003', 40, 41), ('1156-003', 3, 4), ('1156-003', 4, 6), ('1156-003', 15, 16), ('1156-003', 19, 20), ('1156-003', 21, 23), ('1156-003', 25, 30), ('1156-003', 32, 33), ('1156-003', 33, 35), ('1156-003', 40, 41), ('1156-003', 3, 4), ('1156-003', 4, 6), ('1156-003', 15, 16), ('1156-003', 19, 20), ('1156-003', 21, 23), ('1156-003', 25, 30), ('1156-003', 32, 33), ('1156-003', 33, 35), ('1156-003', 40, 41), ('1156-003', 3, 4), ('1156-003', 4, 6), ('1156-003', 15, 16), ('1156-003', 19, 20), ('1156-003', 21, 23), ('1156-003', 25, 30), ('1156-003', 32, 33), ('1156-003', 33, 35), ('1156-003', 40, 41), ('1156-004', 6, 7), ('1156-004', 14, 16), ('1156-004', 23, 24), ('1156-004', 30, 32), ('1156-004', 6, 7), ('1156-004', 14, 16), ('1156-004', 23, 24), ('1156-004', 30, 32), ('1156-004', 6, 7), ('1156-004', 14, 16), ('1156-004', 23, 24), ('1156-004', 30, 32), ('1156-004', 6, 7), ('1156-004', 14, 16), ('1156-004', 23, 24), ('1156-004', 30, 32), ('1156-006', 9, 12), ('1156-006', 15, 21), ('1156-006', 22, 23), ('1156-006', 9, 12), ('1156-006', 15, 21), ('1156-006', 22, 23), ('1156-006', 9, 12), ('1156-006', 15, 21), ('1156-006', 22, 23), ('1156-007', 2, 3), ('1156-007', 4, 5), ('1156-008', 0, 4), ('1156-008', 5, 6), ('1156-008', 11, 12), ('1156-008', 13, 15), ('1156-008', 18, 19), ('1156-008', 28, 29), ('1156-008', 0, 4), ('1156-008', 5, 6), ('1156-008', 11, 12), ('1156-008', 13, 15), ('1156-008', 18, 19), ('1156-008', 28, 29), ('1156-008', 0, 4), ('1156-008', 5, 6), ('1156-008', 11, 12), ('1156-008', 13, 15), ('1156-008', 18, 19), ('1156-008', 28, 29), ('1156-008', 0, 4), ('1156-008', 5, 6), ('1156-008', 11, 12), ('1156-008', 13, 15), ('1156-008', 18, 19), ('1156-008', 28, 29), ('1156-009', 2, 3), ('1156-009', 11, 12), ('1156-009', 18, 19), ('1156-009', 2, 3), ('1156-009', 11, 12), ('1156-009', 18, 19), ('1156-009', 2, 3), ('1156-009', 11, 12), ('1156-009', 18, 19), ('1156-010', 0, 2), ('1156-010', 10, 11), ('1156-010', 12, 13), ('1156-010', 17, 18), ('1156-010', 20, 21), ('1156-010', 0, 2), ('1156-010', 10, 11), ('1156-010', 12, 13), ('1156-010', 17, 18), ('1156-010', 20, 21), ('1157-000', 0, 1), ('1157-000', 6, 7), ('1157-001', 0, 1), ('1157-002', 0, 6), ('1157-002', 8, 9), ('1157-002', 19, 20), ('1157-002', 0, 6), ('1157-002', 8, 9), ('1157-002', 19, 20), ('1157-003', 2, 3), ('1157-003', 5, 6), ('1157-003', 2, 3), ('1157-003', 5, 6), ('1157-004', 2, 3), ('1157-004', 5, 7), ('1157-004', 10, 11), ('1157-004', 13, 16), ('1157-004', 17, 18), ('1157-004', 25, 26), ('1157-004', 28, 29), ('1157-004', 2, 3), ('1157-004', 5, 7), ('1157-004', 10, 11), ('1157-004', 13, 16), ('1157-004', 17, 18), ('1157-004', 25, 26), ('1157-004', 28, 29), ('1157-004', 2, 3), ('1157-004', 5, 7), ('1157-004', 10, 11), ('1157-004', 13, 16), ('1157-004', 17, 18), ('1157-004', 25, 26), ('1157-004', 28, 29), ('1157-004', 2, 3), ('1157-004', 5, 7), ('1157-004', 10, 11), ('1157-004', 13, 16), ('1157-004', 17, 18), ('1157-004', 25, 26), ('1157-004', 28, 29), ('1157-004', 2, 3), ('1157-004', 5, 7), ('1157-004', 10, 11), ('1157-004', 13, 16), ('1157-004', 17, 18), ('1157-004', 25, 26), ('1157-004', 28, 29), ('1157-004', 2, 3), ('1157-004', 5, 7), ('1157-004', 10, 11), ('1157-004', 13, 16), ('1157-004', 17, 18), ('1157-004', 25, 26), ('1157-004', 28, 29), ('1158-000', 5, 6), ('1158-001', 0, 1), ('1158-002', 0, 3), ('1158-002', 7, 8), ('1158-002', 17, 18), ('1158-002', 22, 23), ('1158-002', 0, 3), ('1158-002', 7, 8), ('1158-002', 17, 18), ('1158-002', 22, 23), ('1158-003', 5, 6), ('1158-003', 8, 9), ('1158-003', 10, 11), ('1158-003', 26, 27), ('1158-003', 27, 29), ('1158-003', 5, 6), ('1158-003', 8, 9), ('1158-003', 10, 11), ('1158-003', 26, 27), ('1158-003', 27, 29), ('1158-003', 5, 6), ('1158-003', 8, 9), ('1158-003', 10, 11), ('1158-003', 26, 27), ('1158-003', 27, 29), ('1158-003', 5, 6), ('1158-003', 8, 9), ('1158-003', 10, 11), ('1158-003', 26, 27), ('1158-003', 27, 29), ('1158-005', 1, 2), ('1158-005', 5, 7), ('1158-005', 14, 15), ('1158-005', 17, 22), ('1158-005', 1, 2), ('1158-005', 5, 7), ('1158-005', 14, 15), ('1158-005', 17, 22), ('1158-005', 1, 2), ('1158-005', 5, 7), ('1158-005', 14, 15), ('1158-005', 17, 22), ('1158-005', 1, 2), ('1158-005', 5, 7), ('1158-005', 14, 15), ('1158-005', 17, 22), ('1159-000', 3, 4), ('1159-000', 7, 8), ('1159-001', 0, 1), ('1159-002', 0, 1), ('1159-002', 4, 5), ('1159-002', 11, 12), ('1159-002', 20, 23), ('1159-003', 15, 16), ('1159-003', 19, 20), ('1159-003', 15, 16), ('1159-003', 19, 20), ('1159-004', 2, 3), ('1159-004', 4, 5), ('1159-004', 12, 13), ('1159-004', 14, 16), ('1159-004', 17, 18), ('1159-004', 20, 22), ('1159-004', 23, 24), ('1159-004', 33, 34), ('1159-004', 35, 36), ('1159-004', 38, 39), ('1159-004', 2, 3), ('1159-004', 4, 5), ('1159-004', 12, 13), ('1159-004', 14, 16), ('1159-004', 17, 18), ('1159-004', 20, 22), ('1159-004', 23, 24), ('1159-004', 33, 34), ('1159-004', 35, 36), ('1159-004', 38, 39), ('1159-004', 2, 3), ('1159-004', 4, 5), ('1159-004', 12, 13), ('1159-004', 14, 16), ('1159-004', 17, 18), ('1159-004', 20, 22), ('1159-004', 23, 24), ('1159-004', 33, 34), ('1159-004', 35, 36), ('1159-004', 38, 39), ('1159-004', 2, 3), ('1159-004', 4, 5), ('1159-004', 12, 13), ('1159-004', 14, 16), ('1159-004', 17, 18), ('1159-004', 20, 22), ('1159-004', 23, 24), ('1159-004', 33, 34), ('1159-004', 35, 36), ('1159-004', 38, 39), ('1159-004', 2, 3), ('1159-004', 4, 5), ('1159-004', 12, 13), ('1159-004', 14, 16), ('1159-004', 17, 18), ('1159-004', 20, 22), ('1159-004', 23, 24), ('1159-004', 33, 34), ('1159-004', 35, 36), ('1159-004', 38, 39), ('1159-007', 28, 29), ('1159-007', 30, 34), ('1159-007', 28, 29), ('1159-007', 30, 34), ('1160-000', 5, 6), ('1160-000', 5, 6), ('1160-001', 0, 2), ('1160-002', 0, 1), ('1160-002', 2, 3), ('1160-003', 2, 4), ('1160-003', 16, 18), ('1160-003', 25, 26), ('1160-003', 31, 32), ('1160-003', 33, 37), ('1160-003', 2, 4), ('1160-003', 16, 18), ('1160-003', 25, 26), ('1160-003', 31, 32), ('1160-003', 33, 37), ('1160-003', 2, 4), ('1160-003', 16, 18), ('1160-003', 25, 26), ('1160-003', 31, 32), ('1160-003', 33, 37), ('1160-003', 2, 4), ('1160-003', 16, 18), ('1160-003', 25, 26), ('1160-003', 31, 32), ('1160-003', 33, 37), ('1160-004', 4, 6), ('1160-004', 7, 9), ('1160-004', 14, 16), ('1160-004', 17, 22), ('1160-004', 28, 29), ('1160-004', 31, 34), ('1160-004', 4, 6), ('1160-004', 7, 9), ('1160-004', 14, 16), ('1160-004', 17, 22), ('1160-004', 28, 29), ('1160-004', 31, 34), ('1160-004', 4, 6), ('1160-004', 7, 9), ('1160-004', 14, 16), ('1160-004', 17, 22), ('1160-004', 28, 29), ('1160-004', 31, 34), ('1160-004', 4, 6), ('1160-004', 7, 9), ('1160-004', 14, 16), ('1160-004', 17, 22), ('1160-004', 28, 29), ('1160-004', 31, 34), ('1160-004', 4, 6), ('1160-004', 7, 9), ('1160-004', 14, 16), ('1160-004', 17, 22), ('1160-004', 28, 29), ('1160-004', 31, 34), ('1160-005', 6, 7), ('1160-005', 8, 11), ('1160-005', 26, 28), ('1160-005', 6, 7), ('1160-005', 8, 11), ('1160-005', 26, 28), ('1160-005', 6, 7), ('1160-005', 8, 11), ('1160-005', 26, 28), ('1160-006', 0, 1), ('1160-006', 15, 16), ('1160-007', 6, 7), ('1160-007', 9, 10), ('1160-007', 21, 22), ('1160-007', 28, 30), ('1160-007', 6, 7), ('1160-007', 9, 10), ('1160-007', 21, 22), ('1160-007', 28, 30), ('1160-007', 6, 7), ('1160-007', 9, 10), ('1160-007', 21, 22), ('1160-007', 28, 30), ('1160-007', 6, 7), ('1160-007', 9, 10), ('1160-007', 21, 22), ('1160-007', 28, 30), ('1160-010', 0, 1), ('1160-010', 3, 4), ('1160-010', 5, 10), ('1160-010', 27, 28), ('1160-010', 0, 1), ('1160-010', 3, 4), ('1160-010', 5, 10), ('1160-010', 27, 28), ('1160-010', 0, 1), ('1160-010', 3, 4), ('1160-010', 5, 10), ('1160-010', 27, 28), ('1160-010', 0, 1), ('1160-010', 3, 4), ('1160-010', 5, 10), ('1160-010', 27, 28), ('1160-011', 17, 19), ('1160-011', 20, 21), ('1160-011', 22, 24), ('1160-011', 25, 26), ('1160-011', 28, 29), ('1160-011', 17, 19), ('1160-011', 20, 21), ('1160-011', 22, 24), ('1160-011', 25, 26), ('1160-011', 28, 29), ('1160-011', 17, 19), ('1160-011', 20, 21), ('1160-011', 22, 24), ('1160-011', 25, 26), ('1160-011', 28, 29), ('1160-011', 17, 19), ('1160-011', 20, 21), ('1160-011', 22, 24), ('1160-011', 25, 26), ('1160-011', 28, 29), ('1160-011', 17, 19), ('1160-011', 20, 21), ('1160-011', 22, 24), ('1160-011', 25, 26), ('1160-011', 28, 29), ('1160-012', 1, 2), ('1160-012', 12, 13), ('1160-014', 0, 1), ('1160-014', 3, 4), ('1160-014', 11, 12), ('1160-014', 20, 24), ('1160-014', 30, 31), ('1160-014', 0, 1), ('1160-014', 3, 4), ('1160-014', 11, 12), ('1160-014', 20, 24), ('1160-014', 30, 31), ('1160-014', 0, 1), ('1160-014', 3, 4), ('1160-014', 11, 12), ('1160-014', 20, 24), ('1160-014', 30, 31), ('1160-014', 0, 1), ('1160-014', 3, 4), ('1160-014', 11, 12), ('1160-014', 20, 24), ('1160-014', 30, 31), ('1160-014', 0, 1), ('1160-014', 3, 4), ('1160-014', 11, 12), ('1160-014', 20, 24), ('1160-014', 30, 31), ('1160-015', 0, 2), ('1160-015', 3, 5), ('1160-015', 6, 7), ('1160-015', 17, 19), ('1160-015', 22, 23), ('1160-015', 0, 2), ('1160-015', 3, 5), ('1160-015', 6, 7), ('1160-015', 17, 19), ('1160-015', 22, 23), ('1160-015', 0, 2), ('1160-015', 3, 5), ('1160-015', 6, 7), ('1160-015', 17, 19), ('1160-015', 22, 23), ('1160-015', 0, 2), ('1160-015', 3, 5), ('1160-015', 6, 7), ('1160-015', 17, 19), ('1160-015', 22, 23), ('1160-015', 0, 2), ('1160-015', 3, 5), ('1160-015', 6, 7), ('1160-015', 17, 19), ('1160-015', 22, 23), ('1160-016', 9, 10), ('1160-016', 11, 12), ('1160-016', 13, 14), ('1160-016', 9, 10), ('1160-016', 11, 12), ('1160-016', 13, 14), ('1160-018', 4, 5), ('1160-018', 16, 17), ('1160-018', 4, 5), ('1160-018', 16, 17), ('1160-022', 0, 1), ('1160-022', 16, 17), ('1160-022', 31, 32), ('1160-022', 37, 38), ('1160-022', 0, 1), ('1160-022', 16, 17), ('1160-022', 31, 32), ('1160-022', 37, 38), ('1160-023', 18, 20), ('1160-023', 33, 34), ('1160-023', 18, 20), ('1160-023', 33, 34), ('1160-024', 5, 6), ('1160-024', 19, 20), ('1160-024', 23, 24), ('1161-000', 0, 1), ('1161-002', 2, 6), ('1161-002', 37, 38), ('1161-002', 38, 40), ('1161-002', 2, 6), ('1161-002', 37, 38), ('1161-002', 38, 40), ('1161-002', 2, 6), ('1161-002', 37, 38), ('1161-002', 38, 40), ('1161-004', 12, 14), ('1161-005', 0, 3), ('1161-007', 7, 9), ('1161-007', 10, 12), ('1161-007', 13, 15), ('1161-007', 7, 9), ('1161-007', 10, 12), ('1161-007', 13, 15), ('1161-007', 7, 9), ('1161-007', 10, 12), ('1161-007', 13, 15), ('1161-007', 7, 9), ('1161-007', 10, 12), ('1161-007', 13, 15), ('1161-009', 1, 2), ('1161-009', 7, 8), ('1161-009', 10, 12), ('1161-009', 14, 15), ('1161-009', 19, 21), ('1161-009', 23, 24), ('1161-010', 0, 4)]\n"
     ]
    }
   ],
   "source": [
    "# TODO: Write code here to run and evalp;uate the spaCy NER on the development data\n",
    "ent_pred=[]\n",
    "for x in df_dev.itertuples(index=False,name=None):\n",
    "    doc = nlp(x[1])\n",
    "    for ent in doc.ents:\n",
    "        #print(ent)\n",
    "        ent_pred.append((x[0],ent.start,ent.end))\n",
    "        #print(ent.text, ent.start_char, ent.end_char, ent.label_)\n",
    "print(ent_pred)"
   ]
  },
  {
   "cell_type": "code",
   "execution_count": 157,
   "metadata": {
    "pycharm": {
     "name": "#%%\n"
    }
   },
   "outputs": [
    {
     "name": "stdout",
     "output_type": "stream",
     "text": [
      "8034\n",
      "51.53099327856609 69.9678891330066 59.35058418751344\n"
     ]
    }
   ],
   "source": [
    "spans_dev_pred=set(ent_pred)\n",
    "print(len(spans_dev_pred))\n",
    "evaluation_report(spans_dev_gold,spans_dev_pred)"
   ]
  },
  {
   "cell_type": "markdown",
   "metadata": {},
   "source": [
    "## Problem 3: Error analysis"
   ]
  },
  {
   "cell_type": "markdown",
   "metadata": {},
   "source": [
    "As you were able to see in Problem&nbsp;2, the span accuracy of the named entity recognizer is far from perfect. In particular, only slightly more than half of the predicted spans are correct according to the gold standard. Your next task is to analyse this result in more detail.\n",
    "\n",
    "Here is a function that prints the false positives as well as the false negatives spans for a data frame, given a reference set of gold-standard spans and a candidate set of predicted spans."
   ]
  },
  {
   "cell_type": "code",
   "execution_count": 158,
   "metadata": {},
   "outputs": [],
   "source": [
    "from collections import defaultdict\n",
    "\n",
    "def error_report(df, spans_gold, spans_pred):\n",
    "    false_pos = defaultdict(list)\n",
    "    for s, b, e in spans_pred - spans_gold:\n",
    "        false_pos[s].append((b, e))\n",
    "    false_neg = defaultdict(list)\n",
    "    for s, b, e in spans_gold - spans_pred:\n",
    "        false_neg[s].append((b, e))\n",
    "    for row in df.drop_duplicates('sentence_id').itertuples():\n",
    "        if row.sentence_id in false_pos or row.sentence_id in false_neg:\n",
    "            print('Sentence:', row.sentence)\n",
    "            for b, e in false_pos[row.sentence_id]:\n",
    "                print('  FP:', ' '.join(row.sentence.split()[b:e]))\n",
    "            for b, e in false_neg[row.sentence_id]:\n",
    "                print('  FN:', ' '.join(row.sentence.split()[b:e]))"
   ]
  },
  {
   "cell_type": "markdown",
   "metadata": {},
   "source": [
    "Use this function to inspect and analyse the errors that the automated prediction makes. Can you see any patterns? Base your analysis on the first 500 rows of the training data. Summarize your observations in a short text."
   ]
  },
  {
   "cell_type": "code",
   "execution_count": 159,
   "metadata": {
    "tags": [
     "outputPrepend"
    ]
   },
   "outputs": [
    {
     "name": "stdout",
     "output_type": "stream",
     "text": [
      "tified alarm through \" dangerous generalisation . \"\n",
      "  FP: Spanish Farm\n",
      "  FN: Spanish\n",
      "Sentence: The EU 's scientific veterinary and multidisciplinary committees are due to re-examine the issue early next month and make recommendations to the senior veterinary officials .\n",
      "  FP: early next month\n",
      "Sentence: British farmers denied on Thursday there was any danger to human health from their sheep , but expressed concern that German government advice to consumers to avoid British lamb might influence consumers across Europe .\n",
      "  FP: Thursday\n",
      "Sentence: \" What we have to be extremely careful of is how other countries are going to take Germany 's lead , \" Welsh National Farmers ' Union ( NFU ) chairman John Lloyd Jones said on BBC radio .\n",
      "  FP: BBC\n",
      "  FN: BBC radio\n",
      "Sentence: Bonn has led efforts to protect public health after consumer confidence collapsed in March after a British report suggested humans could contract an illness similar to mad cow disease by eating contaminated beef .\n",
      "  FP: March\n",
      "Sentence: Germany imported 47,600 sheep from Britain last year , nearly half of total imports .\n",
      "  FP: nearly half\n",
      "  FP: last year\n",
      "  FP: 47,600\n",
      "Sentence: It brought in 4,275 tonnes of British mutton , some 10 percent of overall imports .\n",
      "  FP: 4,275\n",
      "  FP: some 10 percent\n",
      "Sentence: Rare Hendrix song draft sells for almost $ 17,000 .\n",
      "  FP: almost $ 17,000\n",
      "  FP: Rare Hendrix\n",
      "  FN: Hendrix\n",
      "Sentence: A rare early handwritten draft of a song by U.S. guitar legend Jimi Hendrix was sold for almost $ 17,000 on Thursday at an auction of some of the late musician 's favourite possessions .\n",
      "  FP: almost $ 17,000\n",
      "  FP: Thursday\n",
      "Sentence: A Florida restaurant paid 10,925 pounds ( $ 16,935 ) for the draft of \" Ai n't no telling \" , which Hendrix penned on a piece of London hotel stationery in late 1966 .\n",
      "  FP: 10,925 pounds\n",
      "  FP: 16,935\n",
      "  FP: late 1966\n",
      "  FN: Ai n't no telling\n",
      "Sentence: At the end of a January 1967 concert in the English city of Nottingham he threw the sheet of paper into the audience , where it was retrieved by a fan .\n",
      "  FP: the end of a January 1967\n",
      "Sentence: Buyers also snapped up 16 other items that were put up for auction by Hendrix 's former girlfriend Kathy Etchingham , who lived with him from 1966 to 1969 .\n",
      "  FP: 1969\n",
      "  FP: 1966\n",
      "  FP: 16\n",
      "Sentence: They included a black lacquer and mother of pearl inlaid box used by Hendrix to store his drugs , which an anonymous Australian purchaser bought for 5,060 pounds ( $ 7,845 ) .\n",
      "  FP: 5,060 pounds\n",
      "  FP: 7,845\n",
      "Sentence: China on Thursday accused Taipei of spoiling the atmosphere for a resumption of talks across the Taiwan Strait with a visit to Ukraine by Taiwanese Vice President Lien Chan this week that infuriated Beijing .\n",
      "  FP: the Taiwan Strait\n",
      "  FP: this week\n",
      "  FP: Thursday\n",
      "  FN: Taiwan Strait\n",
      "Sentence: Speaking only hours after Chinese state media said the time was right to engage in political talks with Taiwan , Foreign Ministry spokesman Shen Guofang told Reuters : \" The necessary atmosphere for the opening of the talks has been disrupted by the Taiwan authorities . \"\n",
      "  FP: only hours\n",
      "Sentence: State media quoted China 's top negotiator with Taipei , Tang Shubei , as telling a visiting group from Taiwan on Wednesday that it was time for the rivals to hold political talks .\n",
      "  FP: Wednesday\n",
      "Sentence: that is to end the state of hostility , \" Thursday 's overseas edition of the People 's Daily quoted Tang as saying .\n",
      "  FP: the People 's Daily\n",
      "  FP: Thursday\n",
      "  FN: People 's Daily\n",
      "Sentence: The foreign ministry 's Shen told Reuters Television in an interview he had read reports of Tang 's comments but gave no details of why the negotiator had considered the time right for talks with Taiwan , which Beijing considers a renegade province .\n",
      "  FN: Shen\n",
      "Sentence: China , which has long opposed all Taipei efforts to gain greater international recognition , was infuriated by a visit to Ukraine this week by Taiwanese Vice President Lien .\n",
      "  FP: this week\n",
      "Sentence: Consultations should be held to set the time and format of the talks , the official Xinhua news agency quoted Tang Shubei , executive vice chairman of the Association for Relations Across the Taiwan Straits , as saying late on Wednesday .\n",
      "  FP: Xinhua news agency\n",
      "  FP: Wednesday\n",
      "  FP: the Association for Relations Across\n",
      "  FN: Xinhua\n",
      "  FN: Association for Relations Across the Taiwan Straits\n",
      "Sentence: German July car registrations up 14.2 pct yr / yr .\n",
      "  FP: 14.2\n",
      "  FP: German July\n",
      "  FN: German\n",
      "Sentence: German first-time registrations of motor vehicles jumped 14.2 percent in July this year from the year-earlier period , the Federal office for motor vehicles said on Thursday .\n",
      "  FP: 14.2 percent\n",
      "  FP: Federal\n",
      "  FP: Thursday\n",
      "  FP: July this year\n",
      "  FN: Federal office for motor vehicles\n",
      "Sentence: Volkswagen AG won 77,719 registrations , slightly more than a quarter of the total .\n",
      "  FP: 77,719\n",
      "  FP: more than a quarter\n",
      "Sentence: Opel AG together with General Motors came in second place with 49,269 registrations , 16.4 percent of the overall figure .\n",
      "  FP: 16.4 percent\n",
      "  FP: 49,269\n",
      "  FP: second\n",
      "Sentence: Third was Ford with 35,563 registrations , or 11.7 percent .\n",
      "  FP: 35,563\n",
      "  FP: 11.7 percent\n",
      "  FP: Third\n",
      "Sentence: Only Seat and Porsche had fewer registrations in July 1996 compared to last year 's July .\n",
      "  FP: July 1996\n",
      "  FP: last year 's July\n",
      "  FN: Seat\n",
      "Sentence: Seat posted 3,420 registrations compared with 5522 registrations in July a year earlier .\n",
      "  FP: a year earlier\n",
      "  FP: 5522\n",
      "  FP: July\n",
      "  FP: 3,420\n",
      "  FN: Seat\n",
      "Sentence: Porsche 's registrations fell to 554 from 643 .\n",
      "  FP: 643\n",
      "  FP: 554\n",
      "Sentence: GREEK SOCIALISTS GIVE GREEN LIGHT TO PM FOR ELECTIONS .\n",
      "  FP: GREEK SOCIALISTS\n",
      "  FN: GREEK\n",
      "Sentence: ATHENS 1996-08-22\n",
      "  FN: ATHENS\n",
      "Sentence: Prime Minister Costas Simitis is going to make an official announcement after a cabinet meeting later on Thursday , said Skandalidis .\n",
      "  FP: Thursday\n",
      "Sentence: -- Dimitris Kontogiannis , Athens Newsroom +301 3311812-4\n",
      "  FP: Athens Newsroom +301 3311812-4\n",
      "  FP: -- Dimitris Kontogiannis\n",
      "  FN: Athens Newsroom\n",
      "  FN: Dimitris Kontogiannis\n",
      "Sentence: BayerVB sets C$ 100 million six-year bond .\n",
      "  FP: C$ 100 million\n",
      "  FN: BayerVB\n",
      "  FN: C$\n",
      "Sentence: BORROWER BAYERISCHE VEREINSBANK\n",
      "  FN: BAYERISCHE VEREINSBANK\n",
      "Sentence: AMT C$ 100 MLN COUPON 6.625 MATURITY 24.SEP.02\n",
      "  FP: 6.625\n",
      "  FN: C$\n",
      "Sentence: S&P = DENOMS ( K ) 1-10-100 SALE LIMITS US / UK / CA\n",
      "  FP: UK / CA\n",
      "  FP: 1-10-100\n",
      "  FN: CA\n",
      "  FN: S&P\n",
      "  FN: UK\n",
      "Sentence: GOV LAW GERMAN HOME CTRY = TAX PROVS STANDARD\n",
      "  FN: GERMAN\n",
      "Sentence: NOTES BAYERISCHE VEREINSBANK IS JOINT LEAD MANAGER\n",
      "  FN: BAYERISCHE VEREINSBANK\n",
      "Sentence: -- London Newsroom +44 171 542 7658\n",
      "  FP: -- London Newsroom +44\n",
      "  FN: London Newsroom\n",
      "Sentence: Venantius sets $ 300 million January 1999 FRN .\n",
      "  FP: January 1999\n",
      "  FP: $ 300 million\n",
      "  FP: FRN\n",
      "  FN: Venantius\n",
      "Sentence: BORROWER VENANTIUS AB ( SWEDISH NATIONAL MORTGAGE AGENCY )\n",
      "  FP: SWEDISH NATIONAL MORTGAGE AGENCY\n",
      "  FP: BORROWER VENANTIUS AB\n",
      "  FN: SWEDISH\n",
      "  FN: VENANTIUS AB\n",
      "Sentence: TYPE FRN BASE 3M LIBOR PAY DATE S23.SEP.96\n",
      "  FN: 3M\n",
      "Sentence: LAST S&P AA+ REOFFER =\n",
      "  FN: S&P\n",
      "Sentence: LISTING LONDON DENOMS ( K ) 1-10-100 SALE LIMITS US / UK / JP / FR\n",
      "  FP: 1-10-100\n",
      "  FN: FR\n",
      "  FN: JP\n",
      "Sentence: GOV LAW ENGLISH HOME CTRY SWEDEN TAX PROVS STANDARD\n",
      "  FN: SWEDEN\n",
      "Sentence: -- London Newsroom +44 171 542 8863\n",
      "  FP: 171\n",
      "  FP: -- London Newsroom +44\n",
      "  FP: 542\n",
      "  FN: London Newsroom\n",
      "Sentence: Port conditions update - Syria - Lloyds Shipping .\n",
      "  FN: Lloyds Shipping\n",
      "Sentence: LATTAKIA , Aug 10 - waiting time at Lattakia and Tartous presently 24 hours .\n",
      "  FP: 10\n",
      "  FP: 24 hours\n",
      "Sentence: Israel 's outgoing peace negotiator with Syria said on Thursday current tensions between the two countries appeared to be a storm in a teacup .\n",
      "  FP: Thursday\n",
      "  FP: two\n",
      "Sentence: Rabinovich is winding up his term as ambassador .\n",
      "  FN: Rabinovich\n",
      "Sentence: Israel on Wednesday sent Syria a message , via Washington , saying it was committed to peace and wanted to open negotiations without preconditions .\n",
      "  FP: Wednesday\n",
      "Sentence: Syria accused Israel on Wednesday of launching a hysterical campaign against it after Israeli television reported that Damascus had recently test fired a missile .\n",
      "  FP: Wednesday\n",
      "Sentence: Tension has mounted since Israeli Prime Minister Benjamin Netanyahu took office in June vowing to retain the Golan Heights Israel captured from Syria in the 1967 Middle East war .\n",
      "  FP: 1967\n",
      "  FP: June\n",
      "Sentence: Israeli-Syrian peace talks have been deadlocked over the Golan since 1991 despite the previous government 's willingness to make Golan concessions .\n",
      "  FP: 1991\n",
      "Sentence: We do not want a war , God forbid .\n",
      "  FN: God\n",
      "Sentence: The television also said that Netanyahu had sent messages to reassure Syria via Cairo , the United States and Moscow .\n",
      "  FP: the United States\n",
      "  FN: United States\n",
      "Sentence: TUNIS 1996-08-22\n",
      "  FN: TUNIS\n",
      "Sentence: A Polish diplomat on Thursday denied a Polish tabloid report this week that Libya was refusing exit visas to 100 Polish nurses trying to return home after working in the North African country .\n",
      "  FP: 100\n",
      "  FP: Thursday\n",
      "  FP: this week\n",
      "Sentence: Up to today , we have no knowledge of any nurse stranded or kept in Libya without her will , and we have not received any complaint , \" the Polish embassy 's charge d'affaires in Tripoli , Tadeusz Awdankiewicz , told Reuters by telephone .\n",
      "  FP: today\n",
      "Sentence: Poland 's labour ministry said this week it would send a team to Libya to investigate , but Awdankiewicz said the probe was prompted by some nurses complaining about their work conditions such as non-payment of their salaries .\n",
      "  FP: this week\n",
      "Sentence: He said that there are an estimated 800 Polish nurses working in Libya .\n",
      "  FP: an estimated 800\n",
      "Sentence: Two Iranian opposition leaders meet in Baghdad .\n",
      "  FP: Two\n",
      "Sentence: An Iranian exile group based in Iraq vowed on Thursday to extend support to Iran 's Kurdish rebels after they were attacked by Iranian troops deep inside Iraq last month .\n",
      "  FP: last month\n",
      "  FP: Thursday\n",
      "Sentence: A Mujahideen Khalq statement said its leader Massoud Rajavi met in Baghdad the Secretary-General of the Kurdistan Democratic Party of Iran ( KDPI ) Hassan Rastegar on Wednesday and voiced his support to Iran 's rebel Kurds .\n",
      "  FP: the Kurdistan Democratic Party\n",
      "  FP: Wednesday\n",
      "  FN: Kurdistan Democratic Party of Iran\n",
      "  FN: KDPI\n",
      "Sentence: \" Rajavi emphasised that the Iranian Resistance would continue to stand side by side with their Kurdish compatriots and the resistance movement in Iranian Kurdistan , \" it said .\n",
      "  FP: Iranian\n",
      "  FP: the Iranian Resistance\n",
      "  FP: Kurdistan\n",
      "  FN: Iranian\n",
      "  FN: Iranian Kurdistan\n",
      "  FN: Resistance\n",
      "Sentence: A spokesman for the group said the meeting \" signals a new level of cooperation between Mujahideen Khalq and the Iranian Kurdish oppositions \" .\n",
      "  FP: Kurdish\n",
      "  FP: Iranian\n",
      "  FN: Iranian Kurdish\n",
      "Sentence: Iran heavily bombarded targets in northern Iraq in July in pursuit of KDPI guerrillas based in Iraqi Kurdish areas outside the control of the government in Baghdad .\n",
      "  FP: Kurdish\n",
      "  FP: Iraqi\n",
      "  FP: July\n",
      "  FN: Iraqi Kurdish\n",
      "Sentence: Iraqi Kurdish areas bordering Iran are under the control of guerrillas of the Iraqi Kurdish Patriotic Union of Kurdistan ( PUK ) group .\n",
      "  FP: Iraqi\n",
      "  FP: Kurdish\n",
      "  FP: the Iraqi Kurdish Patriotic Union of Kurdistan\n",
      "  FN: Iraqi Kurdish\n",
      "  FN: Iraqi Kurdish Patriotic Union of Kurdistan\n",
      "Sentence: PUK and Iraq 's Kurdistan Democratic Party ( KDP ) the two main Iraqi Kurdish factions , have had northern Iraq under their control since Iraqi forces were ousted from Kuwait in the 1991 Gulf War .\n",
      "  FP: 1991\n",
      "  FP: two\n",
      "Sentence: Clashes between the two parties broke out at the weekend in the most serious fighting since a U.S.-sponsored ceasefire last year .\n",
      "  FP: two\n",
      "  FP: the weekend\n",
      "  FP: last year\n",
      "  FN: U.S.-sponsored\n",
      "Sentence: Mujahideen Khalq said Iranian troops had also been shelling KDP positions in Qasri region in Suleimaniya province near the Iranian border over the last two days .\n",
      "  FP: Suleimaniya province\n",
      "  FP: the last two days\n",
      "  FN: Suleimaniya\n",
      "Sentence: It said about 100 Iraqi Kurds were killed or wounded in the attack .\n",
      "  FP: about 100\n",
      "Sentence: A U.S.-led air force in southern Turkey protects Iraqi Kurds from possible attacks by Baghdad troops .\n",
      "  FP: Kurds\n",
      "  FP: Iraqi\n",
      "  FN: Iraqi Kurds\n",
      "  FN: U.S.-led\n",
      "Sentence: Saudi riyal rates steady in quiet summer trade .\n",
      "  FP: summer\n",
      "Sentence: The spot Saudi riyal against the dollar and riyal interbank deposit rates were mainly steady this week in quiet summer trade , dealers in the kingdom said .\n",
      "  FP: summer\n",
      "  FP: this week\n",
      "Sentence: One-month interbank deposits were at 5-1/2 , 3/8 percent , three months were 5-5/8 , 1/2 percent and six months were 5-3/4 , 5/8 percent .\n",
      "  FP: three months\n",
      "  FP: 3/8 percent\n",
      "  FP: 5/8 percent\n",
      "  FP: 5-3/4\n",
      "  FP: 5-1/2\n",
      "  FP: 1/2 percent\n",
      "  FP: six months\n",
      "  FP: 5-5/8\n",
      "  FN: One-month\n",
      "Sentence: One-year funds were at six , 5-7/8 percent .\n",
      "  FP: six\n",
      "  FP: 5-7/8 percent\n",
      "  FN: One-year\n",
      "Sentence: Israel gave Palestinian President Yasser Arafat permission on Thursday to fly over its territory to the West Bank , ending a brief Israeli-PLO crisis , an Arafat adviser said .\n",
      "  FP: the West Bank\n",
      "  FP: Thursday\n",
      "  FN: Israeli-PLO\n",
      "  FN: West Bank\n",
      "Sentence: The president 's aircraft has received permission to pass through Israeli airspace but the president is not expected to travel to the West Bank before Monday , \" Nabil Abu Rdainah told Reuters .\n",
      "  FP: the West Bank\n",
      "  FP: Monday\n",
      "  FN: West Bank\n",
      "Sentence: Arafat had been scheduled to meet former Israeli prime minister Shimon Peres in the West Bank town of Ramallah on Thursday but the venue was changed to Gaza after Israel denied flight clearance to the Palestinian leader 's helicopters .\n",
      "  FP: Thursday\n",
      "Sentence: Arafat subsequently cancelled a meeting between Israeli and PLO officials , on civilian affairs , at the Allenby Bridge crossing between Jordan and the West Bank .\n",
      "  FP: the West Bank\n",
      "  FP: the Allenby Bridge\n",
      "  FN: Allenby Bridge\n",
      "  FN: West Bank\n",
      "Sentence: Abu Rdainah said Arafat had decided against flying to the West Bank on Thursday , after Israel lifted the ban , because he had a busy schedule in Gaza and would not be free until Monday .\n",
      "  FP: Thursday\n",
      "  FP: the West Bank\n",
      "  FP: Monday\n",
      "  FN: West Bank\n",
      "Sentence: Yasser Arafat will meet Shimon Peres in Gaza on Thursday after Palestinians said the right-wing Israeli government had barred the Palestinian leader from flying to the West Bank for talks with the former prime minister .\n",
      "  FP: the West Bank\n",
      "  FP: Thursday\n",
      "  FN: West Bank\n",
      "Sentence: Palestinian officials said the Israeli government had barred Arafat from overflying Israel in a Palestinian helicopter to the West Bank in an attempt to bar the meeting with Peres .\n",
      "  FP: the West Bank\n",
      "  FN: West Bank\n",
      "Sentence: Israeli Prime Minister Benjamin Netanyahu has accused opposition leader Peres , who he defeated in May elections , of trying to undermine his Likud government 's authority to conduct peace talks .\n",
      "  FP: May\n",
      "Sentence: Afghan UAE embassy says Taleban guards going home .\n",
      "  FN: UAE\n",
      "  FN: Taleban\n",
      "Sentence: DUBAI 1996-08-22\n",
      "  FN: DUBAI\n",
      "Sentence: Three Afghan guards brought to the United Arab Emirates last week by Russian hostages who escaped from the Taleban militia will return to Afghanistan in a few days , the Afghan embassy in Abu Dhabi said on Thursday .\n",
      "  FP: last week\n",
      "  FP: the United Arab Emirates\n",
      "  FP: a few days\n",
      "  FP: Thursday\n",
      "  FP: Three\n",
      "  FN: United Arab Emirates\n",
      "Sentence: Their return to Afghanistan will take place in two or three days , \" an embassy official said .\n",
      "  FP: two or three days\n",
      "Sentence: The three Islamic Taleban guards were overpowered by seven Russian aircrew who escaped to UAE state Sharjah last Friday on board their own aircraft after a year in the captivity of Taleban militia in Kandahar in southern Afghanistan .\n",
      "  FP: Taleban\n",
      "  FP: Islamic\n",
      "  FP: last Friday\n",
      "  FP: seven\n",
      "  FP: three\n",
      "  FP: a year\n",
      "  FN: Islamic Taleban\n",
      "Sentence: The UAE said on Monday it would hand over the three to the International Red Crescent , possibly last Tuesday .\n",
      "  FP: last Tuesday\n",
      "  FP: three\n",
      "  FP: Monday\n",
      "  FP: the International Red Crescent\n",
      "  FN: International Red Crescent\n",
      "Sentence: When asked whether the three guards would travel back to Kandahar or the Afghan capital Kabul , the embassy official said : \" That has not been decided , but possibly Kandahar . \"\n",
      "  FP: three\n",
      "Sentence: The embassy official said the three men , believed to be in their 20s , were currently in Abu Dhabi .\n",
      "  FP: their 20s\n",
      "  FP: three\n",
      "Sentence: The Russians , working for the Aerostan firm in the Russian republic of Tatarstan , were taken hostage after a Taleban MiG-19 fighter forced their cargo plane to land in August 1995 .\n",
      "  FP: August 1995\n",
      "  FN: MiG-19\n",
      "  FN: Taleban\n",
      "Sentence: The Russians , who said they overpowered the guards -- two armed with Kalashnikov automatic rifles -- while doing regular maintenance work on their Ilyushin 76 cargo plane last Friday , left the UAE capital Abu Dhabi for home on Sunday .\n",
      "  FP: last Friday\n",
      "  FP: two\n",
      "  FP: 76\n",
      "  FP: Sunday\n",
      "  FN: Ilyushin 76\n",
      "Sentence: Iraqi President Saddam Hussein has told visiting Russian ultra-nationalist Vladimir Zhirinovsky that Baghdad wanted to maintain \" friendship and cooperation \" with Moscow , official Iraqi newspapers said on Thursday .\n",
      "  FP: Thursday\n",
      "Sentence: They said Zhirinovsky told Saddam before he left Baghdad on Wednesday that his Liberal Democratic party and the Russian Duma ( parliament ) \" are calling for an immediate lifting of the embargo \" imposed on Iraq after its 1990 invasion of Kuwait .\n",
      "  FP: 1990\n",
      "  FP: the Russian Duma\n",
      "  FP: Wednesday\n",
      "  FN: Russian\n",
      "  FN: Duma\n",
      "Sentence: Zhirinovsky said on Tuesday he would press the Russian government to help end U.N. trade sanctions on Iraq and blamed Moscow for delaying establishment of good ties with Baghdad .\n",
      "  FP: Tuesday\n",
      "Sentence: Zhirinovsky visited Iraq twice in 1995 .\n",
      "  FP: 1995\n",
      "Sentence: Last October he was invited to attend the referendum held on Iraq 's presidency , which extended Saddam 's term for seven more years .\n",
      "  FP: seven more years\n",
      "  FP: Last October\n",
      "Sentence: PRESS DIGEST - Iraq - Aug 22 .\n",
      "  FP: PRESS DIGEST - Iraq\n",
      "  FN: Iraq\n",
      "Sentence: These are some of the leading stories in the official Iraqi press on Thursday .\n",
      "  FP: Thursday\n",
      "Sentence: THAWRA\n",
      "  FN: THAWRA\n",
      "Sentence: - Turkish foreign minister says Turkey will take part in the Baghdad trade fair that will be held in November .\n",
      "  FP: November\n",
      "Sentence: IRAQ\n",
      "  FN: IRAQ\n",
      "Sentence: - A shipload of 12 tonnes of rice arrives in Umm Qasr port in the Gulf .\n",
      "  FP: 12\n",
      "  FP: Umm\n",
      "  FN: Umm Qasr\n",
      "Sentence: PRESS DIGEST - Lebanon - Aug 22 .\n",
      "  FP: PRESS DIGEST - Lebanon - Aug 22\n",
      "  FN: Lebanon\n",
      "Sentence: BEIRUT 1996-08-22\n",
      "  FN: BEIRUT\n",
      "Sentence: These are the leading stories in the Beirut press on Thursday .\n",
      "  FP: Thursday\n",
      "Sentence: AN-NAHAR\n",
      "  FN: AN-NAHAR\n",
      "Sentence: AS-SAFIR\n",
      "  FN: AS-SAFIR\n",
      "Sentence: - Parliament Speaker Berri : Israel is preparing for war against Syria and Lebanon .\n",
      "  FP: Parliament\n",
      "Sentence: AL-ANWAR\n",
      "  FN: AL-ANWAR\n",
      "Sentence: - Continued criticism of law violation incidents -- which occurred in the Mount Lebanon elections last Sunday .\n",
      "  FP: last Sunday\n",
      "Sentence: AD-DIYAR\n",
      "  FN: AD-DIYAR\n",
      "Sentence: - Hariri to step into the election battle with an incomplete list .\n",
      "  FN: Hariri\n",
      "Sentence: NIDA'A AL-WATAN\n",
      "  FN: NIDA'A AL-WATAN\n",
      "Sentence: - Maronite Patriarch Sfeir expressed sorrow over the violations in Sunday ' elections .\n",
      "  FP: Sunday\n",
      "  FN: Maronite\n",
      "  FN: Sfeir\n",
      "Sentence: Early calls on CME live and feeder cattle futures ranged from 0.200 cent higher to 0.100 lower , livestock analysts said .\n",
      "  FP: 0.200 cent\n",
      "  FP: 0.100\n",
      "Sentence: KinderCare Learning Centers Inc said on Thursday that a debt buyback would mean an extraordinary loss of $ 1.2 million in its fiscal 1997 first quarter .\n",
      "  FP: fiscal 1997 first quarter\n",
      "  FP: $ 1.2 million\n",
      "  FP: buyback\n",
      "  FP: Thursday\n",
      "Sentence: RESEARCH ALERT - Lehman starts SNET .\n",
      "  FP: RESEARCH ALERT - Lehman\n",
      "  FN: SNET\n",
      "  FN: Lehman\n"
     ]
    }
   ],
   "source": [
    "# TODO: Write code here to do your analysis\n",
    "ent_pred=[]\n",
    "print(1111)\n",
    "for x in df_train.iloc[:500].itertuples():\n",
    "    doc = nlp(x[2])\n",
    "    for ent in doc.ents:\n",
    "        ent_pred.append((x[1],ent.start,ent.end))\n",
    "spans_train_pred=set(ent_pred)\n",
    "error_report(df_train.iloc[:500],set(gold_spans(df_train)),spans_train_pred)"
   ]
  },
  {
   "cell_type": "markdown",
   "metadata": {},
   "source": [
    "*TODO: Write a short text that summarises the errors that you observed*\n",
    "\n",
    "False Positive is the wrongly predicted entities and we can see from previous result that most of the FPs are numbers, locations, time and date."
   ]
  },
  {
   "cell_type": "markdown",
   "metadata": {},
   "source": [
    "Now, use the insights from your error analysis to improve the automated prediction that you implemented in Problem&nbsp;2. While the best way to do this would be to [update spaCy&rsquo;s NER model](https://spacy.io/usage/linguistic-features#updating) using domain-specific training data, for this lab it suffices to write code to post-process the output produced by spaCy. You should be able to improve the F1 score from Problem&nbsp;2 by at last 15 percentage points."
   ]
  },
  {
   "cell_type": "code",
   "execution_count": 160,
   "metadata": {
    "tags": [
     "outputPrepend"
    ]
   },
   "outputs": [
    {
     "name": "stdout",
     "output_type": "stream",
     "text": [
      "1', 26, 27), ('1152-012', 5, 6), ('1152-012', 11, 12), ('1152-012', 15, 16), ('1152-012', 5, 6), ('1152-012', 11, 12), ('1152-012', 15, 16), ('1152-012', 5, 6), ('1152-012', 11, 12), ('1152-012', 15, 16), ('1152-013', 0, 1), ('1152-013', 5, 6), ('1152-013', 9, 10), ('1152-013', 17, 18), ('1152-013', 0, 1), ('1152-013', 5, 6), ('1152-013', 9, 10), ('1152-013', 17, 18), ('1152-013', 0, 1), ('1152-013', 5, 6), ('1152-013', 9, 10), ('1152-013', 17, 18), ('1152-013', 0, 1), ('1152-013', 5, 6), ('1152-013', 9, 10), ('1152-013', 17, 18), ('1152-014', 5, 8), ('1152-014', 18, 19), ('1152-014', 23, 25), ('1152-014', 46, 47), ('1152-014', 49, 52), ('1152-014', 5, 8), ('1152-014', 18, 19), ('1152-014', 23, 25), ('1152-014', 46, 47), ('1152-014', 49, 52), ('1152-014', 5, 8), ('1152-014', 18, 19), ('1152-014', 23, 25), ('1152-014', 46, 47), ('1152-014', 49, 52), ('1152-014', 5, 8), ('1152-014', 18, 19), ('1152-014', 23, 25), ('1152-014', 46, 47), ('1152-014', 49, 52), ('1152-014', 5, 8), ('1152-014', 18, 19), ('1152-014', 23, 25), ('1152-014', 46, 47), ('1152-014', 49, 52), ('1152-014', 5, 8), ('1152-014', 18, 19), ('1152-014', 23, 25), ('1152-014', 46, 47), ('1152-014', 49, 52), ('1152-014', 5, 8), ('1152-014', 18, 19), ('1152-014', 23, 25), ('1152-014', 46, 47), ('1152-014', 49, 52), ('1152-014', 5, 8), ('1152-014', 18, 19), ('1152-014', 23, 25), ('1152-014', 46, 47), ('1152-014', 49, 52), ('1152-014', 5, 8), ('1152-014', 18, 19), ('1152-014', 23, 25), ('1152-014', 46, 47), ('1152-014', 49, 52), ('1152-015', 7, 9), ('1152-016', 2, 3), ('1152-016', 8, 9), ('1152-016', 14, 15), ('1152-016', 17, 18), ('1152-016', 22, 24), ('1152-016', 26, 27), ('1152-016', 2, 3), ('1152-016', 8, 9), ('1152-016', 14, 15), ('1152-016', 17, 18), ('1152-016', 22, 24), ('1152-016', 26, 27), ('1152-016', 2, 3), ('1152-016', 8, 9), ('1152-016', 14, 15), ('1152-016', 17, 18), ('1152-016', 22, 24), ('1152-016', 26, 27), ('1152-016', 2, 3), ('1152-016', 8, 9), ('1152-016', 14, 15), ('1152-016', 17, 18), ('1152-016', 22, 24), ('1152-016', 26, 27), ('1152-016', 2, 3), ('1152-016', 8, 9), ('1152-016', 14, 15), ('1152-016', 17, 18), ('1152-016', 22, 24), ('1152-016', 26, 27), ('1152-016', 2, 3), ('1152-016', 8, 9), ('1152-016', 14, 15), ('1152-016', 17, 18), ('1152-016', 22, 24), ('1152-016', 26, 27), ('1152-017', 3, 4), ('1152-017', 9, 14), ('1152-017', 3, 4), ('1152-017', 9, 14), ('1152-018', 1, 3), ('1152-018', 18, 19), ('1152-018', 22, 23), ('1152-018', 1, 3), ('1152-018', 18, 19), ('1152-018', 22, 23), ('1152-018', 1, 3), ('1152-018', 18, 19), ('1152-018', 22, 23), ('1153-000', 2, 3), ('1153-001', 0, 1), ('1153-002', 1, 2), ('1153-002', 6, 7), ('1153-002', 15, 16), ('1153-003', 4, 5), ('1153-003', 6, 7), ('1153-003', 4, 5), ('1153-003', 6, 7), ('1153-004', 9, 10), ('1153-006', 2, 3), ('1153-006', 8, 10), ('1153-006', 11, 12), ('1153-006', 14, 16), ('1153-006', 36, 37), ('1153-006', 38, 39), ('1153-006', 2, 3), ('1153-006', 8, 10), ('1153-006', 11, 12), ('1153-006', 14, 16), ('1153-006', 36, 37), ('1153-006', 38, 39), ('1153-006', 2, 3), ('1153-006', 8, 10), ('1153-006', 11, 12), ('1153-006', 14, 16), ('1153-006', 36, 37), ('1153-006', 38, 39), ('1153-007', 30, 31), ('1153-007', 32, 36), ('1153-007', 30, 31), ('1153-007', 32, 36), ('1154-000', 0, 1), ('1154-001', 0, 1), ('1154-002', 8, 9), ('1154-002', 10, 11), ('1154-002', 16, 17), ('1154-002', 20, 21), ('1154-002', 8, 9), ('1154-002', 10, 11), ('1154-002', 16, 17), ('1154-002', 20, 21), ('1154-003', 0, 1), ('1154-003', 29, 30), ('1154-003', 0, 1), ('1154-003', 29, 30), ('1154-004', 1, 3), ('1154-005', 0, 1), ('1154-006', 0, 3), ('1154-006', 16, 18), ('1154-006', 19, 21), ('1154-006', 22, 24), ('1154-006', 26, 27), ('1154-006', 0, 3), ('1154-006', 16, 18), ('1154-006', 19, 21), ('1154-006', 22, 24), ('1154-006', 26, 27), ('1154-008', 0, 1), ('1154-008', 3, 8), ('1154-008', 9, 10), ('1154-008', 20, 21), ('1154-008', 33, 34), ('1154-008', 36, 40), ('1154-008', 0, 1), ('1154-008', 3, 8), ('1154-008', 9, 10), ('1154-008', 20, 21), ('1154-008', 33, 34), ('1154-008', 36, 40), ('1154-008', 0, 1), ('1154-008', 3, 8), ('1154-008', 9, 10), ('1154-008', 20, 21), ('1154-008', 33, 34), ('1154-008', 36, 40), ('1154-008', 0, 1), ('1154-008', 3, 8), ('1154-008', 9, 10), ('1154-008', 20, 21), ('1154-008', 33, 34), ('1154-008', 36, 40), ('1154-009', 7, 8), ('1154-009', 11, 12), ('1154-009', 17, 19), ('1154-009', 29, 30), ('1154-009', 7, 8), ('1154-009', 11, 12), ('1154-009', 17, 19), ('1154-009', 29, 30), ('1154-009', 7, 8), ('1154-009', 11, 12), ('1154-009', 17, 19), ('1154-009', 29, 30), ('1155-000', 0, 1), ('1155-000', 3, 4), ('1155-000', 8, 9), ('1155-000', 0, 1), ('1155-000', 3, 4), ('1155-000', 8, 9), ('1155-000', 0, 1), ('1155-000', 3, 4), ('1155-000', 8, 9), ('1155-001', 0, 1), ('1155-002', 0, 1), ('1155-002', 9, 10), ('1155-002', 13, 14), ('1155-002', 14, 17), ('1155-002', 24, 25), ('1155-002', 30, 31), ('1155-002', 0, 1), ('1155-002', 9, 10), ('1155-002', 13, 14), ('1155-002', 14, 17), ('1155-002', 24, 25), ('1155-002', 30, 31), ('1155-002', 0, 1), ('1155-002', 9, 10), ('1155-002', 13, 14), ('1155-002', 14, 17), ('1155-002', 24, 25), ('1155-002', 30, 31), ('1155-002', 0, 1), ('1155-002', 9, 10), ('1155-002', 13, 14), ('1155-002', 14, 17), ('1155-002', 24, 25), ('1155-002', 30, 31), ('1155-003', 12, 13), ('1155-003', 14, 15), ('1155-003', 18, 19), ('1155-003', 25, 27), ('1155-003', 30, 31), ('1155-003', 12, 13), ('1155-003', 14, 15), ('1155-003', 18, 19), ('1155-003', 25, 27), ('1155-003', 30, 31), ('1155-003', 12, 13), ('1155-003', 14, 15), ('1155-003', 18, 19), ('1155-003', 25, 27), ('1155-003', 30, 31), ('1155-003', 12, 13), ('1155-003', 14, 15), ('1155-003', 18, 19), ('1155-003', 25, 27), ('1155-003', 30, 31), ('1155-004', 0, 1), ('1155-005', 5, 6), ('1155-005', 14, 15), ('1155-005', 5, 6), ('1155-005', 14, 15), ('1155-006', 1, 2), ('1155-006', 10, 11), ('1155-006', 1, 2), ('1155-006', 10, 11), ('1155-007', 0, 1), ('1155-009', 15, 16), ('1155-009', 19, 20), ('1155-009', 21, 23), ('1155-009', 15, 16), ('1155-009', 19, 20), ('1155-009', 21, 23), ('1155-009', 15, 16), ('1155-009', 19, 20), ('1155-009', 21, 23), ('1155-010', 7, 8), ('1155-010', 17, 18), ('1155-010', 27, 28), ('1155-010', 31, 32), ('1155-010', 34, 35), ('1155-010', 7, 8), ('1155-010', 17, 18), ('1155-010', 27, 28), ('1155-010', 31, 32), ('1155-010', 34, 35), ('1155-010', 7, 8), ('1155-010', 17, 18), ('1155-010', 27, 28), ('1155-010', 31, 32), ('1155-010', 34, 35), ('1155-010', 7, 8), ('1155-010', 17, 18), ('1155-010', 27, 28), ('1155-010', 31, 32), ('1155-010', 34, 35), ('1155-010', 7, 8), ('1155-010', 17, 18), ('1155-010', 27, 28), ('1155-010', 31, 32), ('1155-010', 34, 35), ('1155-011', 0, 1), ('1155-011', 3, 4), ('1155-011', 6, 7), ('1155-011', 15, 16), ('1155-011', 16, 18), ('1155-011', 0, 1), ('1155-011', 3, 4), ('1155-011', 6, 7), ('1155-011', 15, 16), ('1155-011', 16, 18), ('1155-011', 0, 1), ('1155-011', 3, 4), ('1155-011', 6, 7), ('1155-011', 15, 16), ('1155-011', 16, 18), ('1155-011', 0, 1), ('1155-011', 3, 4), ('1155-011', 6, 7), ('1155-011', 15, 16), ('1155-011', 16, 18), ('1155-012', 7, 8), ('1155-012', 12, 13), ('1155-012', 16, 17), ('1155-012', 7, 8), ('1155-012', 12, 13), ('1155-012', 16, 17), ('1155-012', 7, 8), ('1155-012', 12, 13), ('1155-012', 16, 17), ('1155-013', 1, 2), ('1155-014', 0, 1), ('1155-014', 5, 6), ('1155-014', 9, 11), ('1155-014', 17, 18), ('1155-014', 0, 1), ('1155-014', 5, 6), ('1155-014', 9, 11), ('1155-014', 17, 18), ('1155-014', 0, 1), ('1155-014', 5, 6), ('1155-014', 9, 11), ('1155-014', 17, 18), ('1155-014', 0, 1), ('1155-014', 5, 6), ('1155-014', 9, 11), ('1155-014', 17, 18), ('1155-015', 0, 1), ('1155-015', 8, 9), ('1155-015', 12, 13), ('1155-015', 0, 1), ('1155-015', 8, 9), ('1155-015', 12, 13), ('1155-015', 0, 1), ('1155-015', 8, 9), ('1155-015', 12, 13), ('1156-000', 0, 1), ('1156-000', 2, 3), ('1156-000', 4, 5), ('1156-000', 0, 1), ('1156-000', 2, 3), ('1156-000', 4, 5), ('1156-000', 0, 1), ('1156-000', 2, 3), ('1156-000', 4, 5), ('1156-000', 0, 1), ('1156-000', 2, 3), ('1156-000', 4, 5), ('1156-002', 0, 1), ('1156-002', 3, 5), ('1156-002', 6, 7), ('1156-002', 9, 10), ('1156-002', 11, 13), ('1156-002', 18, 19), ('1156-002', 0, 1), ('1156-002', 3, 5), ('1156-002', 6, 7), ('1156-002', 9, 10), ('1156-002', 11, 13), ('1156-002', 18, 19), ('1156-002', 0, 1), ('1156-002', 3, 5), ('1156-002', 6, 7), ('1156-002', 9, 10), ('1156-002', 11, 13), ('1156-002', 18, 19), ('1156-002', 0, 1), ('1156-002', 3, 5), ('1156-002', 6, 7), ('1156-002', 9, 10), ('1156-002', 11, 13), ('1156-002', 18, 19), ('1156-002', 0, 1), ('1156-002', 3, 5), ('1156-002', 6, 7), ('1156-002', 9, 10), ('1156-002', 11, 13), ('1156-002', 18, 19), ('1156-003', 3, 4), ('1156-003', 4, 6), ('1156-003', 15, 16), ('1156-003', 19, 20), ('1156-003', 21, 23), ('1156-003', 25, 30), ('1156-003', 32, 33), ('1156-003', 33, 35), ('1156-003', 40, 41), ('1156-003', 3, 4), ('1156-003', 4, 6), ('1156-003', 15, 16), ('1156-003', 19, 20), ('1156-003', 21, 23), ('1156-003', 25, 30), ('1156-003', 32, 33), ('1156-003', 33, 35), ('1156-003', 40, 41), ('1156-003', 3, 4), ('1156-003', 4, 6), ('1156-003', 15, 16), ('1156-003', 19, 20), ('1156-003', 21, 23), ('1156-003', 25, 30), ('1156-003', 32, 33), ('1156-003', 33, 35), ('1156-003', 40, 41), ('1156-003', 3, 4), ('1156-003', 4, 6), ('1156-003', 15, 16), ('1156-003', 19, 20), ('1156-003', 21, 23), ('1156-003', 25, 30), ('1156-003', 32, 33), ('1156-003', 33, 35), ('1156-003', 40, 41), ('1156-003', 3, 4), ('1156-003', 4, 6), ('1156-003', 15, 16), ('1156-003', 19, 20), ('1156-003', 21, 23), ('1156-003', 25, 30), ('1156-003', 32, 33), ('1156-003', 33, 35), ('1156-003', 40, 41), ('1156-003', 3, 4), ('1156-003', 4, 6), ('1156-003', 15, 16), ('1156-003', 19, 20), ('1156-003', 21, 23), ('1156-003', 25, 30), ('1156-003', 32, 33), ('1156-003', 33, 35), ('1156-003', 40, 41), ('1156-003', 3, 4), ('1156-003', 4, 6), ('1156-003', 15, 16), ('1156-003', 19, 20), ('1156-003', 21, 23), ('1156-003', 25, 30), ('1156-003', 32, 33), ('1156-003', 33, 35), ('1156-003', 40, 41), ('1156-003', 3, 4), ('1156-003', 4, 6), ('1156-003', 15, 16), ('1156-003', 19, 20), ('1156-003', 21, 23), ('1156-003', 25, 30), ('1156-003', 32, 33), ('1156-003', 33, 35), ('1156-003', 40, 41), ('1156-003', 3, 4), ('1156-003', 4, 6), ('1156-003', 15, 16), ('1156-003', 19, 20), ('1156-003', 21, 23), ('1156-003', 25, 30), ('1156-003', 32, 33), ('1156-003', 33, 35), ('1156-003', 40, 41), ('1156-004', 6, 7), ('1156-004', 14, 16), ('1156-004', 23, 24), ('1156-004', 30, 32), ('1156-004', 6, 7), ('1156-004', 14, 16), ('1156-004', 23, 24), ('1156-004', 30, 32), ('1156-004', 6, 7), ('1156-004', 14, 16), ('1156-004', 23, 24), ('1156-004', 30, 32), ('1156-004', 6, 7), ('1156-004', 14, 16), ('1156-004', 23, 24), ('1156-004', 30, 32), ('1156-006', 9, 12), ('1156-006', 15, 21), ('1156-006', 22, 23), ('1156-006', 9, 12), ('1156-006', 15, 21), ('1156-006', 22, 23), ('1156-006', 9, 12), ('1156-006', 15, 21), ('1156-006', 22, 23), ('1156-007', 2, 3), ('1156-007', 4, 5), ('1156-008', 0, 4), ('1156-008', 5, 6), ('1156-008', 11, 12), ('1156-008', 13, 15), ('1156-008', 18, 19), ('1156-008', 28, 29), ('1156-008', 0, 4), ('1156-008', 5, 6), ('1156-008', 11, 12), ('1156-008', 13, 15), ('1156-008', 18, 19), ('1156-008', 28, 29), ('1156-008', 0, 4), ('1156-008', 5, 6), ('1156-008', 11, 12), ('1156-008', 13, 15), ('1156-008', 18, 19), ('1156-008', 28, 29), ('1156-008', 0, 4), ('1156-008', 5, 6), ('1156-008', 11, 12), ('1156-008', 13, 15), ('1156-008', 18, 19), ('1156-008', 28, 29), ('1156-009', 2, 3), ('1156-009', 11, 12), ('1156-009', 18, 19), ('1156-009', 2, 3), ('1156-009', 11, 12), ('1156-009', 18, 19), ('1156-009', 2, 3), ('1156-009', 11, 12), ('1156-009', 18, 19), ('1156-010', 10, 11), ('1156-010', 12, 13), ('1156-010', 17, 18), ('1156-010', 20, 21), ('1156-010', 10, 11), ('1156-010', 12, 13), ('1156-010', 17, 18), ('1156-010', 20, 21), ('1157-000', 0, 1), ('1157-000', 6, 7), ('1157-001', 0, 1), ('1157-002', 0, 6), ('1157-002', 8, 9), ('1157-002', 19, 20), ('1157-002', 0, 6), ('1157-002', 8, 9), ('1157-002', 19, 20), ('1157-003', 2, 3), ('1157-003', 5, 6), ('1157-003', 2, 3), ('1157-003', 5, 6), ('1157-004', 2, 3), ('1157-004', 5, 7), ('1157-004', 10, 11), ('1157-004', 13, 16), ('1157-004', 17, 18), ('1157-004', 25, 26), ('1157-004', 28, 29), ('1157-004', 2, 3), ('1157-004', 5, 7), ('1157-004', 10, 11), ('1157-004', 13, 16), ('1157-004', 17, 18), ('1157-004', 25, 26), ('1157-004', 28, 29), ('1157-004', 2, 3), ('1157-004', 5, 7), ('1157-004', 10, 11), ('1157-004', 13, 16), ('1157-004', 17, 18), ('1157-004', 25, 26), ('1157-004', 28, 29), ('1157-004', 2, 3), ('1157-004', 5, 7), ('1157-004', 10, 11), ('1157-004', 13, 16), ('1157-004', 17, 18), ('1157-004', 25, 26), ('1157-004', 28, 29), ('1157-004', 2, 3), ('1157-004', 5, 7), ('1157-004', 10, 11), ('1157-004', 13, 16), ('1157-004', 17, 18), ('1157-004', 25, 26), ('1157-004', 28, 29), ('1157-004', 2, 3), ('1157-004', 5, 7), ('1157-004', 10, 11), ('1157-004', 13, 16), ('1157-004', 17, 18), ('1157-004', 25, 26), ('1157-004', 28, 29), ('1158-000', 5, 6), ('1158-001', 0, 1), ('1158-002', 7, 8), ('1158-002', 17, 18), ('1158-002', 22, 23), ('1158-002', 7, 8), ('1158-002', 17, 18), ('1158-002', 22, 23), ('1158-003', 5, 6), ('1158-003', 8, 9), ('1158-003', 10, 11), ('1158-003', 26, 27), ('1158-003', 27, 29), ('1158-003', 5, 6), ('1158-003', 8, 9), ('1158-003', 10, 11), ('1158-003', 26, 27), ('1158-003', 27, 29), ('1158-003', 5, 6), ('1158-003', 8, 9), ('1158-003', 10, 11), ('1158-003', 26, 27), ('1158-003', 27, 29), ('1158-003', 5, 6), ('1158-003', 8, 9), ('1158-003', 10, 11), ('1158-003', 26, 27), ('1158-003', 27, 29), ('1158-005', 1, 2), ('1158-005', 14, 15), ('1158-005', 17, 22), ('1158-005', 1, 2), ('1158-005', 14, 15), ('1158-005', 17, 22), ('1158-005', 1, 2), ('1158-005', 14, 15), ('1158-005', 17, 22), ('1158-005', 1, 2), ('1158-005', 14, 15), ('1158-005', 17, 22), ('1159-000', 7, 8), ('1159-001', 0, 1), ('1159-002', 0, 1), ('1159-002', 4, 5), ('1159-002', 20, 23), ('1159-003', 15, 16), ('1159-003', 19, 20), ('1159-003', 15, 16), ('1159-003', 19, 20), ('1159-004', 2, 3), ('1159-004', 4, 5), ('1159-004', 12, 13), ('1159-004', 14, 16), ('1159-004', 17, 18), ('1159-004', 20, 22), ('1159-004', 23, 24), ('1159-004', 33, 34), ('1159-004', 35, 36), ('1159-004', 38, 39), ('1159-004', 2, 3), ('1159-004', 4, 5), ('1159-004', 12, 13), ('1159-004', 14, 16), ('1159-004', 17, 18), ('1159-004', 20, 22), ('1159-004', 23, 24), ('1159-004', 33, 34), ('1159-004', 35, 36), ('1159-004', 38, 39), ('1159-004', 2, 3), ('1159-004', 4, 5), ('1159-004', 12, 13), ('1159-004', 14, 16), ('1159-004', 17, 18), ('1159-004', 20, 22), ('1159-004', 23, 24), ('1159-004', 33, 34), ('1159-004', 35, 36), ('1159-004', 38, 39), ('1159-004', 2, 3), ('1159-004', 4, 5), ('1159-004', 12, 13), ('1159-004', 14, 16), ('1159-004', 17, 18), ('1159-004', 20, 22), ('1159-004', 23, 24), ('1159-004', 33, 34), ('1159-004', 35, 36), ('1159-004', 38, 39), ('1159-004', 2, 3), ('1159-004', 4, 5), ('1159-004', 12, 13), ('1159-004', 14, 16), ('1159-004', 17, 18), ('1159-004', 20, 22), ('1159-004', 23, 24), ('1159-004', 33, 34), ('1159-004', 35, 36), ('1159-004', 38, 39), ('1159-007', 28, 29), ('1159-007', 30, 34), ('1159-007', 28, 29), ('1159-007', 30, 34), ('1160-000', 5, 6), ('1160-000', 5, 6), ('1160-001', 0, 2), ('1160-002', 0, 1), ('1160-002', 2, 3), ('1160-003', 2, 4), ('1160-003', 16, 18), ('1160-003', 25, 26), ('1160-003', 31, 32), ('1160-003', 33, 37), ('1160-003', 2, 4), ('1160-003', 16, 18), ('1160-003', 25, 26), ('1160-003', 31, 32), ('1160-003', 33, 37), ('1160-003', 2, 4), ('1160-003', 16, 18), ('1160-003', 25, 26), ('1160-003', 31, 32), ('1160-003', 33, 37), ('1160-003', 2, 4), ('1160-003', 16, 18), ('1160-003', 25, 26), ('1160-003', 31, 32), ('1160-003', 33, 37), ('1160-004', 4, 6), ('1160-004', 7, 9), ('1160-004', 14, 16), ('1160-004', 17, 22), ('1160-004', 28, 29), ('1160-004', 31, 34), ('1160-004', 4, 6), ('1160-004', 7, 9), ('1160-004', 14, 16), ('1160-004', 17, 22), ('1160-004', 28, 29), ('1160-004', 31, 34), ('1160-004', 4, 6), ('1160-004', 7, 9), ('1160-004', 14, 16), ('1160-004', 17, 22), ('1160-004', 28, 29), ('1160-004', 31, 34), ('1160-004', 4, 6), ('1160-004', 7, 9), ('1160-004', 14, 16), ('1160-004', 17, 22), ('1160-004', 28, 29), ('1160-004', 31, 34), ('1160-004', 4, 6), ('1160-004', 7, 9), ('1160-004', 14, 16), ('1160-004', 17, 22), ('1160-004', 28, 29), ('1160-004', 31, 34), ('1160-005', 6, 7), ('1160-005', 8, 11), ('1160-005', 26, 28), ('1160-005', 6, 7), ('1160-005', 8, 11), ('1160-005', 26, 28), ('1160-005', 6, 7), ('1160-005', 8, 11), ('1160-005', 26, 28), ('1160-006', 0, 1), ('1160-006', 15, 16), ('1160-007', 6, 7), ('1160-007', 9, 10), ('1160-007', 21, 22), ('1160-007', 28, 30), ('1160-007', 6, 7), ('1160-007', 9, 10), ('1160-007', 21, 22), ('1160-007', 28, 30), ('1160-007', 6, 7), ('1160-007', 9, 10), ('1160-007', 21, 22), ('1160-007', 28, 30), ('1160-007', 6, 7), ('1160-007', 9, 10), ('1160-007', 21, 22), ('1160-007', 28, 30), ('1160-010', 0, 1), ('1160-010', 3, 4), ('1160-010', 5, 10), ('1160-010', 27, 28), ('1160-010', 0, 1), ('1160-010', 3, 4), ('1160-010', 5, 10), ('1160-010', 27, 28), ('1160-010', 0, 1), ('1160-010', 3, 4), ('1160-010', 5, 10), ('1160-010', 27, 28), ('1160-010', 0, 1), ('1160-010', 3, 4), ('1160-010', 5, 10), ('1160-010', 27, 28), ('1160-011', 17, 19), ('1160-011', 20, 21), ('1160-011', 22, 24), ('1160-011', 25, 26), ('1160-011', 28, 29), ('1160-011', 17, 19), ('1160-011', 20, 21), ('1160-011', 22, 24), ('1160-011', 25, 26), ('1160-011', 28, 29), ('1160-011', 17, 19), ('1160-011', 20, 21), ('1160-011', 22, 24), ('1160-011', 25, 26), ('1160-011', 28, 29), ('1160-011', 17, 19), ('1160-011', 20, 21), ('1160-011', 22, 24), ('1160-011', 25, 26), ('1160-011', 28, 29), ('1160-011', 17, 19), ('1160-011', 20, 21), ('1160-011', 22, 24), ('1160-011', 25, 26), ('1160-011', 28, 29), ('1160-012', 1, 2), ('1160-012', 12, 13), ('1160-014', 0, 1), ('1160-014', 3, 4), ('1160-014', 11, 12), ('1160-014', 20, 24), ('1160-014', 30, 31), ('1160-014', 0, 1), ('1160-014', 3, 4), ('1160-014', 11, 12), ('1160-014', 20, 24), ('1160-014', 30, 31), ('1160-014', 0, 1), ('1160-014', 3, 4), ('1160-014', 11, 12), ('1160-014', 20, 24), ('1160-014', 30, 31), ('1160-014', 0, 1), ('1160-014', 3, 4), ('1160-014', 11, 12), ('1160-014', 20, 24), ('1160-014', 30, 31), ('1160-014', 0, 1), ('1160-014', 3, 4), ('1160-014', 11, 12), ('1160-014', 20, 24), ('1160-014', 30, 31), ('1160-015', 0, 2), ('1160-015', 3, 5), ('1160-015', 6, 7), ('1160-015', 17, 19), ('1160-015', 22, 23), ('1160-015', 0, 2), ('1160-015', 3, 5), ('1160-015', 6, 7), ('1160-015', 17, 19), ('1160-015', 22, 23), ('1160-015', 0, 2), ('1160-015', 3, 5), ('1160-015', 6, 7), ('1160-015', 17, 19), ('1160-015', 22, 23), ('1160-015', 0, 2), ('1160-015', 3, 5), ('1160-015', 6, 7), ('1160-015', 17, 19), ('1160-015', 22, 23), ('1160-015', 0, 2), ('1160-015', 3, 5), ('1160-015', 6, 7), ('1160-015', 17, 19), ('1160-015', 22, 23), ('1160-016', 9, 10), ('1160-016', 11, 12), ('1160-016', 9, 10), ('1160-016', 11, 12), ('1160-018', 4, 5), ('1160-018', 16, 17), ('1160-018', 4, 5), ('1160-018', 16, 17), ('1160-022', 16, 17), ('1160-022', 31, 32), ('1160-022', 37, 38), ('1160-022', 16, 17), ('1160-022', 31, 32), ('1160-022', 37, 38), ('1160-023', 18, 20), ('1160-023', 33, 34), ('1160-023', 18, 20), ('1160-023', 33, 34), ('1160-024', 19, 20), ('1160-024', 23, 24), ('1161-000', 0, 1), ('1161-002', 2, 6), ('1161-002', 37, 38), ('1161-002', 38, 40), ('1161-002', 2, 6), ('1161-002', 37, 38), ('1161-002', 38, 40), ('1161-002', 2, 6), ('1161-002', 37, 38), ('1161-002', 38, 40), ('1161-004', 12, 14), ('1161-005', 0, 3), ('1161-007', 7, 9), ('1161-007', 10, 12), ('1161-007', 13, 15), ('1161-007', 7, 9), ('1161-007', 10, 12), ('1161-007', 13, 15), ('1161-007', 7, 9), ('1161-007', 10, 12), ('1161-007', 13, 15), ('1161-007', 7, 9), ('1161-007', 10, 12), ('1161-007', 13, 15), ('1161-009', 1, 2), ('1161-009', 10, 12), ('1161-009', 23, 24), ('1161-010', 0, 4)]\n"
     ]
    }
   ],
   "source": [
    "# TODO: Write code here to improve the span prediction from Problem 2\n",
    "\n",
    "ent_pred=[]\n",
    "for x in df_dev.itertuples():\n",
    "    doc = nlp(x[2])\n",
    "    for ent in doc.ents:\n",
    "        #print(ent)\n",
    "        if ent.label_!=(\"CARDINAL\" or \"ORDINAL\" or \"DATE\" or \"TIME\" or \"PERCENT\" or\"PERSON\" or \"GPE\" or \"MONEY\"):\n",
    "            ent_pred.append((x[1],ent.start,ent.end))\n",
    "print(ent_pred)"
   ]
  },
  {
   "cell_type": "code",
   "execution_count": 161,
   "metadata": {
    "pycharm": {
     "name": "#%%\n"
    }
   },
   "outputs": [
    {
     "name": "stdout",
     "output_type": "stream",
     "text": [
      "66.4686044644291 69.95098867669427 68.16534914361002\n"
     ]
    }
   ],
   "source": [
    "evaluation_report(spans_dev_gold,set(ent_pred))\n"
   ]
  },
  {
   "cell_type": "markdown",
   "metadata": {},
   "source": [
    "Show that you achieve the performance goal by reporting the evaluation measures that you implemented in Problem&nbsp;1."
   ]
  },
  {
   "cell_type": "markdown",
   "metadata": {},
   "source": [
    "Before going on, we ask you to store the outputs of the improved named entity recognizer on the development data in a new data frame. This new frame should have the same layout as the original data frame for the development data that you loaded above, but should contain the *predicted* start and end positions for each token span, rather than the gold positions. As the `label` of each span, you can use the special value `--NME--`."
   ]
  },
  {
   "cell_type": "code",
   "execution_count": 162,
   "metadata": {},
   "outputs": [],
   "source": [
    "# TODO: Write code here to store the predicted spans in a new data frame\n",
    "#df_dev[df_dev.sentence_id==\"0946-002\"].iloc[0].sentence\n",
    "# sentence_id=[x[0] for x in ent_pred]\n",
    "for i,e in enumerate(ent_pred):\n",
    "    ent_pred[i]=(e[0],df_dev[df_dev.sentence_id==e[0]].iloc[0].sentence,e[1],e[2],\"--NME--\")\n",
    "pred_df=pd.DataFrame(set(ent_pred))"
   ]
  },
  {
   "cell_type": "markdown",
   "metadata": {},
   "source": [
    "## Problem 4: Entity linking"
   ]
  },
  {
   "cell_type": "markdown",
   "metadata": {},
   "source": [
    "Now that we have a method for predicting mention spans, we turn to the task of **entity linking**, which amounts to predicting the knowledge base entity that is referenced by a given mention. In our case, for each span we want to predict the Wikipedia page that this mention references.\n",
    "\n",
    "Start by extending the generator function that you implemented in Problem&nbsp;2 to labelled spans."
   ]
  },
  {
   "cell_type": "code",
   "execution_count": 87,
   "metadata": {},
   "outputs": [],
   "source": [
    "def gold_mentions(df):\n",
    "    \"\"\"Yield the gold-standard mentions in a data frame.\n",
    "\n",
    "    Args:\n",
    "        df: A data frame.\n",
    "\n",
    "    Yields:\n",
    "        The gold-standard mention spans in the specified data frame as\n",
    "        quadruples consisting of the sentence id, start position, end\n",
    "        position and entity label of each span.\n",
    "    \"\"\"\n",
    "    # TODO: Replace the next line with your own code\n",
    "    for x in df.itertuples():\n",
    "        yield x[1],x[3],x[4],x[5]"
   ]
  },
  {
   "cell_type": "markdown",
   "metadata": {},
   "source": [
    "A naive baseline for entity linking on our data set is to link each mention span to the Wikipedia page name that we get when we join the tokens in the span by underscores, as is standard in Wikipedia page names. Suppose, for example, that a span contains the two tokens\n",
    "\n",
    "    Jimi Hendrix\n",
    "\n",
    "The baseline Wikipedia page name for this span would be\n",
    "\n",
    "    Jimi_Hendrix\n",
    "\n",
    "Implement this naive baseline and evaluate its performance. Print the evaluation measures that you implemented in Problem&nbsp;1."
   ]
  },
  {
   "cell_type": "markdown",
   "metadata": {},
   "source": [
    "<div class=\"alert alert-warning\">\n",
    "    Here and in the remainder of this lab, you should base your entity predictions on the predicted spans that you computed in Problem&nbsp;3.\n",
    "</div>"
   ]
  },
  {
   "cell_type": "code",
   "execution_count": 132,
   "metadata": {
    "tags": [
     "outputPrepend"
    ]
   },
   "outputs": [
    {
     "name": "stdout",
     "output_type": "stream",
     "text": [
      "1, 22, 'Brunswijk'), ('1003-003', 37, 39, '56_miles'), ('1003-003', 40, 42, '90_km'), ('1003-003', 45, 46, 'Paramaribo'), ('0960-011', 31, 32, \"O'Brien\"), ('0960-011', 34, 35, '65th'), ('0960-019', 3, 4, 'Wimbledon'), ('0960-019', 5, 8, 'two_years_ago'), ('0960-019', 12, 13, '28,000'), ('0960-019', 18, 19, 'year'), ('0960-019', 22, 25, 'the_All-England_Club'), ('0960-019', 34, 36, 'two_hour'), ('0960-019', 37, 39, '24_minute'), ('0960-019', 41, 42, 'Rios'), ('0974-002', 0, 1, 'Australia'), ('0990-005', 4, 6, 'Boris_Nikolayevich'), ('0990-005', 7, 8, 'Yeltsin'), ('0990-005', 9, 10, 'yesterday'), ('1009-007', 0, 3, 'The_Agriculture_Department'), ('1009-007', 4, 9, 'more_than_a_year_ago'), ('1009-007', 16, 17, 'Mexican'), ('1014-010', 8, 9, 'Texas'), ('1014-010', 10, 12, 'Ross_Perot'), ('1014-010', 13, 16, 'the_Reform_Party'), ('1014-010', 31, 36, 'the_Commission_on_Presidential_Debates'), ('1014-010', 48, 49, '1988'), ('1014-010', 50, 55, 'the_League_of_Women_Voters'), ('1130-010', 7, 9, 'Prensa_Latina'), ('1130-010', 10, 11, 'Saturday'), ('1130-010', 12, 13, 'Puig'), ('1152-007', 0, 1, 'Clinton'), ('1152-007', 3, 4, 'Saturday'), ('1152-007', 7, 8, 'U.S.'), ('1152-007', 11, 12, 'Gulf'), ('1152-007', 24, 25, 'Iraqi'), ('1152-007', 27, 28, 'Kurdish'), ('1152-007', 31, 32, 'Iraq'), ('1010-006', 1, 3, '14_years'), ('1010-006', 4, 5, 'Chicago'), ('0984-010', 0, 1, 'ITALY'), ('0984-010', 9, 11, 'late_afternoon'), ('0984-010', 16, 17, 'Treasuries'), ('0974-011', 0, 2, 'Chaminda_Vaas'), ('0974-011', 3, 5, 'Muthiah_Muralitharan'), ('0974-011', 6, 8, 'Upul_Chandana'), ('1060-024', 1, 3, 'Paul_Broadhurst'), ('1060-024', 3, 4, '176,780'), ('0972-008', 0, 2, 'M._Bevan'), ('0972-008', 3, 4, 'Vaas'), ('1047-002', 2, 3, 'English'), ('1047-002', 9, 10, 'Saturday'), ('1034-006', 0, 1, 'Jorritsma'), ('1034-006', 6, 8, 'El_Al'), ('1001-002', 0, 5, 'The_National_Bank_of_Romania'), ('1001-002', 16, 18, 'this_week'), ('1001-002', 19, 21, '50.19_percent'), ('1001-002', 22, 24, '49_percent'), ('1001-002', 25, 26, 'two'), ('1001-002', 33, 34, 'Thursday'), ('1145-003', 10, 13, 'the_early_hours'), ('1145-003', 14, 15, 'Saturday'), ('1145-003', 16, 18, 'al-Daih_village'), ('1145-003', 19, 21, 'five_km'), ('1145-003', 22, 24, 'three_miles'), ('1145-003', 29, 30, 'Manama'), ('1051-003', 0, 1, '284'), ('1051-003', 1, 3, 'Robert_Allenby'), ('1051-003', 4, 5, 'Australia'), ('1051-003', 6, 7, '69'), ('1051-003', 8, 10, '71_73'), ('1051-003', 11, 14, 'Miguel_Angel_Martin'), ('1051-003', 15, 16, 'Spain'), ('1051-003', 17, 19, '75_70'), ('1051-003', 22, 23, 'Allenby'), ('1051-003', 25, 26, 'first'), ('0957-020', 5, 6, 'second'), ('0957-020', 7, 10, '1_-_Pete'), ('0957-020', 12, 13, 'U.S.'), ('0957-020', 15, 17, 'Jiri_Novak'), ('0957-020', 18, 20, 'Czech_Republic'), ('0957-020', 26, 28, 'Paul_Haarhuis'), ('0957-020', 29, 30, 'Netherlands'), ('0957-020', 32, 34, 'Michael_Tebbutt'), ('0957-020', 35, 36, 'Australia'), ('0957-020', 38, 40, '6_6-2'), ('1152-011', 0, 1, 'Clinton'), ('1152-011', 2, 3, 'Iraqi'), ('1152-011', 9, 10, 'Arbil'), ('1152-011', 16, 17, '1994'), ('1152-011', 18, 19, 'Kurdish'), ('1152-011', 21, 22, 'Baghdad'), ('1152-011', 26, 27, 'Iran'), ('1051-009', 0, 1, '290'), ('1051-009', 1, 3, 'Colin_Montgomerie'), ('1051-009', 3, 5, '68_76'), ('1051-009', 5, 7, '77_69'), ('1051-009', 8, 10, 'Robert_Coles'), ('1051-009', 10, 12, '74_76'), ('1051-009', 12, 14, '71_69'), ('1051-009', 15, 17, 'Philip_Walton'), ('1051-009', 18, 19, 'Ireland'), ('1051-009', 22, 24, '74_71'), ('1051-009', 25, 27, 'Peter_Mitchell'), ('1051-009', 27, 28, '74'), ('1051-009', 29, 31, '74_71'), ('1051-009', 32, 34, 'Klas_Eriksson'), ('1051-009', 35, 36, 'Sweden'), ('1051-009', 37, 39, '71_75'), ('1051-009', 39, 41, '72_72'), ('1051-009', 42, 44, 'Pedro_Linhart'), ('1051-009', 45, 46, 'Spain'), ('1051-009', 47, 49, '72_73'), ('1141-007', 3, 4, 'Guangzhou'), ('1141-007', 11, 12, 'Guangdong'), ('1141-007', 19, 23, 'the_end_of_1996'), ('1152-016', 1, 2, '23,000'), ('1152-016', 2, 3, 'U.S.'), ('1152-016', 8, 9, 'Gulf'), ('1152-016', 11, 12, '15,000'), ('1152-016', 14, 15, 'Marines'), ('1152-016', 16, 17, '6,000'), ('1152-016', 17, 18, 'U.S.'), ('1152-016', 22, 24, 'Saudi_Arabia'), ('1152-016', 25, 26, '2,000'), ('1152-016', 26, 27, 'U.S.'), ('1117-008', 5, 6, 'Belgium'), ('1117-008', 8, 9, 'two'), ('1117-008', 9, 10, 'eight-year-old'), ('1117-008', 14, 15, 'two'), ('1061-017', 0, 1, 'Scottish'), ('1061-017', 4, 5, 'one'), ('1069-017', 1, 3, 'Tunbridge_Wells'), ('1069-017', 5, 6, '214'), ('1069-017', 7, 8, '167-6'), ('1069-017', 9, 12, 'C._Tolley_64'), ('1069-017', 16, 18, 'Kent_244'), ('1069-017', 19, 22, 'C._Hooper_58'), ('1069-017', 23, 26, 'C._Tolley_4-68'), ('1069-017', 27, 29, 'K._Evans'), ('1051-009', 0, 1, '290'), ('1051-009', 1, 3, 'Colin_Montgomerie'), ('1051-009', 3, 5, '68_76'), ('1051-009', 5, 7, '77_69'), ('1051-009', 8, 10, 'Robert_Coles'), ('1051-009', 10, 12, '74_76'), ('1051-009', 12, 14, '71_69'), ('1051-009', 15, 17, 'Philip_Walton'), ('1051-009', 18, 19, 'Ireland'), ('1051-009', 22, 24, '74_71'), ('1051-009', 25, 27, 'Peter_Mitchell'), ('1051-009', 27, 28, '74'), ('1051-009', 29, 31, '74_71'), ('1051-009', 32, 34, 'Klas_Eriksson'), ('1051-009', 35, 36, 'Sweden'), ('1051-009', 37, 39, '71_75'), ('1051-009', 39, 41, '72_72'), ('1051-009', 42, 44, 'Pedro_Linhart'), ('1051-009', 45, 46, 'Spain'), ('1051-009', 47, 49, '72_73'), ('1116-007', 0, 1, '1714'), ('1116-007', 5, 6, 'Baden'), ('1116-007', 13, 15, 'Charles_VI'), ('1116-007', 16, 17, 'France'), ('1116-007', 19, 23, 'War_of_Spanish_Succession'), ('1009-005', 6, 7, 'tomorrow'), ('1009-005', 18, 19, 'Drazek'), ('1092-007', 3, 4, 'Switzerland'), ('1092-007', 5, 8, 'Slovak_Republic_Argentina'), ('1092-007', 9, 12, 'South_Korea_Australia'), ('1092-007', 13, 15, 'South_Africa'), ('1133-004', 6, 7, 'dozens'), ('1133-004', 23, 27, \"the_Communist_Party_'s\"), ('1133-004', 33, 35, 'Deng_Xiaoping'), ('1133-004', 38, 39, 'Xiao'), ('1091-003', 4, 5, 'third'), ('1091-003', 11, 12, 'Germany'), ('1091-003', 14, 16, 'Natasha_Zvereva'), ('1091-003', 17, 18, 'Belarus'), ('1091-003', 21, 22, '16'), ('1091-003', 26, 27, 'Switzerland'), ('1091-003', 29, 31, 'Naoko_Kijimuta'), ('1091-003', 32, 33, 'Japan'), ('1091-003', 36, 38, 'Judith_Wiesner'), ('1091-003', 42, 44, 'Petra_Langrova'), ('1091-003', 45, 46, 'Czech'), ('1091-003', 48, 49, '6'), ('0946-004', 2, 3, 'Somerset'), ('0946-004', 5, 6, '83'), ('0946-004', 7, 10, 'the_opening_morning'), ('0946-004', 11, 13, 'Grace_Road'), ('0946-004', 14, 15, 'Leicestershire'), ('0946-004', 17, 18, 'first'), ('0946-004', 20, 21, '94'), ('0946-004', 27, 28, '296'), ('0946-004', 29, 30, 'England'), ('0946-004', 31, 33, 'Andy_Caddick'), ('0946-004', 34, 35, 'three'), ('0946-004', 36, 37, '83'), ('1120-009', 1, 2, 'English'), ('1120-009', 19, 20, 'seven'), ('1043-003', 0, 2, 'Jeerasak_Densakul'), ('1043-003', 3, 4, '24'), ('1043-003', 8, 9, '1995'), ('1043-003', 14, 15, '11'), ('1043-003', 19, 21, '2.2_kg'), ('1043-003', 22, 24, '4.8_pounds'), ('1043-003', 27, 28, 'CNB'), ('1133-011', 0, 1, 'Wang'), ('1133-011', 6, 7, 'China'), ('1133-011', 9, 10, 'Hangzhou'), ('1070-012', 0, 1, '6.'), ('1070-012', 1, 3, 'Paul_Tracy'), ('1070-012', 4, 5, 'Canada'), ('1070-012', 7, 9, 'Penske_Mercedes-Benz'), ('1070-012', 10, 11, '54.620'), ('1131-003', 0, 1, 'Albright'), ('1131-003', 5, 7, 'Jose_Miguel'), ('1131-003', 8, 9, 'Monday'), ('1131-003', 23, 24, 'Chile'), ('1131-003', 30, 31, 'U.S.'), ('0953-004', 3, 4, 'Duran'), ('0953-004', 5, 6, 'first'), ('0953-004', 10, 12, '10_years'), ('0953-004', 26, 27, 'Duran'), ('0963-006', 1, 2, 'Yesterday'), ('0963-006', 3, 6, 'the_toughest_day'), ('0963-006', 15, 16, 'Woods'), ('0970-002', 1, 2, 'Italian'), ('0970-002', 4, 6, 'Gianluigi_Lentini'), ('0970-002', 9, 10, 'Milan'), ('0970-002', 11, 12, '1992'), ('0970-002', 30, 31, 'Atalanta'), ('0970-002', 32, 34, 'a_year'), ('0970-002', 38, 39, 'Friday'), ('0961-010', 0, 1, 'Cunningham'), ('1050-003', 2, 4, 'Andy_Townsend'), ('1050-003', 5, 6, '5th'), ('1050-003', 8, 10, \"Keith_O'Neill\"), ('1050-003', 11, 12, '7th'), ('1050-003', 14, 16, 'Niall_Quinn'), ('1050-003', 17, 18, '11th'), ('1050-003', 19, 20, '61st'), ('1050-003', 22, 24, 'Ian_Harte'), ('1050-003', 25, 26, '19th'), ('1136-007', 3, 4, 'Mobil'), ('1136-007', 5, 6, 'Shell'), ('1136-007', 7, 8, 'Caltex'), ('1136-007', 13, 14, 'Tianjin'), ('1136-007', 16, 17, 'China'), ('1101-004', 0, 1, 'Leboeuf'), ('1101-004', 3, 5, 'two_minutes'), ('1101-004', 9, 10, 'second'), ('1101-004', 14, 15, 'Mexican'), ('1101-004', 16, 18, 'Ricardo_Pelaez'), ('1101-004', 19, 20, 'minutes'), ('1101-004', 31, 32, 'Chelsea'), ('1010-001', 0, 1, 'CHICAGO'), ('1031-007', 7, 8, 'Pirelli'), ('1031-007', 16, 17, 'one'), ('1031-007', 23, 25, 'late_September'), ('1031-007', 29, 30, 'Italian'), ('1031-007', 35, 37, 'Paula_Buratti'), ('1031-007', 38, 39, 'Indosuez'), ('1159-004', 2, 3, 'Friday'), ('1159-004', 4, 5, 'Liege'), ('1159-004', 12, 13, 'Thursday'), ('1159-004', 14, 16, 'Rachel_Legeard'), ('1159-004', 17, 18, '18'), ('1159-004', 20, 22, 'Severine_Potty'), ('1159-004', 23, 24, '19'), ('1159-004', 33, 34, 'Liege'), ('1159-004', 35, 36, 'Thursday'), ('1159-004', 38, 39, 'Legeard'), ('1132-004', 0, 2, 'Gonzalo_Montoya'), ('1132-004', 7, 8, 'Tacambaro'), ('1132-004', 10, 12, 'Radio_Red'), ('1137-004', 0, 1, 'Li'), ('1137-004', 2, 3, 'Kim'), ('0972-026', 0, 2, 'A._Gurusinha'), ('0972-026', 4, 5, '16'), ('1070-010', 0, 1, '4.'), ('1070-010', 1, 3, 'Bryan_Herta'), ('1070-010', 4, 5, 'U.S.'), ('1070-010', 7, 9, 'Reynard_Mercedes-Benz'), ('1070-010', 10, 11, '54.578'), ('1126-007', 0, 1, 'Moslems'), ('1126-007', 7, 11, 'the_43-_month_Bosnian'), ('1103-015', 0, 1, 'Belgium'), ('1103-015', 8, 9, '2'), ('1103-015', 13, 14, '3'), ('1103-015', 18, 19, '4'), ('1103-015', 23, 24, '16'), ('1103-015', 28, 29, '6'), ('1103-015', 33, 34, '15'), ('1103-015', 42, 43, '10'), ('1103-015', 47, 51, '7_-_Gert_Verheyen'), ('1103-015', 52, 53, '14'), ('1103-015', 57, 58, '62nd'), ('1103-015', 60, 61, '9'), ('1103-015', 65, 66, '8'), ('1103-015', 71, 73, 'Luis_Oliveira'), ('1103-015', 74, 75, '18'), ('1103-015', 80, 81, '88th'), ('1025-002', 0, 1, 'Syria'), ('1025-002', 2, 3, 'Friday'), ('1025-002', 4, 5, 'Israel'), ('1025-002', 12, 14, 'Benjamin_Netanyahu'), ('1025-002', 19, 20, 'Arabs'), ('1159-002', 0, 1, 'Belgian'), ('1159-002', 4, 5, 'Saturday'), ('1159-002', 11, 12, 'two'), ('1159-002', 20, 23, 'three_days_ago'), ('1009-014', 0, 1, 'Mexican'), ('1009-014', 14, 15, 'Mexican'), ('1009-014', 16, 17, 'U.S.'), ('1033-001', 0, 1, 'BONN'), ('1136-002', 0, 8, 'The_Dow_Chemical_Co_of_the_United_States'), ('1136-002', 10, 13, '$_4_billion'), ('1136-002', 19, 20, 'Tianjin'), ('1136-002', 23, 24, 'China'), ('1136-002', 25, 28, 'the_China_Daily'), ('1136-002', 30, 31, 'Saturday'), ('1056-047', 0, 2, 'Antonella_Bellutti'), ('1056-047', 3, 4, 'Italy'), ('1056-047', 9, 11, 'Rasa_Mazeikyte'), ('1056-047', 12, 13, 'Lithuania'), ('1152-018', 1, 3, 'Carl_Vinson'), ('1152-018', 9, 10, 'seven'), ('1152-018', 16, 17, 'nine'), ('1152-018', 18, 19, 'U.S.'), ('1152-018', 22, 23, 'Gulf'), ('1152-018', 27, 28, '20'), ('1135-024', 0, 2, 'Hla_Than'), ('1135-024', 10, 11, 'NLD'), ('1135-024', 14, 16, 'early_August'), ('1135-024', 19, 20, 'Insein'), ('1135-024', 21, 23, 'six_years'), ('0966-087', 0, 1, '7.'), ('0966-087', 1, 3, 'Rohan_Robinson'), ('0966-087', 4, 5, 'Australia'), ('0966-087', 6, 7, '49.36'), ('0991-002', 0, 1, 'Russian'), ('0991-002', 2, 4, 'Alexander_Lebed'), ('0991-002', 10, 12, 'Aslan_Maskhadov'), ('0991-002', 22, 23, 'Chechnya'), ('0991-002', 27, 31, 'December_31_,_2001'), ('1156-004', 6, 7, 'Dini'), ('1156-004', 14, 16, 'Great_Lakes'), ('1156-004', 23, 24, 'Burundi'), ('1156-004', 30, 32, 'July_25'), ('0964-002', 0, 1, 'Spanish'), ('0964-002', 4, 6, 'Deportivo_Coruna'), ('0964-002', 11, 13, 'Mauro_Silva'), ('0964-002', 14, 15, 'Saturday'), ('0964-002', 18, 20, 'Real_Madrid'), ('0964-002', 21, 22, 'FIFA'), ('0964-002', 31, 32, 'Brazilian'), ('0964-002', 33, 34, 'one'), ('0964-002', 41, 42, 'European'), ('1127-015', 0, 1, 'Urus-Martan'), ('1127-015', 7, 8, 'Chechnya'), ('1127-015', 11, 13, 'Doku_Zavgayev'), ('1127-015', 38, 39, 'Russian'), ('0988-002', 2, 6, \"Driefontein_Consolidated_Ltd_'s\"), ('0988-002', 16, 17, 'Wednesday'), ('0988-002', 17, 18, 'night'), ('0988-002', 21, 23, 'Gold_Fields'), ('0988-002', 24, 27, 'South_Africa_Ltd'), ('0988-002', 29, 30, 'Friday'), ('1061-004', 0, 3, 'English_National_League'), ('1142-006', 0, 1, 'Nerweyi'), ('1142-006', 12, 13, 'Iranian'), ('1142-006', 16, 17, 'Iraq'), ('1142-006', 20, 21, 'KDP'), ('1142-006', 32, 33, 'Iranian'), ('1003-003', 0, 1, 'Brunswijk'), ('1003-003', 7, 9, '10_days'), ('1003-003', 10, 12, 'Freddy_Pinas'), ('1003-003', 18, 19, 'Netherlands'), ('1003-003', 21, 22, 'Brunswijk'), ('1003-003', 37, 39, '56_miles'), ('1003-003', 40, 42, '90_km'), ('1003-003', 45, 46, 'Paramaribo'), ('1060-010', 0, 1, '6.'), ('1060-010', 1, 3, 'Mark_McNulty'), ('1060-010', 4, 5, 'Zimbabwe'), ('1060-010', 6, 7, '254,247'), ('1144-002', 0, 3, 'Kurdistan_Democratic_Party'), ('1144-002', 7, 9, 'Massoud_Barzani'), ('1144-002', 16, 17, 'Iraqi'), ('1144-002', 26, 27, 'Kurds'), ('1144-002', 31, 32, 'Arbil'), ('1144-002', 35, 36, 'U.N.'), ('1144-002', 38, 39, 'Baghdad'), ('1121-003', 4, 8, 'the_Iraqi_National_Congress'), ('1121-003', 9, 10, 'Iraqi'), ('1121-003', 16, 17, 'Iraqi'), ('1121-003', 22, 24, '10_km'), ('1121-003', 25, 27, 'six_miles'), ('1121-003', 29, 30, 'Arbil'), ('1121-003', 36, 37, 'Kurdish'), ('1121-003', 41, 42, 'Iraq'), ('0974-011', 0, 2, 'Chaminda_Vaas'), ('0974-011', 3, 5, 'Muthiah_Muralitharan'), ('0974-011', 6, 8, 'Upul_Chandana'), ('1097-003', 5, 7, 'the_night'), ('1097-003', 8, 10, 'Stefan_Edberg'), ('1097-003', 15, 16, '14th'), ('1097-003', 18, 20, 'U.S._Open'), ('1097-003', 21, 23, 'Bernd_Karbacher'), ('1097-003', 31, 32, 'fourth'), ('1097-003', 37, 38, 'Friday'), ('1020-002', 0, 1, 'Indian'), ('1020-002', 5, 6, 'Friday'), ('1020-002', 19, 22, 'Hindustan_Copper_Ltd'), ('1000-014', 6, 7, 'Hungary'), ('1000-014', 8, 9, 'Poland'), ('1000-014', 10, 13, 'the_Czech_Republic'), ('1000-014', 21, 25, '21.8_million_French_francs'), ('1000-014', 27, 29, '34.1_million'), ('1000-014', 30, 36, 'the_same_six_months_of_1995'), ('1036-017', 9, 10, 'Barentsburg'), ('1036-017', 23, 25, 'Johan_Sletten'), ('1036-017', 26, 27, '52'), ('1116-031', 0, 1, '1986'), ('1116-031', 3, 5, 'Desmond_Tutu'), ('1116-031', 8, 9, 'Archbishop'), ('1116-031', 10, 12, 'Cape_Town'), ('1116-031', 13, 15, 'South_Africa'), ('1101-003', 4, 5, '29'), ('1101-003', 6, 7, 'France'), ('1101-003', 12, 14, 'Aime_Jacquet'), ('1101-003', 16, 18, 'Euro_96'), ('1101-003', 34, 35, 'Chelsea'), ('1101-003', 37, 39, 'Franck_Leboeuf'), ('1033-008', 0, 1, 'Russian'), ('1033-008', 2, 4, 'Alexander_Lebed'), ('1033-008', 5, 6, 'Chechen'), ('1033-008', 9, 11, 'Aslan_Maskhadov'), ('1033-008', 19, 20, 'Friday'), ('0980-006', 0, 1, 'One'), ('0980-006', 1, 2, 'U.S.'), ('0980-006', 4, 5, '35,000'), ('0980-006', 5, 7, 'September_97'), ('0980-006', 15, 16, '93.25'), ('0980-006', 17, 18, '93.30'), ('0980-006', 21, 22, 'two'), ('0980-006', 26, 27, 'French'), ('0980-006', 29, 30, '4,000'), ('0980-006', 30, 34, 'September_93.30_to_93.32'), ('1103-003', 0, 1, 'Belgium'), ('1103-003', 4, 5, '1998'), ('1103-003', 5, 7, 'World_Cup'), ('1103-003', 15, 16, 'Turkey'), ('1103-003', 22, 23, 'Turkish'), ('1019-003', 4, 5, 'Nicole'), ('1019-003', 9, 10, 'Groningen'), ('1019-003', 15, 16, 'Dutch'), ('1099-007', 0, 1, 'Everton'), ('1099-007', 2, 4, 'Duncan_Ferguson'), ('1099-007', 7, 8, 'Scotland'), ('1099-007', 9, 12, 'the_65th_minute'), ('1099-007', 15, 16, 'Austrian'), ('1099-007', 17, 19, 'Michael_Konsel'), ('1011-023', 16, 17, 'NationsBank'), ('1011-023', 40, 42, 'Michael_Durante'), ('1011-023', 45, 48, 'McDonald_&_Co'), ('1006-006', 9, 11, 'Green_Square'), ('1006-006', 15, 16, 'Sunday'), ('0962-012', 0, 2, 'Bryan_Gorman'), ('1090-008', 1, 3, 'Last_year'), ('1090-008', 27, 28, 'Cup'), ('1090-008', 30, 31, 'U.S.'), ('1090-008', 32, 33, 'Billie'), ('1090-008', 33, 35, 'Jean_King'), ('0966-078', 0, 1, '7.'), ('0966-078', 1, 3, 'Pauline_Konga'), ('0966-078', 4, 5, 'Kenya'), ('1137-010', 0, 2, 'South_Korea'), ('1137-010', 3, 4, '1993'), ('1137-010', 6, 7, 'Li'), ('1137-010', 15, 16, 'South'), ('1137-010', 22, 26, 'more_than_three_decades'), ('0984-005', 0, 3, 'BRITAIN_-_Gilts'), ('0984-005', 6, 7, 'day'), ('0984-005', 11, 12, '10/32'), ('0984-005', 14, 16, 'the_day'), ('1135-008', 1, 2, 'Burmese'), ('1135-008', 3, 5, 'last_week'), ('1135-008', 10, 11, 'nine'), ('1135-008', 18, 19, 'May'), ('1135-008', 22, 25, \"Suu_Kyi_'s\"), ('1135-008', 26, 28, 'Win_Htein'), ('0954-004', 0, 3, '4_-_Peter'), ('0954-004', 5, 6, 'Scotland'), ('0954-004', 8, 9, '7'), ('0954-004', 13, 14, 'England'), ('0954-004', 16, 18, '15-13_13-15'), ('1091-003', 4, 5, 'third'), ('1091-003', 11, 12, 'Germany'), ('1091-003', 14, 16, 'Natasha_Zvereva'), ('1091-003', 17, 18, 'Belarus'), ('1091-003', 21, 22, '16'), ('1091-003', 26, 27, 'Switzerland'), ('1091-003', 29, 31, 'Naoko_Kijimuta'), ('1091-003', 32, 33, 'Japan'), ('1091-003', 36, 38, 'Judith_Wiesner'), ('1091-003', 42, 44, 'Petra_Langrova'), ('1091-003', 45, 46, 'Czech'), ('1091-003', 48, 49, '6'), ('0966-058', 0, 1, '5.'), ('0966-058', 1, 3, 'Virgilijus_Alekna'), ('0966-058', 4, 5, 'Lithuania'), ('0966-058', 6, 7, '65.00'), ('1122-000', 0, 1, 'Two'), ('1122-000', 3, 4, 'Algeria'), ('1008-029', 10, 13, 'the_4.8_percent'), ('1008-029', 14, 15, 'annual'), ('1008-029', 21, 24, 'the_second_quarter'), ('1008-029', 33, 35, '3_percent'), ('1008-029', 43, 45, '2_percent'), ('1008-029', 46, 48, '2-1/4_percent'), ('1008-029', 50, 51, 'Fed'), ('1077-002', 0, 1, 'England'), ('1077-002', 4, 6, 'Paul_Gascoigne'), ('1077-002', 13, 14, 'Saturday'), ('1077-002', 20, 23, \"Paul_Ince_'s\"), ('1077-002', 31, 32, 'Moldova'), ('1008-011', 9, 10, 'Fed'), ('1008-011', 20, 22, 'next_month'), ('1008-011', 38, 41, 'a_second_day'), ('0966-009', 0, 1, '6.'), ('0966-009', 1, 3, 'Julie_Baumann'), ('0966-009', 4, 5, 'Switzerland'), ('0966-009', 6, 7, '13.11'), ('0946-010', 5, 6, 'England'), ('0946-010', 7, 9, 'Mark_Butcher'), ('0946-010', 11, 12, '70'), ('0946-010', 13, 14, 'Surrey'), ('0946-010', 16, 17, '429'), ('0946-010', 18, 19, 'seven'), ('0946-010', 23, 24, '234'), ('1113-005', 0, 2, 'Borussia_Neunkirchen'), ('1009-013', 14, 15, 'Michoacan'), ('1009-013', 16, 17, 'Mexico'), ('0952-006', 1, 2, 'three'), ('0952-006', 4, 5, 'Alania'), ('0952-006', 6, 7, 'two'), ('0952-006', 8, 10, 'Dynamo_Moscow'), ('0952-006', 12, 13, 'Volgograd'), ('0952-006', 23, 24, 'two'), ('0952-006', 26, 27, 'Moscow'), ('0966-154', 0, 1, '3.'), ('0966-154', 1, 3, 'Isel_Lopez'), ('0966-154', 4, 5, 'Cuba'), ('0966-154', 6, 7, '65.10'), ('0961-005', 14, 15, 'Philadelphia'), ('0961-005', 23, 24, 'Cunningham'), ('1033-003', 0, 2, 'Flavio_Cotti'), ('1033-003', 6, 12, 'the_Organisation_for_Security_and_Cooperation'), ('1033-003', 13, 14, 'Europe'), ('1033-003', 19, 20, 'German'), ('1033-003', 28, 29, 'Chechnya'), ('1033-003', 32, 33, 'Russian'), ('1094-031', 0, 4, 'NATIONAL_LEAGUE_EASTERN_DIVISION'), ('0953-003', 0, 1, 'Duran'), ('0953-003', 2, 3, '45'), ('0953-003', 7, 8, 'Mexican'), ('0953-003', 8, 10, 'Ariel_Cruz'), ('0953-003', 11, 12, '30'), ('0953-003', 20, 22, 'Panama_City'), ('1125-011', 0, 1, 'Zairean'), ('1125-011', 3, 4, '15,000'), ('1125-011', 6, 9, 'August_last_year'), ('1033-007', 3, 4, 'Chechnya'), ('1033-007', 6, 8, 'Tim_Guldimann'), ('1033-007', 10, 11, 'Swiss'), ('1033-007', 16, 17, 'Chechnya'), ('1033-007', 24, 26, 'Zelimkhan_Yandarbiyev'), ('1093-002', 0, 3, 'The_United_States'), ('1093-002', 4, 6, 'El_Salvador'), ('1093-002', 17, 18, 'Friday'), ('1074-004', 0, 3, 'The_North_Africans'), ('1074-004', 10, 11, 'Benin'), ('1074-004', 12, 13, 'Friday'), ('1074-004', 16, 17, 'first'), ('0966-108', 0, 1, '2.'), ('0966-108', 1, 3, 'Norberto_Tellez'), ('0966-108', 4, 5, 'Cuba'), ('1027-006', 4, 5, 'today'), ('1027-006', 8, 9, 'Israeli'), ('1027-006', 12, 13, 'Jamil'), ('1027-006', 14, 15, 'Hebrew')]\n"
     ]
    }
   ],
   "source": [
    "# TODO: Write code here to implement the baseline\n",
    "naive_pred=[]\n",
    "\n",
    "naive_pred=[]\n",
    "for x in pred_df.itertuples():\n",
    "    doc = nlp(x[2])\n",
    "    for ent in doc.ents:\n",
    "        tmp_str=[]\n",
    "        for i in range(ent.start,ent.end):\n",
    "            tmp_str.append(doc[i].text)\n",
    "        \n",
    "        tmp_str=\"_\".join(tmp_str)\n",
    "        naive_pred.append((x[1],ent.start,ent.end,tmp_str))\n",
    "print(naive_pred)\n",
    "\n"
   ]
  },
  {
   "cell_type": "code",
   "execution_count": 89,
   "metadata": {},
   "outputs": [
    {
     "name": "stdout",
     "output_type": "stream",
     "text": [
      "20.097715568466924 25.7224945073517 22.564862861378803\n"
     ]
    }
   ],
   "source": [
    "evaluation_report(set(gold_mentions(df_dev)),set(naive_pred))"
   ]
  },
  {
   "cell_type": "markdown",
   "metadata": {},
   "source": [
    "## Problem 5: Extending the training data using the knowledge base"
   ]
  },
  {
   "cell_type": "markdown",
   "metadata": {},
   "source": [
    "State-of-the-art approaches to entity linking exploit information in knowledge bases. In our case, where Wikipedia is the knowledge base, one particularly useful type of information are links to other Wikipedia pages. In particular, we can interpret the anchor texts (the highlighted texts that you click on) as mentions of the entities (pages) that they link to. This allows us to harvest long lists of mention–entity pairings.\n",
    "\n",
    "The following cell loads a data frame summarizing anchor texts and page references harvested from the first paragraphs of the English Wikipedia. The data frame also contains all entity mentions in the training data (but not the development or the test data)."
   ]
  },
  {
   "cell_type": "code",
   "execution_count": 90,
   "metadata": {},
   "outputs": [],
   "source": [
    "with bz2.open('kb.tsv.bz2', 'rt',encoding=\"utf-8\") as source:\n",
    "    df_kb = pd.read_csv(source, sep='\\t', quoting=csv.QUOTE_NONE)"
   ]
  },
  {
   "cell_type": "markdown",
   "metadata": {},
   "source": [
    "To understand what information is available in this data, the following cell shows the entry for the anchor text `Sweden`."
   ]
  },
  {
   "cell_type": "code",
   "execution_count": 91,
   "metadata": {},
   "outputs": [
    {
     "data": {
      "text/html": [
       "<div>\n",
       "<style scoped>\n",
       "    .dataframe tbody tr th:only-of-type {\n",
       "        vertical-align: middle;\n",
       "    }\n",
       "\n",
       "    .dataframe tbody tr th {\n",
       "        vertical-align: top;\n",
       "    }\n",
       "\n",
       "    .dataframe thead th {\n",
       "        text-align: right;\n",
       "    }\n",
       "</style>\n",
       "<table border=\"1\" class=\"dataframe\">\n",
       "  <thead>\n",
       "    <tr style=\"text-align: right;\">\n",
       "      <th></th>\n",
       "      <th>mention</th>\n",
       "      <th>entity</th>\n",
       "      <th>prob</th>\n",
       "    </tr>\n",
       "  </thead>\n",
       "  <tbody>\n",
       "    <tr>\n",
       "      <th>17436</th>\n",
       "      <td>Sweden</td>\n",
       "      <td>Sweden</td>\n",
       "      <td>0.985768</td>\n",
       "    </tr>\n",
       "    <tr>\n",
       "      <th>17437</th>\n",
       "      <td>Sweden</td>\n",
       "      <td>Sweden_national_football_team</td>\n",
       "      <td>0.014173</td>\n",
       "    </tr>\n",
       "    <tr>\n",
       "      <th>17438</th>\n",
       "      <td>Sweden</td>\n",
       "      <td>Sweden_men's_national_ice_hockey_team</td>\n",
       "      <td>0.000059</td>\n",
       "    </tr>\n",
       "  </tbody>\n",
       "</table>\n",
       "</div>"
      ],
      "text/plain": [
       "      mention                                 entity      prob\n",
       "17436  Sweden                                 Sweden  0.985768\n",
       "17437  Sweden          Sweden_national_football_team  0.014173\n",
       "17438  Sweden  Sweden_men's_national_ice_hockey_team  0.000059"
      ]
     },
     "execution_count": 91,
     "metadata": {},
     "output_type": "execute_result"
    }
   ],
   "source": [
    "df_kb.loc[df_kb.mention == 'Sweden']"
   ]
  },
  {
   "cell_type": "markdown",
   "metadata": {},
   "source": [
    "As you can see, each row of the data frame contains a pair $(m, e)$ of a mention $m$ and an entity $e$, as well as the conditional probability $P(e|m)$ for mention $m$ referring to entity $e$. These probabilities were estimated based on the frequencies of mention–entity pairs in the knowledge base. The example shows that the anchor text &lsquo;Sweden&rsquo; is most often used to refer to the entity [Sweden](http://en.wikipedia.org/wiki/Sweden), but in a few cases also to refer to Sweden&rsquo;s national football and ice hockey teams. Note that references are sorted in decreasing order of probability, so that the most probable pairing come first.\n",
    "\n",
    "Implement an entity linking method that resolves each mention to the most probable entity in the data frame. If the mention is not included in the data frame, you can predict the generic label `--NME--`. Print the precision, recall, and F1 of your method using the function that you implemented for Problem&nbsp;1."
   ]
  },
  {
   "cell_type": "code",
   "execution_count": 23,
   "metadata": {},
   "outputs": [
    {
     "data": {
      "text/plain": [
       "False"
      ]
     },
     "execution_count": 23,
     "metadata": {},
     "output_type": "execute_result"
    }
   ],
   "source": [
    "\"abc dkej\" ==\"abc\""
   ]
  },
  {
   "cell_type": "code",
   "execution_count": 133,
   "metadata": {
    "tags": [
     "outputPrepend"
    ]
   },
   "outputs": [
    {
     "name": "stdout",
     "output_type": "stream",
     "text": [
      "E--'), ('0960-019', 37, 39, '--NME--'), ('0960-019', 41, 42, 'Marcelo_Ríos'), ('0974-002', 0, 1, 'Australia'), ('0990-005', 4, 6, '--NME--'), ('0990-005', 7, 8, 'Boris_Yeltsin'), ('0990-005', 9, 10, '--NME--'), ('1009-007', 0, 3, '--NME--'), ('1009-007', 4, 9, '--NME--'), ('1009-007', 16, 17, 'Mexico'), ('1014-010', 8, 9, 'Texas'), ('1014-010', 10, 12, 'Ross_Perot'), ('1014-010', 13, 16, '--NME--'), ('1014-010', 31, 36, '--NME--'), ('1014-010', 48, 49, '--NME--'), ('1014-010', 50, 55, 'League_of_Women_Voters'), ('1130-010', 7, 9, 'Prensa_Latina'), ('1130-010', 10, 11, '--NME--'), ('1130-010', 12, 13, '--NME--'), ('1152-007', 0, 1, 'Bill_Clinton'), ('1152-007', 3, 4, '--NME--'), ('1152-007', 7, 8, '--NME--'), ('1152-007', 11, 12, 'Persian_Gulf'), ('1152-007', 24, 25, 'Iraq'), ('1152-007', 27, 28, 'Kurds'), ('1152-007', 31, 32, 'Iraq'), ('1010-006', 1, 3, '--NME--'), ('1010-006', 4, 5, 'Chicago'), ('0984-010', 0, 1, '--NME--'), ('0984-010', 9, 11, '--NME--'), ('0984-010', 16, 17, 'United_States_Treasury_security'), ('0974-011', 0, 2, 'Chaminda_Vaas'), ('0974-011', 3, 5, 'Muttiah_Muralitharan'), ('0974-011', 6, 8, 'Upul_Chandana'), ('1060-024', 1, 3, 'Paul_Broadhurst'), ('1060-024', 3, 4, '--NME--'), ('0972-008', 0, 2, '--NME--'), ('0972-008', 3, 4, '--NME--'), ('1047-002', 2, 3, 'England'), ('1047-002', 9, 10, '--NME--'), ('1034-006', 0, 1, '--NME--'), ('1034-006', 6, 8, 'El_Al'), ('1001-002', 0, 5, '--NME--'), ('1001-002', 16, 18, '--NME--'), ('1001-002', 19, 21, '--NME--'), ('1001-002', 22, 24, '--NME--'), ('1001-002', 25, 26, 'Southern_Illinois_University_Carbondale'), ('1001-002', 33, 34, '--NME--'), ('1145-003', 10, 13, '--NME--'), ('1145-003', 14, 15, '--NME--'), ('1145-003', 16, 18, '--NME--'), ('1145-003', 19, 21, '--NME--'), ('1145-003', 22, 24, '--NME--'), ('1145-003', 29, 30, 'Manama'), ('1051-003', 0, 1, '--NME--'), ('1051-003', 1, 3, 'Robert_Allenby'), ('1051-003', 4, 5, 'Australia'), ('1051-003', 6, 7, '--NME--'), ('1051-003', 8, 10, '--NME--'), ('1051-003', 11, 14, 'Miguel_Ángel_Martín_(golfer)'), ('1051-003', 15, 16, 'Spain'), ('1051-003', 17, 19, '--NME--'), ('1051-003', 22, 23, '--NME--'), ('1051-003', 25, 26, '--NME--'), ('0957-020', 5, 6, 'World_War_II'), ('0957-020', 7, 10, '--NME--'), ('0957-020', 12, 13, '--NME--'), ('0957-020', 15, 17, 'Jiří_Novák'), ('0957-020', 18, 20, 'Czech_Republic'), ('0957-020', 26, 28, 'Paul_Haarhuis'), ('0957-020', 29, 30, 'Netherlands'), ('0957-020', 32, 34, 'Michael_Tebbutt'), ('0957-020', 35, 36, 'Australia'), ('0957-020', 38, 40, '--NME--'), ('1152-011', 0, 1, 'Bill_Clinton'), ('1152-011', 2, 3, 'Iraq'), ('1152-011', 9, 10, 'Erbil'), ('1152-011', 16, 17, '--NME--'), ('1152-011', 18, 19, 'Kurds'), ('1152-011', 21, 22, 'Baghdad'), ('1152-011', 26, 27, 'Iran'), ('1051-009', 0, 1, '--NME--'), ('1051-009', 1, 3, 'Colin_Montgomerie'), ('1051-009', 3, 5, '--NME--'), ('1051-009', 5, 7, '--NME--'), ('1051-009', 8, 10, 'Robert_Coles_(golfer)'), ('1051-009', 10, 12, '--NME--'), ('1051-009', 12, 14, '--NME--'), ('1051-009', 15, 17, 'Philip_Walton'), ('1051-009', 18, 19, 'Ireland'), ('1051-009', 22, 24, '--NME--'), ('1051-009', 25, 27, 'Peter_Mitchell_(golfer)'), ('1051-009', 27, 28, '--NME--'), ('1051-009', 29, 31, '--NME--'), ('1051-009', 32, 34, 'Klas_Eriksson'), ('1051-009', 35, 36, 'Sweden'), ('1051-009', 37, 39, '--NME--'), ('1051-009', 39, 41, '--NME--'), ('1051-009', 42, 44, 'Pedro_Linhart'), ('1051-009', 45, 46, 'Spain'), ('1051-009', 47, 49, '--NME--'), ('1141-007', 3, 4, 'Guangzhou'), ('1141-007', 11, 12, 'Guangdong'), ('1141-007', 19, 23, '--NME--'), ('1152-016', 1, 2, '--NME--'), ('1152-016', 2, 3, '--NME--'), ('1152-016', 8, 9, 'Persian_Gulf'), ('1152-016', 11, 12, '--NME--'), ('1152-016', 14, 15, 'United_States_Marine_Corps'), ('1152-016', 16, 17, '--NME--'), ('1152-016', 17, 18, '--NME--'), ('1152-016', 22, 24, 'Saudi_Arabia'), ('1152-016', 25, 26, '--NME--'), ('1152-016', 26, 27, '--NME--'), ('1117-008', 5, 6, 'Belgium'), ('1117-008', 8, 9, 'Southern_Illinois_University_Carbondale'), ('1117-008', 9, 10, '--NME--'), ('1117-008', 14, 15, 'Southern_Illinois_University_Carbondale'), ('1061-017', 0, 1, 'Scotland'), ('1061-017', 4, 5, 'UEFA_Euro_1992'), ('1069-017', 1, 3, 'Royal_Tunbridge_Wells'), ('1069-017', 5, 6, '--NME--'), ('1069-017', 7, 8, '--NME--'), ('1069-017', 9, 12, '--NME--'), ('1069-017', 16, 18, '--NME--'), ('1069-017', 19, 22, '--NME--'), ('1069-017', 23, 26, '--NME--'), ('1069-017', 27, 29, '--NME--'), ('1051-009', 0, 1, '--NME--'), ('1051-009', 1, 3, 'Colin_Montgomerie'), ('1051-009', 3, 5, '--NME--'), ('1051-009', 5, 7, '--NME--'), ('1051-009', 8, 10, 'Robert_Coles_(golfer)'), ('1051-009', 10, 12, '--NME--'), ('1051-009', 12, 14, '--NME--'), ('1051-009', 15, 17, 'Philip_Walton'), ('1051-009', 18, 19, 'Ireland'), ('1051-009', 22, 24, '--NME--'), ('1051-009', 25, 27, 'Peter_Mitchell_(golfer)'), ('1051-009', 27, 28, '--NME--'), ('1051-009', 29, 31, '--NME--'), ('1051-009', 32, 34, 'Klas_Eriksson'), ('1051-009', 35, 36, 'Sweden'), ('1051-009', 37, 39, '--NME--'), ('1051-009', 39, 41, '--NME--'), ('1051-009', 42, 44, 'Pedro_Linhart'), ('1051-009', 45, 46, 'Spain'), ('1051-009', 47, 49, '--NME--'), ('1116-007', 0, 1, '--NME--'), ('1116-007', 5, 6, 'Treaty_of_Baden'), ('1116-007', 13, 15, 'Charles_VI,_Holy_Roman_Emperor'), ('1116-007', 16, 17, 'France'), ('1116-007', 19, 23, 'War_of_the_Spanish_Succession'), ('1009-005', 6, 7, '--NME--'), ('1009-005', 18, 19, '--NME--'), ('1092-007', 3, 4, 'Switzerland'), ('1092-007', 5, 8, '--NME--'), ('1092-007', 9, 12, '--NME--'), ('1092-007', 13, 15, 'South_Africa'), ('1133-004', 6, 7, '--NME--'), ('1133-004', 23, 27, '--NME--'), ('1133-004', 33, 35, 'Deng_Xiaoping'), ('1133-004', 38, 39, '--NME--'), ('1091-003', 4, 5, 'Serie_A'), ('1091-003', 11, 12, 'Germany'), ('1091-003', 14, 16, 'Natasha_Zvereva'), ('1091-003', 17, 18, 'Belarus'), ('1091-003', 21, 22, '--NME--'), ('1091-003', 26, 27, 'Switzerland'), ('1091-003', 29, 31, '--NME--'), ('1091-003', 32, 33, 'Japan'), ('1091-003', 36, 38, 'Judith_Wiesner'), ('1091-003', 42, 44, 'Petra_Langrová'), ('1091-003', 45, 46, 'Czech_Republic'), ('1091-003', 48, 49, '--NME--'), ('0946-004', 2, 3, 'Somerset_County_Cricket_Club'), ('0946-004', 5, 6, '--NME--'), ('0946-004', 7, 10, '--NME--'), ('0946-004', 11, 13, 'Grace_Road'), ('0946-004', 14, 15, 'Leicestershire_County_Cricket_Club'), ('0946-004', 17, 18, '--NME--'), ('0946-004', 20, 21, '--NME--'), ('0946-004', 27, 28, '--NME--'), ('0946-004', 29, 30, 'England'), ('0946-004', 31, 33, 'Andrew_Caddick'), ('0946-004', 34, 35, '--NME--'), ('0946-004', 36, 37, '--NME--'), ('1120-009', 1, 2, 'England'), ('1120-009', 19, 20, '--NME--'), ('1043-003', 0, 2, '--NME--'), ('1043-003', 3, 4, '--NME--'), ('1043-003', 8, 9, '1995_Rugby_World_Cup'), ('1043-003', 14, 15, '--NME--'), ('1043-003', 19, 21, '--NME--'), ('1043-003', 22, 24, '--NME--'), ('1043-003', 27, 28, '--NME--'), ('1133-011', 0, 1, '--NME--'), ('1133-011', 6, 7, 'China'), ('1133-011', 9, 10, 'Hangzhou'), ('1070-012', 0, 1, '--NME--'), ('1070-012', 1, 3, 'Paul_Tracy'), ('1070-012', 4, 5, 'Canada'), ('1070-012', 7, 9, '--NME--'), ('1070-012', 10, 11, '--NME--'), ('1131-003', 0, 1, '--NME--'), ('1131-003', 5, 7, '--NME--'), ('1131-003', 8, 9, '--NME--'), ('1131-003', 23, 24, 'Chile'), ('1131-003', 30, 31, '--NME--'), ('0953-004', 3, 4, '--NME--'), ('0953-004', 5, 6, '--NME--'), ('0953-004', 10, 12, '--NME--'), ('0953-004', 26, 27, '--NME--'), ('0963-006', 1, 2, '--NME--'), ('0963-006', 3, 6, '--NME--'), ('0963-006', 15, 16, '--NME--'), ('0970-002', 1, 2, 'Italy'), ('0970-002', 4, 6, 'Gianluigi_Lentini'), ('0970-002', 9, 10, 'Milan'), ('0970-002', 11, 12, '1992_Summer_Olympics'), ('0970-002', 30, 31, 'Atalanta_B.C.'), ('0970-002', 32, 34, '--NME--'), ('0970-002', 38, 39, '--NME--'), ('0961-010', 0, 1, '--NME--'), ('1050-003', 2, 4, 'Andy_Townsend'), ('1050-003', 5, 6, '--NME--'), ('1050-003', 8, 10, '--NME--'), ('1050-003', 11, 12, '--NME--'), ('1050-003', 14, 16, 'Niall_Quinn'), ('1050-003', 17, 18, '--NME--'), ('1050-003', 19, 20, '--NME--'), ('1050-003', 22, 24, 'Ian_Harte'), ('1050-003', 25, 26, '--NME--'), ('1136-007', 3, 4, 'Mobil'), ('1136-007', 5, 6, 'Shell_Oil_Company'), ('1136-007', 7, 8, 'Caltex'), ('1136-007', 13, 14, 'Tianjin'), ('1136-007', 16, 17, 'China'), ('1101-004', 0, 1, '--NME--'), ('1101-004', 3, 5, '--NME--'), ('1101-004', 9, 10, 'World_War_II'), ('1101-004', 14, 15, 'Mexico'), ('1101-004', 16, 18, '--NME--'), ('1101-004', 19, 20, '--NME--'), ('1101-004', 31, 32, 'Chelsea_F.C.'), ('1010-001', 0, 1, 'Chicago_White_Sox'), ('1031-007', 7, 8, 'Pirelli'), ('1031-007', 16, 17, 'UEFA_Euro_1992'), ('1031-007', 23, 25, '--NME--'), ('1031-007', 29, 30, 'Italy'), ('1031-007', 35, 37, '--NME--'), ('1031-007', 38, 39, '--NME--'), ('1159-004', 2, 3, '--NME--'), ('1159-004', 4, 5, 'Liège'), ('1159-004', 12, 13, '--NME--'), ('1159-004', 14, 16, '--NME--'), ('1159-004', 17, 18, '--NME--'), ('1159-004', 20, 22, '--NME--'), ('1159-004', 23, 24, '--NME--'), ('1159-004', 33, 34, 'Liège'), ('1159-004', 35, 36, '--NME--'), ('1159-004', 38, 39, '--NME--'), ('1132-004', 0, 2, '--NME--'), ('1132-004', 7, 8, '--NME--'), ('1132-004', 10, 12, '--NME--'), ('1137-004', 0, 1, '--NME--'), ('1137-004', 2, 3, '--NME--'), ('0972-026', 0, 2, '--NME--'), ('0972-026', 4, 5, '--NME--'), ('1070-010', 0, 1, '--NME--'), ('1070-010', 1, 3, 'Bryan_Herta'), ('1070-010', 4, 5, '--NME--'), ('1070-010', 7, 9, '--NME--'), ('1070-010', 10, 11, '--NME--'), ('1126-007', 0, 1, 'Islam'), ('1126-007', 7, 11, '--NME--'), ('1103-015', 0, 1, 'Belgium'), ('1103-015', 8, 9, '--NME--'), ('1103-015', 13, 14, '--NME--'), ('1103-015', 18, 19, '--NME--'), ('1103-015', 23, 24, '--NME--'), ('1103-015', 28, 29, '--NME--'), ('1103-015', 33, 34, '--NME--'), ('1103-015', 42, 43, '--NME--'), ('1103-015', 47, 51, '--NME--'), ('1103-015', 52, 53, '--NME--'), ('1103-015', 57, 58, '--NME--'), ('1103-015', 60, 61, '--NME--'), ('1103-015', 65, 66, '--NME--'), ('1103-015', 71, 73, '--NME--'), ('1103-015', 74, 75, '--NME--'), ('1103-015', 80, 81, '--NME--'), ('1025-002', 0, 1, 'Syria'), ('1025-002', 2, 3, '--NME--'), ('1025-002', 4, 5, 'Israel'), ('1025-002', 12, 14, 'Benjamin_Netanyahu'), ('1025-002', 19, 20, 'Arabs'), ('1159-002', 0, 1, 'Belgium'), ('1159-002', 4, 5, '--NME--'), ('1159-002', 11, 12, 'Southern_Illinois_University_Carbondale'), ('1159-002', 20, 23, '--NME--'), ('1009-014', 0, 1, 'Mexico'), ('1009-014', 14, 15, 'Mexico'), ('1009-014', 16, 17, '--NME--'), ('1033-001', 0, 1, 'Bonn'), ('1136-002', 0, 8, '--NME--'), ('1136-002', 10, 13, '--NME--'), ('1136-002', 19, 20, 'Tianjin'), ('1136-002', 23, 24, 'China'), ('1136-002', 25, 28, '--NME--'), ('1136-002', 30, 31, '--NME--'), ('1056-047', 0, 2, '--NME--'), ('1056-047', 3, 4, 'Italy'), ('1056-047', 9, 11, '--NME--'), ('1056-047', 12, 13, 'Lithuania'), ('1152-018', 1, 3, '--NME--'), ('1152-018', 9, 10, '--NME--'), ('1152-018', 16, 17, '--NME--'), ('1152-018', 18, 19, '--NME--'), ('1152-018', 22, 23, 'Persian_Gulf'), ('1152-018', 27, 28, '--NME--'), ('1135-024', 0, 2, '--NME--'), ('1135-024', 10, 11, 'National_League_for_Democracy'), ('1135-024', 14, 16, '--NME--'), ('1135-024', 19, 20, 'Insein_Prison'), ('1135-024', 21, 23, '--NME--'), ('0966-087', 0, 1, '--NME--'), ('0966-087', 1, 3, 'Rohan_Robinson'), ('0966-087', 4, 5, 'Australia'), ('0966-087', 6, 7, '--NME--'), ('0991-002', 0, 1, 'Russia'), ('0991-002', 2, 4, 'Alexander_Lebed'), ('0991-002', 10, 12, 'Aslan_Maskhadov'), ('0991-002', 22, 23, 'Chechnya'), ('0991-002', 27, 31, '--NME--'), ('1156-004', 6, 7, '--NME--'), ('1156-004', 14, 16, 'Great_Lakes'), ('1156-004', 23, 24, 'Burundi'), ('1156-004', 30, 32, '--NME--'), ('0964-002', 0, 1, 'Spanish_language'), ('0964-002', 4, 6, '--NME--'), ('0964-002', 11, 13, '--NME--'), ('0964-002', 14, 15, '--NME--'), ('0964-002', 18, 20, 'Real_Madrid_CF'), ('0964-002', 21, 22, 'FIFA'), ('0964-002', 31, 32, 'Brazil'), ('0964-002', 33, 34, 'UEFA_Euro_1992'), ('0964-002', 41, 42, 'Europe'), ('1127-015', 0, 1, '--NME--'), ('1127-015', 7, 8, 'Chechnya'), ('1127-015', 11, 13, 'Doku_Zavgayev'), ('1127-015', 38, 39, 'Russia'), ('0988-002', 2, 6, '--NME--'), ('0988-002', 16, 17, 'Sheffield_Wednesday_F.C.'), ('0988-002', 17, 18, '--NME--'), ('0988-002', 21, 23, '--NME--'), ('0988-002', 24, 27, '--NME--'), ('0988-002', 29, 30, '--NME--'), ('1061-004', 0, 3, '--NME--'), ('1142-006', 0, 1, '--NME--'), ('1142-006', 12, 13, 'Iran'), ('1142-006', 16, 17, 'Iraq'), ('1142-006', 20, 21, 'Kurdistan_Democratic_Party'), ('1142-006', 32, 33, 'Iran'), ('1003-003', 0, 1, '--NME--'), ('1003-003', 7, 9, '--NME--'), ('1003-003', 10, 12, '--NME--'), ('1003-003', 18, 19, 'Netherlands'), ('1003-003', 21, 22, '--NME--'), ('1003-003', 37, 39, '--NME--'), ('1003-003', 40, 42, '--NME--'), ('1003-003', 45, 46, 'Paramaribo'), ('1060-010', 0, 1, '--NME--'), ('1060-010', 1, 3, 'Mark_McNulty'), ('1060-010', 4, 5, 'Zimbabwe'), ('1060-010', 6, 7, '--NME--'), ('1144-002', 0, 3, 'Kurdistan_Democratic_Party'), ('1144-002', 7, 9, 'Masoud_Barzani'), ('1144-002', 16, 17, 'Iraq'), ('1144-002', 26, 27, 'Kurds'), ('1144-002', 31, 32, 'Erbil'), ('1144-002', 35, 36, '--NME--'), ('1144-002', 38, 39, 'Baghdad'), ('1121-003', 4, 8, '--NME--'), ('1121-003', 9, 10, 'Iraq'), ('1121-003', 16, 17, 'Iraq'), ('1121-003', 22, 24, '--NME--'), ('1121-003', 25, 27, '--NME--'), ('1121-003', 29, 30, 'Erbil'), ('1121-003', 36, 37, 'Kurds'), ('1121-003', 41, 42, 'Iraq'), ('0974-011', 0, 2, 'Chaminda_Vaas'), ('0974-011', 3, 5, 'Muttiah_Muralitharan'), ('0974-011', 6, 8, 'Upul_Chandana'), ('1097-003', 5, 7, '--NME--'), ('1097-003', 8, 10, 'Stefan_Edberg'), ('1097-003', 15, 16, '--NME--'), ('1097-003', 18, 20, '--NME--'), ('1097-003', 21, 23, 'Bernd_Karbacher'), ('1097-003', 31, 32, '--NME--'), ('1097-003', 37, 38, '--NME--'), ('1020-002', 0, 1, 'India'), ('1020-002', 5, 6, '--NME--'), ('1020-002', 19, 22, '--NME--'), ('1000-014', 6, 7, 'Hungary'), ('1000-014', 8, 9, 'Poland'), ('1000-014', 10, 13, 'Czech_Republic'), ('1000-014', 21, 25, '--NME--'), ('1000-014', 27, 29, '--NME--'), ('1000-014', 30, 36, '--NME--'), ('1036-017', 9, 10, 'Barentsburg'), ('1036-017', 23, 25, '--NME--'), ('1036-017', 26, 27, '--NME--'), ('1116-031', 0, 1, '--NME--'), ('1116-031', 3, 5, 'Desmond_Tutu'), ('1116-031', 8, 9, '--NME--'), ('1116-031', 10, 12, 'Cape_Town'), ('1116-031', 13, 15, 'South_Africa'), ('1101-003', 4, 5, '--NME--'), ('1101-003', 6, 7, 'France'), ('1101-003', 12, 14, 'Aimé_Jacquet'), ('1101-003', 16, 18, 'UEFA_Euro_1996'), ('1101-003', 34, 35, 'Chelsea_F.C.'), ('1101-003', 37, 39, '--NME--'), ('1033-008', 0, 1, 'Russia'), ('1033-008', 2, 4, 'Alexander_Lebed'), ('1033-008', 5, 6, 'Chechnya'), ('1033-008', 9, 11, 'Aslan_Maskhadov'), ('1033-008', 19, 20, '--NME--'), ('0980-006', 0, 1, '--NME--'), ('0980-006', 1, 2, '--NME--'), ('0980-006', 4, 5, '--NME--'), ('0980-006', 5, 7, '--NME--'), ('0980-006', 15, 16, '--NME--'), ('0980-006', 17, 18, '--NME--'), ('0980-006', 21, 22, 'Southern_Illinois_University_Carbondale'), ('0980-006', 26, 27, 'France'), ('0980-006', 29, 30, '--NME--'), ('0980-006', 30, 34, '--NME--'), ('1103-003', 0, 1, 'Belgium'), ('1103-003', 4, 5, '1998_FIFA_World_Cup'), ('1103-003', 5, 7, 'FIFA_World_Cup'), ('1103-003', 15, 16, 'Turkey_national_football_team'), ('1103-003', 22, 23, 'Turkish_Armed_Forces'), ('1019-003', 4, 5, '--NME--'), ('1019-003', 9, 10, 'Groningen'), ('1019-003', 15, 16, 'Netherlands'), ('1099-007', 0, 1, 'Everton_F.C.'), ('1099-007', 2, 4, 'Duncan_Ferguson'), ('1099-007', 7, 8, 'Scotland'), ('1099-007', 9, 12, '--NME--'), ('1099-007', 15, 16, 'Austria'), ('1099-007', 17, 19, '--NME--'), ('1011-023', 16, 17, 'NationsBank'), ('1011-023', 40, 42, '--NME--'), ('1011-023', 45, 48, '--NME--'), ('1006-006', 9, 11, '--NME--'), ('1006-006', 15, 16, '--NME--'), ('0962-012', 0, 2, '--NME--'), ('1090-008', 1, 3, '--NME--'), ('1090-008', 27, 28, 'FA_Cup'), ('1090-008', 30, 31, '--NME--'), ('1090-008', 32, 33, '--NME--'), ('1090-008', 33, 35, '--NME--'), ('0966-078', 0, 1, '--NME--'), ('0966-078', 1, 3, 'Pauline_Konga'), ('0966-078', 4, 5, 'Kenya'), ('1137-010', 0, 2, 'South_Korea'), ('1137-010', 3, 4, '--NME--'), ('1137-010', 6, 7, '--NME--'), ('1137-010', 15, 16, 'South_America'), ('1137-010', 22, 26, '--NME--'), ('0984-005', 0, 3, '--NME--'), ('0984-005', 6, 7, '--NME--'), ('0984-005', 11, 12, '--NME--'), ('0984-005', 14, 16, '--NME--'), ('1135-008', 1, 2, 'Myanmar'), ('1135-008', 3, 5, '--NME--'), ('1135-008', 10, 11, '--NME--'), ('1135-008', 18, 19, '--NME--'), ('1135-008', 22, 25, '--NME--'), ('1135-008', 26, 28, '--NME--'), ('0954-004', 0, 3, '--NME--'), ('0954-004', 5, 6, 'Scotland'), ('0954-004', 8, 9, '--NME--'), ('0954-004', 13, 14, 'England'), ('0954-004', 16, 18, '--NME--'), ('1091-003', 4, 5, 'Serie_A'), ('1091-003', 11, 12, 'Germany'), ('1091-003', 14, 16, 'Natasha_Zvereva'), ('1091-003', 17, 18, 'Belarus'), ('1091-003', 21, 22, '--NME--'), ('1091-003', 26, 27, 'Switzerland'), ('1091-003', 29, 31, '--NME--'), ('1091-003', 32, 33, 'Japan'), ('1091-003', 36, 38, 'Judith_Wiesner'), ('1091-003', 42, 44, 'Petra_Langrová'), ('1091-003', 45, 46, 'Czech_Republic'), ('1091-003', 48, 49, '--NME--'), ('0966-058', 0, 1, '--NME--'), ('0966-058', 1, 3, 'Virgilijus_Alekna'), ('0966-058', 4, 5, 'Lithuania'), ('0966-058', 6, 7, '--NME--'), ('1122-000', 0, 1, 'World_War_II'), ('1122-000', 3, 4, 'Algeria'), ('1008-029', 10, 13, '--NME--'), ('1008-029', 14, 15, '--NME--'), ('1008-029', 21, 24, '--NME--'), ('1008-029', 33, 35, '--NME--'), ('1008-029', 43, 45, '--NME--'), ('1008-029', 46, 48, '--NME--'), ('1008-029', 50, 51, 'Federal_Reserve'), ('1077-002', 0, 1, 'England'), ('1077-002', 4, 6, 'Paul_Gascoigne'), ('1077-002', 13, 14, '--NME--'), ('1077-002', 20, 23, '--NME--'), ('1077-002', 31, 32, 'Moldova'), ('1008-011', 9, 10, 'Federal_Reserve'), ('1008-011', 20, 22, '--NME--'), ('1008-011', 38, 41, '--NME--'), ('0966-009', 0, 1, '--NME--'), ('0966-009', 1, 3, '--NME--'), ('0966-009', 4, 5, 'Switzerland'), ('0966-009', 6, 7, '--NME--'), ('0946-010', 5, 6, 'England'), ('0946-010', 7, 9, 'Mark_Butcher'), ('0946-010', 11, 12, '--NME--'), ('0946-010', 13, 14, 'Surrey'), ('0946-010', 16, 17, '--NME--'), ('0946-010', 18, 19, '--NME--'), ('0946-010', 23, 24, '--NME--'), ('1113-005', 0, 2, 'Borussia_Neunkirchen'), ('1009-013', 14, 15, '--NME--'), ('1009-013', 16, 17, 'Mexico'), ('0952-006', 1, 2, '--NME--'), ('0952-006', 4, 5, '--NME--'), ('0952-006', 6, 7, 'Southern_Illinois_University_Carbondale'), ('0952-006', 8, 10, 'FC_Dynamo_Moscow'), ('0952-006', 12, 13, '--NME--'), ('0952-006', 23, 24, 'Southern_Illinois_University_Carbondale'), ('0952-006', 26, 27, 'Moscow'), ('0966-154', 0, 1, '--NME--'), ('0966-154', 1, 3, 'Isel_López'), ('0966-154', 4, 5, 'Cuba'), ('0966-154', 6, 7, '--NME--'), ('0961-005', 14, 15, 'Philadelphia'), ('0961-005', 23, 24, '--NME--'), ('1033-003', 0, 2, 'Flavio_Cotti'), ('1033-003', 6, 12, '--NME--'), ('1033-003', 13, 14, 'Europe'), ('1033-003', 19, 20, 'German_language'), ('1033-003', 28, 29, 'Chechnya'), ('1033-003', 32, 33, 'Russia'), ('1094-031', 0, 4, 'National_League_East'), ('0953-003', 0, 1, '--NME--'), ('0953-003', 2, 3, '--NME--'), ('0953-003', 7, 8, 'Mexico'), ('0953-003', 8, 10, '--NME--'), ('0953-003', 11, 12, '--NME--'), ('0953-003', 20, 22, 'Panama_City'), ('1125-011', 0, 1, '--NME--'), ('1125-011', 3, 4, '--NME--'), ('1125-011', 6, 9, '--NME--'), ('1033-007', 3, 4, 'Chechnya'), ('1033-007', 6, 8, '--NME--'), ('1033-007', 10, 11, 'Switzerland'), ('1033-007', 16, 17, 'Chechnya'), ('1033-007', 24, 26, 'Zelimkhan_Yandarbiyev'), ('1093-002', 0, 3, 'United_States'), ('1093-002', 4, 6, 'El_Salvador_national_football_team'), ('1093-002', 17, 18, '--NME--'), ('1074-004', 0, 3, '--NME--'), ('1074-004', 10, 11, 'Benin_national_football_team'), ('1074-004', 12, 13, '--NME--'), ('1074-004', 16, 17, '--NME--'), ('0966-108', 0, 1, '--NME--'), ('0966-108', 1, 3, '--NME--'), ('0966-108', 4, 5, 'Cuba'), ('1027-006', 4, 5, '--NME--'), ('1027-006', 8, 9, 'Israel'), ('1027-006', 12, 13, '--NME--'), ('1027-006', 14, 15, 'Hebrew_language')]\n"
     ]
    }
   ],
   "source": [
    "# TODO: Write code here to implement the \"most probable entity\" method.\n",
    "wiki_pred=[]\n",
    "for x in pred_df.itertuples():\n",
    "    doc = nlp(x[2])\n",
    "    for ent in doc.ents:\n",
    "        tmp_str=[]\n",
    "        for i in range(ent.start,ent.end):\n",
    "            tmp_str.append(doc[i].text)\n",
    "        tmp_str=\" \".join(tmp_str)\n",
    "        tmp_df=df_kb.loc[df_kb.mention == tmp_str]\n",
    "        if len(tmp_df)!=0:\n",
    "            wiki_pred.append((x[1],ent.start,ent.end,tmp_df.iloc[0].entity))\n",
    "        else:\n",
    "            wiki_pred.append((x[1],ent.start,ent.end,\"--NME--\"))\n",
    "print(wiki_pred)"
   ]
  },
  {
   "cell_type": "code",
   "execution_count": 134,
   "metadata": {},
   "outputs": [
    {
     "name": "stdout",
     "output_type": "stream",
     "text": [
      "41.95167040802853 53.69274970424202 47.10155670867309\n"
     ]
    }
   ],
   "source": [
    "evaluation_report(set(gold_mentions(df_dev)),set(wiki_pred))"
   ]
  },
  {
   "cell_type": "markdown",
   "metadata": {},
   "source": [
    "## Problem 6: Context-sensitive disambiguation"
   ]
  },
  {
   "cell_type": "markdown",
   "metadata": {},
   "source": [
    "Consider the entity mention &lsquo;Lincoln&rsquo;. The most probable entity for this mention turns out to be [Lincoln, Nebraska](http://en.wikipedia.org/Lincoln,_Nebraska); but in pages about American history, we would be better off to predict [Abraham Lincoln](http://en.wikipedia.org/Abraham_Lincoln). This suggests that we should try to disambiguate between different entity references based on the textual context on the page from which the mention was taken. Your task in this last problem is to implement this idea.\n",
    "\n",
    "Set up a dictionary that contains, for each mention $m$ that can refer to more than one entity $e$, a separate Naive Bayes classifier that is trained to predict the correct entity $e$, given the textual context of the mention. As the prior probabilities of the classifier, choose the probabilities $P(e|m)$ that you used in Problem&nbsp;5. To let you estimate the context-specific probabilities, we have compiled a data set with mention contexts:"
   ]
  },
  {
   "cell_type": "code",
   "execution_count": 94,
   "metadata": {},
   "outputs": [],
   "source": [
    "with bz2.open('contexts.tsv.bz2') as source:\n",
    "    df_contexts = pd.read_csv(source, sep='\\t', quoting=csv.QUOTE_NONE)"
   ]
  },
  {
   "cell_type": "markdown",
   "metadata": {},
   "source": [
    "This data frame contains, for each ambiguous mention $m$ and each knowledge base entity $e$ to which this mention can refer, up to 100 randomly selected contexts in which $m$ is used to refer to $e$. For this data, a **context** is defined as the 5 tokens to the left and the 5 tokens to the right of the mention. Here are a few examples:"
   ]
  },
  {
   "cell_type": "code",
   "execution_count": 95,
   "metadata": {},
   "outputs": [
    {
     "data": {
      "text/html": [
       "<div>\n",
       "<style scoped>\n",
       "    .dataframe tbody tr th:only-of-type {\n",
       "        vertical-align: middle;\n",
       "    }\n",
       "\n",
       "    .dataframe tbody tr th {\n",
       "        vertical-align: top;\n",
       "    }\n",
       "\n",
       "    .dataframe thead th {\n",
       "        text-align: right;\n",
       "    }\n",
       "</style>\n",
       "<table border=\"1\" class=\"dataframe\">\n",
       "  <thead>\n",
       "    <tr style=\"text-align: right;\">\n",
       "      <th></th>\n",
       "      <th>mention</th>\n",
       "      <th>entity</th>\n",
       "      <th>context</th>\n",
       "    </tr>\n",
       "  </thead>\n",
       "  <tbody>\n",
       "    <tr>\n",
       "      <th>0</th>\n",
       "      <td>1970</td>\n",
       "      <td>UEFA_Champions_League</td>\n",
       "      <td>Cup twice the first in @ and the second in 1983</td>\n",
       "    </tr>\n",
       "    <tr>\n",
       "      <th>1</th>\n",
       "      <td>1970</td>\n",
       "      <td>FIFA_World_Cup</td>\n",
       "      <td>America 1975 and during the @ and 1978 World C...</td>\n",
       "    </tr>\n",
       "    <tr>\n",
       "      <th>2</th>\n",
       "      <td>1990 World Cup</td>\n",
       "      <td>1990_FIFA_World_Cup</td>\n",
       "      <td>Manolo represented Spain at the @</td>\n",
       "    </tr>\n",
       "    <tr>\n",
       "      <th>3</th>\n",
       "      <td>1990 World Cup</td>\n",
       "      <td>1990_FIFA_World_Cup</td>\n",
       "      <td>Hašek represented Czechoslovakia at the @ and ...</td>\n",
       "    </tr>\n",
       "    <tr>\n",
       "      <th>4</th>\n",
       "      <td>1990 World Cup</td>\n",
       "      <td>1990_FIFA_World_Cup</td>\n",
       "      <td>renovations in 1989 for the @ The present capa...</td>\n",
       "    </tr>\n",
       "  </tbody>\n",
       "</table>\n",
       "</div>"
      ],
      "text/plain": [
       "          mention                 entity  \\\n",
       "0            1970  UEFA_Champions_League   \n",
       "1            1970         FIFA_World_Cup   \n",
       "2  1990 World Cup    1990_FIFA_World_Cup   \n",
       "3  1990 World Cup    1990_FIFA_World_Cup   \n",
       "4  1990 World Cup    1990_FIFA_World_Cup   \n",
       "\n",
       "                                             context  \n",
       "0    Cup twice the first in @ and the second in 1983  \n",
       "1  America 1975 and during the @ and 1978 World C...  \n",
       "2                 Manolo represented Spain at the @   \n",
       "3  Hašek represented Czechoslovakia at the @ and ...  \n",
       "4  renovations in 1989 for the @ The present capa...  "
      ]
     },
     "execution_count": 95,
     "metadata": {},
     "output_type": "execute_result"
    }
   ],
   "source": [
    "df_contexts.head()"
   ]
  },
  {
   "cell_type": "markdown",
   "metadata": {},
   "source": [
    "Note that, in each context, the position of the mention is indicated by the `@` symbol.\n",
    "\n",
    "From this data frame, it is easy to select the data that you need to train the classifiers – the contexts and corresponding entities for all mentions. To illustrate this, the following cell shows how to select all contexts that belong to the mention &lsquo;Lincoln&rsquo;:"
   ]
  },
  {
   "cell_type": "code",
   "execution_count": 137,
   "metadata": {},
   "outputs": [],
   "source": [
    "from sklearn.pipeline import Pipeline\n",
    "from sklearn.feature_extraction.text import CountVectorizer\n",
    "from sklearn.naive_bayes import MultinomialNB\n",
    "from collections import Counter\n",
    "\n",
    "classifiers={}\n",
    "for w in set(df_contexts.mention):\n",
    "    X=df_contexts.context[df_contexts.mention==w]\n",
    "    y=df_contexts.entity[df_contexts.mention==w]\n",
    " \n",
    "    c=Counter(y)\n",
    "    prior = sorted(c.items(), key=lambda pair: (pair[0])) \n",
    "    prior= [p[1]/sum(c.values()) for p in prior]\n",
    "    pipe=Pipeline([(\"vectorize\",CountVectorizer()),(\"MultinomialNB\",MultinomialNB(class_prior=prior))])\n",
    "\n",
    "    pipe.fit(X,y)\n",
    "    classifiers[w]=pipe\n"
   ]
  },
  {
   "cell_type": "markdown",
   "metadata": {},
   "source": [
    "Implement the context-sensitive disambiguation method and evaluate its performance. Here are some more hints that may help you along the way:\n",
    "\n",
    "**Hint 1:** The prior probabilities for a Naive Bayes classifier can be specified using the `class_prior` option. You will have to provide the probabilities in the same order as the alphabetically sorted class (entity) names.\n",
    "\n",
    "**Hint 2:** Not all mentions in the knowledge base are ambiguous, and therefore not all mentions have context data. If a mention has only one possible entity, pick that one. If a mention has no entity at all, predict the `--NME--` label."
   ]
  },
  {
   "cell_type": "code",
   "execution_count": 165,
   "metadata": {
    "tags": [
     "outputPrepend"
    ]
   },
   "outputs": [
    {
     "name": "stdout",
     "output_type": "stream",
     "text": [
      "--'), ('1031-016', 9, 10, 'China'), ('1119-004', 4, 5, 'Iraq'), ('1119-004', 14, 16, '--NME--'), ('0997-008', 0, 1, '--NME--'), ('0997-008', 2, 3, 'Boris_Yeltsin'), ('0997-008', 10, 12, '--NME--'), ('0997-008', 14, 15, 'Barvikha'), ('0997-008', 17, 18, 'Moscow'), ('1096-042', 3, 4, 'Serie_A'), ('1096-042', 5, 6, '--NME--'), ('1096-042', 7, 8, '--NME--'), ('1096-042', 8, 9, 'Run_(baseball)'), ('1096-042', 10, 11, 'UEFA_Euro_1996'), ('1160-004', 4, 6, 'Liam_Neeson'), ('1160-004', 7, 9, 'Julia_Roberts'), ('1160-004', 14, 16, 'Michael_Collins_(Irish_leader)'), ('1160-004', 17, 22, '--NME--'), ('1160-004', 28, 29, 'Republic_of_Ireland'), ('1160-004', 31, 34, '--NME--'), ('0958-052', 0, 2, 'San_Diego_Padres'), ('1072-018', 0, 2, 'South_Africa_national_rugby_union_team'), ('1072-018', 8, 9, '--NME--'), ('1072-018', 10, 12, '--NME--'), ('1072-018', 13, 14, '--NME--'), ('1072-018', 15, 17, 'Japie_Mulder'), ('1072-018', 18, 20, 'Joel_Stransky'), ('1072-018', 21, 22, '--NME--'), ('1072-018', 24, 25, '--NME--'), ('1072-018', 26, 29, '--NME--'), ('1072-018', 30, 31, '--NME--'), ('1072-018', 35, 36, '--NME--'), ('1072-018', 40, 41, '--NME--'), ('1072-018', 45, 46, '--NME--'), ('1072-018', 47, 48, '--NME--'), ('1072-018', 49, 51, 'Gary_Teichmann'), ('1072-018', 55, 56, '--NME--'), ('1072-018', 60, 62, '--NME--'), ('1072-018', 63, 64, '--NME--'), ('1072-018', 66, 67, '--NME--'), ('1072-018', 71, 74, '--NME--'), ('1072-018', 76, 79, '--NME--'), ('1072-018', 80, 81, '--NME--'), ('1072-018', 83, 84, '--NME--'), ('1072-018', 88, 91, '--NME--'), ('1072-018', 93, 94, '--NME--'), ('1072-018', 95, 97, '--NME--'), ('1072-018', 98, 101, '--NME--'), ('1072-018', 103, 105, 'Garry_Pagel'), ('1072-018', 106, 107, '--NME--'), ('0997-007', 0, 1, 'Boris_Yeltsin'), ('0997-007', 2, 3, '--NME--'), ('0997-007', 15, 16, 'World_War_II'), ('0997-007', 20, 22, '--NME--'), ('1022-003', 3, 5, '--NME--'), ('1022-003', 6, 7, 'Canada'), ('1022-003', 12, 13, '--NME--'), ('1022-003', 23, 25, '--NME--'), ('1022-003', 31, 34, '--NME--'), ('1152-011', 0, 1, 'Bill_Clinton'), ('1152-011', 2, 3, 'Iraq'), ('1152-011', 9, 10, 'Erbil'), ('1152-011', 16, 17, '--NME--'), ('1152-011', 18, 19, 'Kurds'), ('1152-011', 21, 22, 'Baghdad'), ('1152-011', 26, 27, 'Iran'), ('0965-007', 0, 2, '--NME--'), ('0965-007', 2, 3, 'Dennis_Mitchell'), ('0965-007', 6, 7, '--NME--'), ('0965-007', 8, 11, '--NME--'), ('0965-007', 16, 17, 'Summer_Olympic_Games'), ('0965-007', 19, 20, 'Donovan_Bailey'), ('0965-007', 23, 24, '--NME--'), ('0965-007', 25, 26, 'Brussels'), ('1091-001', 0, 2, 'New_York_City'), ('1005-010', 5, 6, '--NME--'), ('1005-010', 8, 9, '--NME--'), ('1005-010', 12, 14, 'Hong_Kong'), ('1005-010', 15, 16, '--NME--'), ('1005-010', 18, 21, '--NME--'), ('1005-010', 22, 23, '--NME--'), ('1005-010', 25, 26, '--NME--'), ('1005-010', 28, 29, '--NME--'), ('0986-002', 0, 1, 'Republic_of_Ireland'), ('0986-002', 3, 5, 'Mick_McCarthy'), ('0986-002', 6, 7, '--NME--'), ('0986-002', 12, 13, 'Liechtenstein_national_football_team'), ('0986-002', 14, 15, '--NME--'), ('0986-002', 16, 18, 'FIFA_World_Cup'), ('0966-147', 0, 1, '--NME--'), ('0966-147', 4, 5, 'Armenia'), ('0966-147', 6, 7, '--NME--'), ('1089-018', 8, 9, '--NME--'), ('1089-018', 12, 13, '--NME--'), ('1116-008', 0, 1, 'Charles,_Prince_of_Wales'), ('1116-008', 2, 3, 'Alsace'), ('1116-008', 4, 5, 'Strasbourg'), ('1116-008', 6, 7, 'France_national_football_team'), ('1116-008', 10, 11, 'Breisach'), ('1116-008', 12, 13, 'Kehl'), ('1116-008', 14, 15, 'Freiburg_im_Breisgau'), ('1049-002', 0, 5, '--NME--'), ('1049-002', 15, 16, 'Liechtenstein'), ('1049-002', 19, 20, '--NME--'), ('1049-002', 24, 26, 'FIFA_World_Cup'), ('1049-002', 28, 29, '--NME--'), ('1131-007', 5, 6, 'Honduras'), ('1131-007', 7, 8, 'Guatemala'), ('1128-003', 0, 2, '--NME--'), ('1128-003', 10, 11, '--NME--'), ('1128-003', 17, 18, 'Poles'), ('1128-003', 19, 21, '--NME--'), ('1128-003', 28, 32, '--NME--'), ('1128-003', 37, 38, '--NME--'), ('1030-031', 0, 2, 'Dick_Morris'), ('1030-031', 8, 9, 'Bill_Clinton'), ('1030-031', 13, 17, '--NME--'), ('1030-031', 36, 37, '--NME--'), ('1142-006', 0, 1, '--NME--'), ('1142-006', 12, 13, 'Iran'), ('1142-006', 16, 17, 'Iraq'), ('1142-006', 20, 21, 'Kurdistan_Democratic_Party'), ('1142-006', 32, 33, 'Iran'), ('1037-002', 0, 1, 'Sweden'), ('1037-002', 3, 6, '--NME--'), ('1037-002', 8, 9, '--NME--'), ('1037-002', 14, 16, '--NME--'), ('1037-002', 25, 26, 'Guangdong'), ('1037-002', 28, 29, 'China'), ('0966-028', 0, 1, '--NME--'), ('0966-028', 1, 3, '--NME--'), ('0966-028', 4, 5, '--NME--'), ('0966-028', 6, 7, '--NME--'), ('1046-007', 2, 4, '--NME--'), ('1046-007', 13, 14, '--NME--'), ('1046-007', 22, 23, '--NME--'), ('1072-011', 0, 1, 'Andrew_Mehrtens'), ('1072-011', 2, 3, '--NME--'), ('1072-011', 9, 13, '--NME--'), ('1072-011', 25, 26, 'South_Africa_national_rugby_union_team'), ('1007-011', 0, 1, 'Bill_Clinton'), ('1007-011', 3, 6, '--NME--'), ('1101-012', 0, 1, 'Mexico_City'), ('1101-012', 7, 8, '--NME--'), ('1101-012', 11, 12, '--NME--'), ('1101-012', 14, 15, '--NME--'), ('1101-012', 19, 20, '--NME--'), ('1101-012', 21, 23, '--NME--'), ('1101-012', 24, 27, '--NME--'), ('1101-012', 29, 31, '--NME--'), ('1101-012', 33, 37, '--NME--'), ('1101-012', 38, 42, '--NME--'), ('1101-012', 44, 45, '--NME--'), ('1101-012', 46, 49, '--NME--'), ('1101-012', 50, 51, '--NME--'), ('1101-012', 56, 57, '--NME--'), ('1101-012', 63, 64, '--NME--'), ('1101-012', 69, 70, '--NME--'), ('1101-012', 74, 75, '--NME--'), ('1101-012', 81, 82, '--NME--'), ('1101-012', 86, 87, 'Mil_Mi-17'), ('1101-012', 93, 94, '--NME--'), ('1101-012', 95, 97, '--NME--'), ('1101-012', 98, 99, '--NME--'), ('1101-012', 102, 103, '--NME--'), ('1011-008', 6, 9, '--NME--'), ('1011-008', 10, 11, 'Franklin_D._Roosevelt'), ('1011-008', 14, 16, '--NME--'), ('1011-008', 19, 23, '--NME--'), ('1022-009', 4, 5, 'Canada'), ('1022-009', 13, 15, '--NME--'), ('1022-009', 16, 19, '--NME--'), ('1022-009', 20, 22, '--NME--'), ('1121-008', 1, 2, '--NME--'), ('1121-008', 3, 4, 'Iraq'), ('1121-008', 5, 6, 'Iran'), ('1121-008', 17, 18, 'Tehran'), ('1121-008', 25, 26, 'Iraq'), ('1121-008', 33, 34, 'Southern_Illinois_University_Carbondale'), ('1121-008', 35, 37, 'Iraqi_Kurdistan'), ('1121-008', 39, 42, '--NME--'), ('1136-002', 0, 8, '--NME--'), ('1136-002', 10, 13, '--NME--'), ('1136-002', 19, 20, 'Tianjin'), ('1136-002', 23, 24, 'China'), ('1136-002', 25, 28, '--NME--'), ('1136-002', 30, 31, '--NME--'), ('0966-140', 0, 1, '--NME--'), ('0966-140', 1, 3, 'Tom_Nyariki'), ('0966-140', 4, 5, 'Kenya'), ('1087-003', 5, 6, 'Ken_Hill_(baseball)'), ('1087-003', 21, 22, 'Serie_A'), ('1005-014', 4, 5, '--NME--'), ('1005-014', 7, 10, '--NME--'), ('1005-014', 10, 11, '--NME--'), ('1005-014', 19, 25, '--NME--'), ('1005-014', 32, 33, '--NME--'), ('1005-014', 35, 36, '--NME--'), ('0963-017', 0, 1, '--NME--'), ('0963-017', 5, 6, 'UEFA_Euro_1996'), ('0963-017', 13, 15, 'Andrew_Magee'), ('0963-017', 16, 17, 'Sheffield_Wednesday_F.C.'), ('0963-017', 21, 22, '--NME--'), ('0963-017', 23, 25, 'PGA_Tour'), ('0963-017', 31, 32, '--NME--'), ('0963-017', 32, 34, '--NME--'), ('1138-008', 0, 2, '--NME--'), ('1138-008', 3, 4, '--NME--'), ('1138-008', 5, 6, '--NME--'), ('1138-008', 12, 13, '--NME--'), ('1138-008', 13, 15, 'Democracy_Wall'), ('1138-008', 21, 23, '--NME--'), ('0991-002', 0, 1, 'Russian_Empire'), ('0991-002', 2, 4, 'Alexander_Lebed'), ('0991-002', 10, 12, 'Aslan_Maskhadov'), ('0991-002', 22, 23, 'Chechnya'), ('0991-002', 27, 31, '--NME--'), ('1051-010', 0, 1, '--NME--'), ('1051-010', 3, 5, '--NME--'), ('1051-010', 8, 10, '--NME--'), ('1051-010', 10, 12, '--NME--'), ('1051-010', 15, 17, '--NME--'), ('1051-010', 18, 19, 'Australia_national_cricket_team'), ('1051-010', 20, 22, '--NME--'), ('1051-010', 25, 27, 'Mark_Roe'), ('1051-010', 27, 28, '--NME--'), ('1051-010', 28, 31, '--NME--'), ('1051-010', 32, 34, '--NME--'), ('1051-010', 35, 36, 'Australia_national_cricket_team'), ('1051-010', 37, 39, '--NME--'), ('1051-010', 40, 41, '--NME--'), ('0960-005', 6, 7, '--NME--'), ('0960-005', 8, 9, 'Marcelo_Ríos'), ('0960-005', 15, 16, 'The_Championships,_Wimbledon'), ('0960-005', 20, 22, 'Jeff_Tarango'), ('0965-004', 6, 7, 'Summer_Olympic_Games'), ('0965-004', 10, 15, '--NME--'), ('0965-004', 16, 17, 'Dennis_Mitchell'), ('0965-004', 23, 24, '--NME--'), ('0965-004', 28, 29, 'Donovan_Bailey'), ('0965-004', 35, 37, '--NME--'), ('1044-004', 1, 2, 'Jerusalem'), ('1044-004', 3, 4, 'Israel'), ('1044-004', 9, 10, '--NME--'), ('1044-004', 11, 12, 'Palestine'), ('1044-004', 15, 16, 'Yasser_Arafat'), ('1044-004', 18, 21, '--NME--'), ('1044-004', 28, 29, 'Islam'), ('1044-004', 30, 31, 'Arabs'), ('1044-004', 32, 33, 'Jews'), ('1044-004', 38, 39, 'Israel'), ('1044-004', 43, 46, '--NME--'), ('1055-013', 0, 2, '--NME--'), ('1055-013', 4, 5, '--NME--'), ('0984-008', 0, 1, 'France'), ('0984-008', 7, 9, '--NME--'), ('0984-008', 15, 16, '--NME--'), ('1069-006', 3, 4, 'Glamorgan_County_Cricket_Club'), ('1069-006', 5, 6, 'Durham_County_Cricket_Club'), ('1069-006', 7, 8, '--NME--'), ('1026-007', 0, 3, '--NME--'), ('1026-007', 12, 13, '--NME--'), ('1026-007', 15, 16, '1992_Summer_Olympics'), ('1026-007', 19, 21, 'Hosni_Mubarak'), ('1026-007', 27, 28, 'Islam'), ('0957-033', 5, 6, 'World_War_II'), ('0957-033', 7, 8, '--NME--'), ('0957-033', 9, 11, 'Todd_Martin'), ('0957-033', 12, 13, '--NME--'), ('0957-033', 15, 17, 'Andrea_Gaudenzi'), ('0957-033', 18, 19, 'Italy_national_football_team'), ('0957-033', 23, 25, 'Stefan_Edberg'), ('0957-033', 26, 27, 'Sweden_national_football_team'), ('0957-033', 29, 31, 'Bernd_Karbacher'), ('0957-033', 32, 33, 'Germany_national_football_team'), ('1055-001', 0, 1, '--NME--'), ('1055-001', 2, 3, 'England'), ('1095-017', 0, 2, 'Los_Angeles'), ('1095-017', 2, 3, '--NME--'), ('1095-017', 7, 8, '--NME--'), ('1036-009', 9, 10, 'Arctic'), ('1036-009', 12, 13, '--NME--'), ('1036-009', 14, 15, '--NME--'), ('1036-009', 19, 20, '--NME--'), ('1094-041', 0, 1, 'Chicago_White_Sox'), ('1094-041', 1, 3, '--NME--'), ('1094-041', 4, 6, '--NME--'), ('0965-003', 0, 1, 'American_League'), ('0965-003', 1, 3, 'Dennis_Mitchell'), ('0965-003', 5, 6, '--NME--'), ('0965-003', 8, 10, 'Donovan_Bailey'), ('0965-003', 12, 13, 'Serie_A'), ('0965-003', 31, 32, '--NME--'), ('1101-011', 0, 1, 'France_Fed_Cup_team'), ('1101-011', 7, 8, '--NME--'), ('1101-011', 12, 15, '--NME--'), ('1101-011', 16, 17, '--NME--'), ('1101-011', 19, 20, '--NME--'), ('1101-011', 24, 25, '--NME--'), ('1101-011', 29, 30, '--NME--'), ('1101-011', 33, 34, '--NME--'), ('1101-011', 36, 37, '--NME--'), ('1101-011', 38, 40, 'Bixente_Lizarazu'), ('1101-011', 41, 45, '--NME--'), ('1101-011', 46, 47, '--NME--'), ('1101-011', 51, 52, '--NME--'), ('1101-011', 56, 57, '--NME--'), ('1101-011', 61, 62, '--NME--'), ('1101-011', 65, 66, '--NME--'), ('1101-011', 68, 69, '--NME--'), ('1101-011', 73, 77, '--NME--'), ('1101-011', 80, 81, '--NME--'), ('1101-011', 85, 86, '--NME--'), ('1101-011', 89, 90, '--NME--'), ('0965-006', 0, 1, 'Jamaica'), ('0965-006', 2, 4, 'Michael_Green_(sprinter)'), ('0965-006', 5, 6, 'World_War_II'), ('0965-006', 7, 8, '--NME--'), ('0965-006', 9, 10, 'Donovan_Bailey'), ('0965-006', 12, 13, '--NME--'), ('0949-011', 6, 7, '--NME--'), ('0949-011', 8, 9, 'Newcastle_United_F.C.'), ('0949-011', 11, 13, 'Les_Ferdinand'), ('1101-012', 0, 1, 'Mexico_City'), ('1101-012', 7, 8, '--NME--'), ('1101-012', 11, 12, '--NME--'), ('1101-012', 14, 15, '--NME--'), ('1101-012', 19, 20, '--NME--'), ('1101-012', 21, 23, '--NME--'), ('1101-012', 24, 27, '--NME--'), ('1101-012', 29, 31, '--NME--'), ('1101-012', 33, 37, '--NME--'), ('1101-012', 38, 42, '--NME--'), ('1101-012', 44, 45, '--NME--'), ('1101-012', 46, 49, '--NME--'), ('1101-012', 50, 51, '--NME--'), ('1101-012', 56, 57, '--NME--'), ('1101-012', 63, 64, '--NME--'), ('1101-012', 69, 70, '--NME--'), ('1101-012', 74, 75, '--NME--'), ('1101-012', 81, 82, '--NME--'), ('1101-012', 86, 87, 'Mil_Mi-17'), ('1101-012', 93, 94, '--NME--'), ('1101-012', 95, 97, '--NME--'), ('1101-012', 98, 99, '--NME--'), ('1101-012', 102, 103, '--NME--'), ('1109-007', 0, 1, 'Brazil_national_football_team'), ('1109-007', 4, 5, '--NME--'), ('1109-007', 7, 8, '--NME--'), ('1109-007', 10, 11, '--NME--'), ('0965-013', 4, 6, '--NME--'), ('0965-013', 7, 9, 'Gail_Devers'), ('0965-013', 17, 18, '--NME--'), ('0965-013', 20, 21, '--NME--'), ('0965-013', 23, 24, 'Jamaica'), ('0965-013', 25, 27, 'Merlene_Ottey'), ('0965-013', 30, 31, 'Serie_A'), ('0965-013', 32, 33, '--NME--'), ('0966-057', 0, 1, '--NME--'), ('0966-057', 1, 3, 'Vladimir_Dubrovshchik'), ('0966-057', 4, 5, 'Belarus_national_football_team'), ('0966-057', 6, 7, '--NME--'), ('1089-006', 5, 6, '--NME--'), ('1089-006', 7, 9, 'PGA_Tour'), ('1089-006', 11, 12, '--NME--'), ('1089-006', 14, 15, '--NME--'), ('1089-006', 15, 17, '--NME--'), ('0954-001', 0, 2, 'Hong_Kong'), ('1158-002', 0, 3, '--NME--'), ('1158-002', 7, 8, 'AK-47'), ('1158-002', 17, 18, 'Belgium'), ('1158-002', 22, 23, '--NME--'), ('0998-002', 0, 1, 'Russian_Empire'), ('0998-002', 2, 4, 'Alexander_Lebed'), ('0998-002', 5, 6, 'Chechnya'), ('0998-002', 9, 11, 'Aslan_Maskhadov'), ('0998-002', 19, 20, '--NME--'), ('1025-003', 4, 5, 'Israel'), ('1025-003', 26, 27, 'Arabs'), ('1025-003', 31, 33, '--NME--'), ('1006-012', 3, 4, 'Egypt'), ('1006-012', 12, 13, 'Benghazi'), ('1116-035', 0, 1, '1990_FIFA_World_Cup'), ('1116-035', 2, 3, 'England'), ('1116-035', 4, 7, '--NME--'), ('1116-035', 8, 9, '--NME--'), ('1116-035', 10, 11, 'Charles_Taylor_(Liberian_politician)'), ('1012-004', 5, 6, '--NME--'), ('1012-004', 9, 10, 'Louis_Farrakhan'), ('1012-004', 17, 18, 'Libya'), ('1034-002', 1, 2, 'Netherlands'), ('1034-002', 4, 6, 'Annemarie_Jorritsma'), ('1034-002', 10, 11, 'World_War_II'), ('1034-002', 21, 22, '1992_Summer_Olympics'), ('1034-002', 25, 27, 'El_Al'), ('1034-002', 30, 31, '--NME--'), ('1034-002', 34, 35, 'Amsterdam'), ('0990-006', 3, 4, 'Boris_Yeltsin'), ('0990-006', 9, 10, 'Chechnya'), ('0990-006', 18, 20, '--NME--'), ('0990-006', 28, 32, '--NME--'), ('1140-003', 8, 9, '--NME--'), ('1140-003', 12, 13, '--NME--'), ('1140-003', 15, 18, '--NME--'), ('1140-003', 21, 22, '--NME--'), ('1140-003', 23, 27, '--NME--'), ('0966-120', 0, 1, '--NME--'), ('0966-120', 1, 3, '--NME--'), ('0966-120', 4, 5, '--NME--'), ('0966-120', 6, 7, '--NME--'), ('1116-034', 0, 1, 'Iraq'), ('0968-004', 0, 1, 'Atlanta'), ('0968-004', 5, 6, 'A._G._Edwards'), ('0968-004', 17, 18, 'Sarajevo'), ('0968-004', 24, 25, 'Bosnia_and_Herzegovina'), ('0968-004', 33, 34, 'Balkans'), ('0968-004', 35, 37, '--NME--'), ('0968-004', 43, 44, 'A.C._Milan'), ('1055-024', 0, 2, 'Moin_Khan'), ('1022-007', 0, 2, 'Statistics_Canada'), ('1022-007', 3, 4, '--NME--'), ('1022-007', 5, 6, 'Canada'), ('1022-007', 13, 16, '--NME--'), ('1022-007', 16, 18, '--NME--'), ('1022-007', 21, 24, '--NME--'), ('1022-007', 26, 29, '--NME--'), ('1116-013', 10, 11, '--NME--'), ('1128-003', 0, 2, '--NME--'), ('1128-003', 10, 11, '--NME--'), ('1128-003', 17, 18, 'Poles'), ('1128-003', 19, 21, '--NME--'), ('1128-003', 28, 32, '--NME--'), ('1128-003', 37, 38, '--NME--'), ('0957-019', 5, 6, 'Serie_A'), ('0957-019', 7, 9, 'Linda_Wild'), ('0957-019', 10, 11, '--NME--'), ('0957-019', 13, 15, 'Barbara_Rittner'), ('0957-019', 16, 17, 'Germany_national_football_team'), ('0957-019', 21, 23, 'Åsa_Svensson'), ('0957-019', 24, 25, 'Sweden_national_football_team'), ('0957-019', 27, 28, '--NME--'), ('0957-019', 32, 33, 'Argentina'), ('1103-009', 1, 3, '--NME--'), ('1103-009', 10, 12, '--NME--'), ('1103-009', 22, 24, '--NME--'), ('1103-009', 28, 29, 'Turkey_national_football_team'), ('1103-009', 41, 43, '--NME--'), ('1103-009', 44, 46, '--NME--'), ('1005-014', 4, 5, '--NME--'), ('1005-014', 7, 10, '--NME--'), ('1005-014', 10, 11, '--NME--'), ('1005-014', 19, 25, '--NME--'), ('1005-014', 32, 33, '--NME--'), ('1005-014', 35, 36, '--NME--'), ('1027-023', 1, 3, '--NME--'), ('1027-023', 6, 8, 'Palestinian_territories'), ('1076-031', 0, 1, '--NME--'), ('1076-031', 11, 12, '--NME--'), ('1126-007', 0, 1, 'Islam'), ('1126-007', 7, 11, '--NME--'), ('0959-001', 0, 2, 'New_York_City'), ('0993-003', 15, 16, 'Batajnica'), ('0993-003', 24, 25, 'Tanjug'), ('0993-003', 26, 27, 'Belgrade'), ('0993-003', 30, 32, '--NME--'), ('0966-105', 0, 1, '--NME--'), ('0966-105', 1, 3, 'Marc_Blume'), ('0966-105', 4, 5, 'Nazi_Germany'), ('0966-105', 6, 7, '--NME--'), ('1149-011', 2, 8, '--NME--'), ('1149-007', 0, 2, '--NME--'), ('1149-007', 8, 13, '--NME--'), ('1016-007', 5, 6, 'Israel'), ('1016-007', 22, 25, '--NME--'), ('1016-007', 26, 28, '--NME--'), ('1076-040', 0, 1, 'FC_Spartak_Moscow'), ('1076-040', 1, 2, '--NME--'), ('1076-040', 2, 3, '--NME--'), ('1076-040', 5, 6, '--NME--'), ('1076-040', 6, 7, '--NME--'), ('1076-040', 7, 8, '--NME--'), ('0948-034', 0, 1, '--NME--'), ('0948-034', 5, 7, '--NME--'), ('1027-007', 0, 1, 'State_of_Palestine'), ('1027-007', 2, 3, 'Yasser_Arafat'), ('1027-007', 5, 6, 'Israel'), ('1027-007', 10, 11, 'Jews'), ('1027-007', 16, 17, 'Jerusalem'), ('1027-007', 21, 22, 'State_of_Palestine'), ('1027-007', 24, 25, 'Sheffield_Wednesday_F.C.'), ('1027-007', 28, 30, '--NME--'), ('1027-007', 30, 31, 'Arabs'), ('1027-007', 32, 35, '--NME--'), ('1027-007', 36, 37, 'Gaza_Strip'), ('1058-026', 1, 2, 'Baltimore_Orioles'), ('1058-026', 5, 8, '--NME--'), ('1058-026', 10, 12, 'American_League'), ('1058-026', 16, 17, 'Seattle_Mariners'), ('1036-014', 0, 1, '--NME--'), ('1036-014', 3, 4, 'Norway'), ('1036-014', 6, 9, '--NME--'), ('0948-038', 0, 2, '--NME--'), ('0948-038', 3, 4, 'Scotland_national_rugby_union_team'), ('1026-002', 3, 4, '--NME--'), ('1026-002', 7, 8, 'Egypt'), ('1026-002', 12, 17, '--NME--'), ('1026-002', 23, 24, '--NME--'), ('1017-003', 1, 2, 'Guinea_national_football_team'), ('1017-003', 12, 15, '--NME--'), ('1017-003', 21, 23, 'Air_France'), ('1017-003', 25, 26, 'Conakry'), ('1017-003', 34, 37, '--NME--'), ('1017-003', 37, 40, '--NME--'), ('1051-010', 0, 1, '--NME--'), ('1051-010', 3, 5, '--NME--'), ('1051-010', 8, 10, '--NME--'), ('1051-010', 10, 12, '--NME--'), ('1051-010', 15, 17, '--NME--'), ('1051-010', 18, 19, 'Australia_national_cricket_team'), ('1051-010', 20, 22, '--NME--'), ('1051-010', 25, 27, 'Mark_Roe'), ('1051-010', 27, 28, '--NME--'), ('1051-010', 28, 31, '--NME--'), ('1051-010', 32, 34, '--NME--'), ('1051-010', 35, 36, 'Australia_national_cricket_team'), ('1051-010', 37, 39, '--NME--'), ('1051-010', 40, 41, '--NME--'), ('1141-000', 0, 1, 'China'), ('1008-027', 0, 5, '--NME--'), ('1008-027', 5, 6, '--NME--'), ('1008-027', 14, 15, '--NME--'), ('1008-027', 21, 22, '--NME--'), ('1008-027', 23, 24, '--NME--'), ('1008-027', 25, 26, '--NME--'), ('0957-020', 5, 6, 'World_War_II'), ('0957-020', 7, 10, '--NME--'), ('0957-020', 12, 13, '--NME--'), ('0957-020', 15, 17, 'Jiří_Novák'), ('0957-020', 18, 20, 'Czech_Republic'), ('0957-020', 26, 28, 'Paul_Haarhuis'), ('0957-020', 29, 30, 'Netherlands_national_football_team'), ('0957-020', 32, 34, 'Michael_Tebbutt'), ('0957-020', 35, 36, 'Australia_national_cricket_team'), ('0957-020', 38, 40, '--NME--'), ('1010-003', 2, 3, '--NME--'), ('1010-003', 11, 13, '--NME--'), ('1010-003', 15, 16, '--NME--'), ('1035-008', 0, 1, 'Azerbaijan'), ('1035-008', 10, 11, '--NME--'), ('1035-008', 12, 13, 'Armenia'), ('1035-008', 21, 22, 'Armenia'), ('1060-022', 1, 4, 'Miguel_Ángel_Martín_(golfer)'), ('1060-022', 5, 6, 'Spain_Fed_Cup_team'), ('1060-022', 7, 8, '--NME--'), ('1161-007', 7, 9, '--NME--'), ('1161-007', 10, 12, '--NME--'), ('1161-007', 13, 15, '--NME--'), ('1139-008', 0, 1, '--NME--'), ('1139-008', 4, 6, '--NME--'), ('1139-008', 20, 21, 'Beijing'), ('1139-008', 22, 24, 'Tiananmen_Square'), ('1139-008', 25, 29, '--NME--'), ('0965-007', 0, 2, '--NME--'), ('0965-007', 2, 3, 'Dennis_Mitchell'), ('0965-007', 6, 7, '--NME--'), ('0965-007', 8, 11, '--NME--'), ('0965-007', 16, 17, 'Summer_Olympic_Games'), ('0965-007', 19, 20, 'Donovan_Bailey'), ('0965-007', 23, 24, '--NME--'), ('0965-007', 25, 26, 'Brussels'), ('0991-006', 0, 1, 'Alexander_Lebed'), ('0991-006', 4, 5, 'Aslan_Maskhadov'), ('0991-006', 9, 13, '--NME--'), ('0991-006', 17, 18, 'Chechnya')]\n"
     ]
    }
   ],
   "source": [
    "# TODO: Write code here to implement the context-sensitive disambiguation method\n",
    "cs_pred=[]\n",
    "for x in pred_df.itertuples():\n",
    "    doc = nlp(x[2])\n",
    "    for ent in doc.ents:\n",
    "        tmp_str=[]\n",
    "        for i in range(ent.start,ent.end):\n",
    "            tmp_str.append(doc[i].text)\n",
    "        tmp_str=\" \".join(tmp_str)\n",
    "        tmp_df=df_kb.loc[df_kb.mention == tmp_str]\n",
    "        try:\n",
    "            cs_pred.append((x[1],ent.start,ent.end,classifiers[tmp_str].predict([x[2]])[0]))\n",
    "        except KeyError:\n",
    "            if len(tmp_df)!=0:\n",
    "                cs_pred.append((x[1],ent.start,ent.end,tmp_df.iloc[0].entity))\n",
    "            else:\n",
    "                cs_pred.append((x[1],ent.start,ent.end,\"--NME--\"))\n",
    "print(cs_pred)\n",
    "\n",
    "\n",
    "# cs_pred=[]\n",
    "# for x in pred_df.itertuples():\n",
    "#     doc = nlp(x[2])\n",
    "#     for ent in doc.ents:\n",
    "#         tmp_str=[]\n",
    "#         for i in range(ent.start,ent.end):\n",
    "#             tmp_str.append(doc[i].text)\n",
    "#     tmp_str=\" \".join(tmp_str)\n",
    "#     try:\n",
    "#         cs_pred.append((x[1],ent.start,ent.end,classifiers[tmp_str].predict([x[2]])[0]))\n",
    "#     except KeyError:\n",
    "#         cs_pred.append((x[1],ent.start,ent.end,\"--NME--\"))\n",
    "\n",
    "# print(cs_pred)"
   ]
  },
  {
   "cell_type": "code",
   "execution_count": 166,
   "metadata": {},
   "outputs": [
    {
     "name": "stdout",
     "output_type": "stream",
     "text": [
      "39.85210616664466 51.00557715058307 44.744255003706456\n"
     ]
    }
   ],
   "source": [
    "evaluation_report(set(gold_mentions(df_dev)),set(cs_pred))\n"
   ]
  },
  {
   "cell_type": "markdown",
   "metadata": {},
   "source": [
    "You should expect to see a small (around 1&nbsp;unit) increase in both precision, recall, and F1."
   ]
  },
  {
   "cell_type": "markdown",
   "metadata": {},
   "source": [
    "**This was the last lab in the Text Mining course. Congratulations!**"
   ]
  },
  {
   "cell_type": "markdown",
   "metadata": {},
   "source": [
    "<div class=\"alert alert-info\">\n",
    "    Please read the section ‘General information’ on the ‘Labs’ page of the course website before submitting this notebook!\n",
    "</div>"
   ]
  }
 ],
 "metadata": {
  "kernelspec": {
   "display_name": "Python 2",
   "language": "python",
   "name": "python2"
  },
  "language_info": {
   "codemirror_mode": {
    "name": "ipython",
    "version": 3
   },
   "file_extension": ".py",
   "mimetype": "text/x-python",
   "name": "python",
   "nbconvert_exporter": "python",
   "pygments_lexer": "ipython3",
   "version": "3.6.9"
  }
 },
 "nbformat": 4,
 "nbformat_minor": 2
}
